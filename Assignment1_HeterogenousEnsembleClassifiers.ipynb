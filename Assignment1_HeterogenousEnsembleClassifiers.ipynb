{
 "cells": [
  {
   "cell_type": "code",
   "execution_count": null,
   "metadata": {},
   "outputs": [],
   "source": []
  },
  {
   "cell_type": "markdown",
   "metadata": {},
   "source": [
    "# COMP47590: Advanced Machine Learning\n",
    "# Assignment 1: Building Heterogenous Ensembles"
   ]
  },
  {
   "cell_type": "markdown",
   "metadata": {},
   "source": [
    "- Student 1 Name: Finola Cahill\n",
    "- Student 1 Number: 07645074"
   ]
  },
  {
   "cell_type": "markdown",
   "metadata": {},
   "source": [
    "## Import Packages"
   ]
  },
  {
   "cell_type": "code",
   "execution_count": 1007,
   "metadata": {},
   "outputs": [],
   "source": [
    "import pandas as pd\n",
    "import numpy as np\n",
    "import matplotlib.pyplot as plt\n",
    "%matplotlib inline\n",
    "import math\n",
    "\n",
    "from sklearn.model_selection import GridSearchCV\n",
    "from sklearn.model_selection import cross_val_score\n",
    "from sklearn.model_selection import train_test_split\n",
    "from sklearn.base import BaseEstimator, ClassifierMixin\n",
    "from sklearn.linear_model import LinearRegression as LR\n",
    "from sklearn.utils.validation import check_X_y, check_array, check_is_fitted, check_random_state\n",
    "from sklearn.utils.multiclass import unique_labels\n",
    "from sklearn import tree\n",
    "from sklearn import svm\n",
    "from sklearn import ensemble\n",
    "from sklearn import linear_model\n",
    "from sklearn import neighbors\n",
    "from sklearn import preprocessing\n",
    "from sklearn import metrics\n",
    "from sklearn.model_selection import GridSearchCV\n",
    "from sklearn.model_selection import cross_val_score\n",
    "from sklearn.model_selection import train_test_split\n",
    "from sklearn.base import is_classifier\n",
    "from sklearn.utils import resample\n",
    "from sklearn.base import clone\n",
    "from sklearn.datasets import load_iris\n",
    "import itertools\n",
    "from itertools import chain, combinations\n",
    "import random\n",
    "from copy import copy\n",
    "from scipy import stats\n",
    "from collections import Counter\n",
    "import collections\n",
    "from sklearn.metrics import recall_score\n",
    "import matplotlib.patches as mpatches\n",
    "from statistics import mean\n",
    "import warnings\n",
    "warnings.filterwarnings('ignore')"
   ]
  },
  {
   "cell_type": "markdown",
   "metadata": {},
   "source": [
    "## Task 1: The Heterogenous Ensemble Classifier"
   ]
  },
  {
   "cell_type": "markdown",
   "metadata": {},
   "source": [
    "### Define HeterogenousEnsembleClassifier"
   ]
  },
  {
   "cell_type": "code",
   "execution_count": 967,
   "metadata": {},
   "outputs": [],
   "source": [
    "# Create a new classifier which is based on the sckit-learn BaseEstimator and ClassifierMixin classes\n",
    "class HeterogenousEnsembleClassifier(BaseEstimator, ClassifierMixin):\n",
    "    \n",
    "    \"\"\"An ensemble classifier that uses heterogeneous models at the base layer. Base models are different due to different hyper-parameters used.\n",
    "\n",
    "    Parameters\n",
    "    ----------\n",
    "    base_estimator: scikit-learn estimator \n",
    "        The model type to be used at the base layer of the ensemble model.\n",
    "\n",
    "    hp_range_map: dictionary\n",
    "        A dictinary of hyperparamters and the ranges of values that will be used from them\n",
    "        \n",
    "    n_estimators: int\n",
    "        How many models to use in the ensemble\n",
    "        \n",
    "    bootstrap: boolean\n",
    "        Wheter or not to use bootstrap sampling when training base estimators\n",
    "    \n",
    "    Attributes\n",
    "    ----------\n",
    "    classes_ : array of shape = [n_classes] \n",
    "        The classes labels.\n",
    "\n",
    "\n",
    "    Notes\n",
    "    -----\n",
    "    The default values for most base learners are used, unless hyperparameter ranges are specified\n",
    "\n",
    "    See also\n",
    "    --------\n",
    "    \n",
    "\n",
    "    Examples\n",
    "    --------\n",
    "    >>> from sklearn.datasets import load_iris\n",
    "    >>> from sklearn.model_selection import cross_val_score\n",
    "    >>> clf = HeterogenousEnsembleClassifier(tree.DecisionTreeClassifier(), {'max_depth':[5, 10, 15], })\n",
    "    >>> iris = load_iris()\n",
    "    >>> cross_val_score(clf, iris.data, iris.target, cv=10)\n",
    "\n",
    "    \"\"\"\n",
    "    # Constructor for the classifier object\n",
    "    def __init__(self, base_estimator = svm.SVC(), n_estimators = 10, hp_range_map = None, bootstrap = True, random_state=None, verbosity = 0):\n",
    "\n",
    "        \"\"\"Setup a SuperLearner classifier .\n",
    "        Parameters\n",
    "        ----------\n",
    "        base_estimator: The model type to be used at the base layer of the ensemble model.\n",
    "        hp_range_map: A dictinary of hyperparamters and the ranges of values that will be used from them\n",
    "        n_estimators: How many models to use in the ensemble\n",
    "        bootstrap: Wheter or not to use bootstrap sampling when training base estimators\n",
    "        \n",
    "        Returns\n",
    "        -------\n",
    "        The estimator\n",
    "        \"\"\"     \n",
    "\n",
    "        # Initialise ranomd state if set\n",
    "        self.random_state = random_state\n",
    "        \n",
    "        # Initialise class variabels\n",
    "        self.base_estimator = base_estimator\n",
    "        self.hp_range_map = hp_range_map\n",
    "        self.n_estimators = n_estimators\n",
    "        self.bootstrap = bootstrap\n",
    "        self.verbosity = verbosity\n",
    "        \n",
    "    \n",
    "    def validate_parameters(self):\n",
    "        if self.n_estimators < 1:\n",
    "             raise ValueError(\"n_estimators must be >= 1\")\n",
    "        if is_classifier(self.base_estimator) is False:\n",
    "            raise ValueError(\"base_estimator must be a classifier\")\n",
    "        if self.verbosity not in range(0,3):\n",
    "            raise ValueError(\"verbosity has three levels, from 0-2\")\n",
    "        if self.hp_range_map is None:\n",
    "            self.hp_range_map = {}          \n",
    "\n",
    "    # The fit function to train a classifier\n",
    "    def fit(self, X, y):\n",
    "        \n",
    "        self.validate_parameters()\n",
    "        \n",
    "        def checkBootstrap(X, y):\n",
    "            if self.bootstrap is True:\n",
    "                return resample(X,y, replace=True)\n",
    "            return X,y \n",
    "                \n",
    "        def checkValue(value):\n",
    "            if type(value) is np.ndarray:\n",
    "                value = value.tolist()\n",
    "            elif type(value) is not list:\n",
    "                value = [value]\n",
    "            return value + [None]\n",
    "        \n",
    "        def generate_param_combinations():\n",
    "            params = []\n",
    "            for key, value in self.hp_range_map.items():\n",
    "                params.append(checkValue(value))\n",
    "                self.keys_.append(key)\n",
    "            product = itertools.product(*params)\n",
    "            self.params_ = [ [ p for p in params ] for params in product ]\n",
    "            if self.verbosity == 2:\n",
    "                print(\"{} number of parameter combinations generated for hyperparameter range {}.\".format(len(self.params), self.hp_range_map))\n",
    "        \n",
    "        \n",
    "        def extract_params(n):\n",
    "            params = {}\n",
    "            for i,key in enumerate(self.keys_):\n",
    "                if self.params_[n][i] is not None:\n",
    "                    params[key] = self.params_[n][i]\n",
    "            return params\n",
    "    \n",
    "        def fit_models(X, y):\n",
    "            for i in range(0, self.n_estimators):\n",
    "                X_train, y_train = checkBootstrap(X, y)\n",
    "                params = extract_params(random.randint(0, (len(self.params_)-1)))\n",
    "                clf = copy(self.base_estimator).set_params(**params)\n",
    "                if self.verbosity == 2:\n",
    "                    print(\"Fitting model {} with parameters: {}\".format(i+1, params))\n",
    "                self.models_.append(clf.fit(X_train, y_train))\n",
    "            if self.verbosity > 0:\n",
    "                print(\"{} models fitted with base estimator {}.\".format(i+1, self.base_estimator.__class__.__name__))\n",
    "        \n",
    "        # Check that X and y have correct shape\n",
    "        X, y = check_X_y(X, y)\n",
    "        \n",
    "        random.seed(self.random_state)\n",
    "        \n",
    "        self.params_, self.keys_, self.models_ = [], [], []\n",
    "        \n",
    "       #  Count the number of occurrences of each class in the target vector (uses mupy unique function that returns a list of unique values and their counts)\n",
    "        self.classes_ = np.unique(y)\n",
    "        \n",
    "        generate_param_combinations()\n",
    "        \n",
    "        fit_models(X,y)\n",
    "    \n",
    "        return self\n",
    "\n",
    "#     # The predict function to make a set of predictions for a set of query instances\n",
    "    def ensemble_predict(self, X):\n",
    "        for i, model in enumerate(self.models_):\n",
    "            self.ensemble_predictions_.append(np.array(model.predict(X)))\n",
    "            if self.verbosity == 2:\n",
    "                print('Model no. {} {} predict completed.'.format(i+1, model))\n",
    "        if self.verbosity == 1:\n",
    "            print(\"Predict completed for {} models \".format(i+1))\n",
    "        self.ensemble_predictions_ = np.asarray(self.ensemble_predictions_)\n",
    "    \n",
    "    def predict(self, X):\n",
    "        \n",
    "        self.ensemble_predictions_ = []\n",
    "                \n",
    "        def select_most_frequent(row, query_number):\n",
    "            freq, maxi = {}, 0\n",
    "            prediction, count = np.unique(row, return_counts=True)\n",
    "            for i,v in enumerate(count):\n",
    "                freq[v] = freq.get(v, []) + [prediction[i]]\n",
    "                maxi = max(maxi, v)\n",
    "            return get_mode(freq,maxi, query_number)\n",
    "        \n",
    "        def interpret_predictions():\n",
    "            if self.verbosity == 2:\n",
    "                print(\"Aggregating ensemble predictions.\")\n",
    "            final_prediction = []\n",
    "            for i,row in enumerate(self.ensemble_predictions_.transpose()):\n",
    "                final_prediction += select_most_frequent(row, i)\n",
    "            if self.verbosity == 1:\n",
    "                print(\"Results aggregated for {} queries\".format(i+1))\n",
    "            return final_prediction\n",
    "    \n",
    "        def get_mode(frequency, maxi, i):\n",
    "            if len(frequency[maxi]) > 1:\n",
    "                if self.verbosity == 2:\n",
    "                    print(\"Multiple maximums for query {}, will select at random from {}\".\n",
    "                         format(i+1, frequency[maxi]))\n",
    "                return [frequency[maxi][(random.randint(0, (len(frequency[maxi])-1)))]]\n",
    "            return frequency[maxi]\n",
    "    \n",
    "        check_is_fitted(self, ['models_'])\n",
    "        \n",
    "        # Check that the input features match the type and shape of the training features\n",
    "        X = check_array(X)\n",
    "    \n",
    "     #   self.ensemble_predictions_ = np.array([model.predict(X) for model in self.models])\n",
    "        self.ensemble_predict(X)\n",
    "        \n",
    "        return np.array(interpret_predictions())\n",
    "\n",
    "    #     # The predict function to make a set of predictions for a set of query instances\n",
    "    def predict_proba(self, X):\n",
    "        \n",
    "        self.probs_, self.ensemble_predictions_ = [], []\n",
    "\n",
    "        def calculate_probabilities():\n",
    "            if self.verbosity > 0:\n",
    "                print(\"Calculating probabilities from ensemble predictions\")\n",
    "            for p in self.ensemble_predictions_.transpose():\n",
    "                key, val = np.unique(p, return_counts=True)\n",
    "                counts = dict(zip(key, val))\n",
    "                self.probs_.append([(counts[c] / len(p)) if c in counts else 0.0 for c in self.classes_])\n",
    "            if self.verbosity > 0:\n",
    "                print(\"Probabilities calculated for {} queries and {} classes\".format(len(self.probs_), len(self.classes_)))\n",
    "        \n",
    "        check_is_fitted(self, ['models_'])\n",
    "        \n",
    "        X = check_array(X)   \n",
    "        \n",
    "        self.ensemble_predict(X)\n",
    "        \n",
    "        calculate_probabilities()\n",
    "        \n",
    "        return np.array(self.probs_)"
   ]
  },
  {
   "cell_type": "markdown",
   "metadata": {},
   "source": [
    "### Test the HeterogenousEnsembleClassifier"
   ]
  },
  {
   "cell_type": "code",
   "execution_count": 968,
   "metadata": {},
   "outputs": [
    {
     "name": "stdout",
     "output_type": "stream",
     "text": [
      "40 models fitted with base estimator SVC.\n",
      "Predict completed for 40 models \n",
      "Calculating probabilities from ensemble predictions\n",
      "Probabilities calculated for 150 queries and 3 classes\n"
     ]
    },
    {
     "data": {
      "text/plain": [
       "array([[1.   , 0.   , 0.   ],\n",
       "       [1.   , 0.   , 0.   ],\n",
       "       [1.   , 0.   , 0.   ],\n",
       "       [1.   , 0.   , 0.   ],\n",
       "       [1.   , 0.   , 0.   ],\n",
       "       [1.   , 0.   , 0.   ],\n",
       "       [1.   , 0.   , 0.   ],\n",
       "       [1.   , 0.   , 0.   ],\n",
       "       [1.   , 0.   , 0.   ],\n",
       "       [1.   , 0.   , 0.   ],\n",
       "       [1.   , 0.   , 0.   ],\n",
       "       [1.   , 0.   , 0.   ],\n",
       "       [1.   , 0.   , 0.   ],\n",
       "       [1.   , 0.   , 0.   ],\n",
       "       [1.   , 0.   , 0.   ],\n",
       "       [1.   , 0.   , 0.   ],\n",
       "       [1.   , 0.   , 0.   ],\n",
       "       [1.   , 0.   , 0.   ],\n",
       "       [1.   , 0.   , 0.   ],\n",
       "       [1.   , 0.   , 0.   ],\n",
       "       [1.   , 0.   , 0.   ],\n",
       "       [1.   , 0.   , 0.   ],\n",
       "       [1.   , 0.   , 0.   ],\n",
       "       [1.   , 0.   , 0.   ],\n",
       "       [1.   , 0.   , 0.   ],\n",
       "       [1.   , 0.   , 0.   ],\n",
       "       [1.   , 0.   , 0.   ],\n",
       "       [1.   , 0.   , 0.   ],\n",
       "       [1.   , 0.   , 0.   ],\n",
       "       [1.   , 0.   , 0.   ],\n",
       "       [1.   , 0.   , 0.   ],\n",
       "       [1.   , 0.   , 0.   ],\n",
       "       [1.   , 0.   , 0.   ],\n",
       "       [1.   , 0.   , 0.   ],\n",
       "       [1.   , 0.   , 0.   ],\n",
       "       [1.   , 0.   , 0.   ],\n",
       "       [1.   , 0.   , 0.   ],\n",
       "       [1.   , 0.   , 0.   ],\n",
       "       [1.   , 0.   , 0.   ],\n",
       "       [1.   , 0.   , 0.   ],\n",
       "       [1.   , 0.   , 0.   ],\n",
       "       [1.   , 0.   , 0.   ],\n",
       "       [1.   , 0.   , 0.   ],\n",
       "       [1.   , 0.   , 0.   ],\n",
       "       [1.   , 0.   , 0.   ],\n",
       "       [1.   , 0.   , 0.   ],\n",
       "       [1.   , 0.   , 0.   ],\n",
       "       [1.   , 0.   , 0.   ],\n",
       "       [1.   , 0.   , 0.   ],\n",
       "       [1.   , 0.   , 0.   ],\n",
       "       [0.   , 1.   , 0.   ],\n",
       "       [0.   , 1.   , 0.   ],\n",
       "       [0.   , 1.   , 0.   ],\n",
       "       [0.   , 1.   , 0.   ],\n",
       "       [0.   , 1.   , 0.   ],\n",
       "       [0.   , 1.   , 0.   ],\n",
       "       [0.   , 1.   , 0.   ],\n",
       "       [0.   , 1.   , 0.   ],\n",
       "       [0.   , 1.   , 0.   ],\n",
       "       [0.   , 1.   , 0.   ],\n",
       "       [0.   , 1.   , 0.   ],\n",
       "       [0.   , 1.   , 0.   ],\n",
       "       [0.   , 1.   , 0.   ],\n",
       "       [0.   , 1.   , 0.   ],\n",
       "       [0.   , 1.   , 0.   ],\n",
       "       [0.   , 1.   , 0.   ],\n",
       "       [0.   , 1.   , 0.   ],\n",
       "       [0.   , 1.   , 0.   ],\n",
       "       [0.   , 1.   , 0.   ],\n",
       "       [0.   , 1.   , 0.   ],\n",
       "       [0.   , 0.7  , 0.3  ],\n",
       "       [0.   , 1.   , 0.   ],\n",
       "       [0.   , 0.725, 0.275],\n",
       "       [0.   , 1.   , 0.   ],\n",
       "       [0.   , 1.   , 0.   ],\n",
       "       [0.   , 1.   , 0.   ],\n",
       "       [0.   , 1.   , 0.   ],\n",
       "       [0.   , 0.375, 0.625],\n",
       "       [0.   , 1.   , 0.   ],\n",
       "       [0.   , 1.   , 0.   ],\n",
       "       [0.   , 1.   , 0.   ],\n",
       "       [0.   , 1.   , 0.   ],\n",
       "       [0.   , 1.   , 0.   ],\n",
       "       [0.   , 0.15 , 0.85 ],\n",
       "       [0.   , 1.   , 0.   ],\n",
       "       [0.   , 1.   , 0.   ],\n",
       "       [0.   , 1.   , 0.   ],\n",
       "       [0.   , 1.   , 0.   ],\n",
       "       [0.   , 1.   , 0.   ],\n",
       "       [0.   , 1.   , 0.   ],\n",
       "       [0.   , 1.   , 0.   ],\n",
       "       [0.   , 1.   , 0.   ],\n",
       "       [0.   , 1.   , 0.   ],\n",
       "       [0.   , 1.   , 0.   ],\n",
       "       [0.   , 1.   , 0.   ],\n",
       "       [0.   , 1.   , 0.   ],\n",
       "       [0.   , 1.   , 0.   ],\n",
       "       [0.   , 1.   , 0.   ],\n",
       "       [0.   , 1.   , 0.   ],\n",
       "       [0.   , 1.   , 0.   ],\n",
       "       [0.   , 0.   , 1.   ],\n",
       "       [0.   , 0.   , 1.   ],\n",
       "       [0.   , 0.   , 1.   ],\n",
       "       [0.   , 0.   , 1.   ],\n",
       "       [0.   , 0.   , 1.   ],\n",
       "       [0.   , 0.   , 1.   ],\n",
       "       [0.   , 0.75 , 0.25 ],\n",
       "       [0.   , 0.   , 1.   ],\n",
       "       [0.   , 0.   , 1.   ],\n",
       "       [0.   , 0.   , 1.   ],\n",
       "       [0.   , 0.   , 1.   ],\n",
       "       [0.   , 0.   , 1.   ],\n",
       "       [0.   , 0.   , 1.   ],\n",
       "       [0.   , 0.   , 1.   ],\n",
       "       [0.   , 0.   , 1.   ],\n",
       "       [0.   , 0.   , 1.   ],\n",
       "       [0.   , 0.   , 1.   ],\n",
       "       [0.   , 0.   , 1.   ],\n",
       "       [0.   , 0.   , 1.   ],\n",
       "       [0.   , 0.325, 0.675],\n",
       "       [0.   , 0.   , 1.   ],\n",
       "       [0.   , 0.05 , 0.95 ],\n",
       "       [0.   , 0.   , 1.   ],\n",
       "       [0.   , 0.2  , 0.8  ],\n",
       "       [0.   , 0.   , 1.   ],\n",
       "       [0.   , 0.   , 1.   ],\n",
       "       [0.   , 0.5  , 0.5  ],\n",
       "       [0.   , 0.325, 0.675],\n",
       "       [0.   , 0.   , 1.   ],\n",
       "       [0.   , 0.   , 1.   ],\n",
       "       [0.   , 0.   , 1.   ],\n",
       "       [0.   , 0.   , 1.   ],\n",
       "       [0.   , 0.   , 1.   ],\n",
       "       [0.   , 0.325, 0.675],\n",
       "       [0.   , 0.   , 1.   ],\n",
       "       [0.   , 0.   , 1.   ],\n",
       "       [0.   , 0.   , 1.   ],\n",
       "       [0.   , 0.   , 1.   ],\n",
       "       [0.   , 0.575, 0.425],\n",
       "       [0.   , 0.   , 1.   ],\n",
       "       [0.   , 0.   , 1.   ],\n",
       "       [0.   , 0.   , 1.   ],\n",
       "       [0.   , 0.   , 1.   ],\n",
       "       [0.   , 0.   , 1.   ],\n",
       "       [0.   , 0.   , 1.   ],\n",
       "       [0.   , 0.   , 1.   ],\n",
       "       [0.   , 0.   , 1.   ],\n",
       "       [0.   , 0.   , 1.   ],\n",
       "       [0.   , 0.   , 1.   ],\n",
       "       [0.   , 0.025, 0.975]])"
      ]
     },
     "execution_count": 968,
     "metadata": {},
     "output_type": "execute_result"
    }
   ],
   "source": [
    "from sklearn.datasets import load_iris\n",
    "from sklearn.model_selection import cross_val_score\n",
    "iris = load_iris()\n",
    "clf = HeterogenousEnsembleClassifier(n_estimators=40, verbosity = 1)\n",
    "clf.fit(iris.data, iris.target)\n",
    "# clf.predict(iris.data)\n",
    "clf.predict_proba(iris.data)\n",
    "# print(x.shape)"
   ]
  },
  {
   "cell_type": "markdown",
   "metadata": {},
   "source": [
    "Perform a simple test using the HeterogenousEnsembleClassifier on the Iris dataset"
   ]
  },
  {
   "cell_type": "code",
   "execution_count": 859,
   "metadata": {
    "scrolled": false
   },
   "outputs": [
    {
     "name": "stdout",
     "output_type": "stream",
     "text": [
      "36 number of parameter combinations generated for hyperparameter range {'kernel': ['rbf', 'linear'], 'C': array([0.1]), 'gamma': [0.1, 0.5], 'probability': [True]}.\n",
      "Fitting model 1 with parameters: {'probability': True}\n",
      "Fitting model 2 with parameters: {'C': 0.1, 'gamma': 0.5, 'probability': True}\n",
      "Fitting model 3 with parameters: {'probability': True}\n",
      "Fitting model 4 with parameters: {'kernel': 'rbf', 'gamma': 0.5}\n",
      "Fitting model 5 with parameters: {'kernel': 'rbf', 'C': 0.1, 'probability': True}\n",
      "Fitting model 6 with parameters: {'kernel': 'linear', 'C': 0.1}\n",
      "Fitting model 7 with parameters: {'kernel': 'linear', 'gamma': 0.1, 'probability': True}\n",
      "Fitting model 8 with parameters: {'kernel': 'rbf', 'C': 0.1, 'gamma': 0.5, 'probability': True}\n",
      "Fitting model 9 with parameters: {'C': 0.1, 'gamma': 0.5, 'probability': True}\n",
      "Fitting model 10 with parameters: {'kernel': 'linear'}\n",
      "10 models fitted with base estimator SVC.\n",
      "Model no. 1 SVC(probability=True) predict completed.\n",
      "Model no. 2 SVC(C=0.1, gamma=0.5, probability=True) predict completed.\n",
      "Model no. 3 SVC(probability=True) predict completed.\n",
      "Model no. 4 SVC(gamma=0.5) predict completed.\n",
      "Model no. 5 SVC(C=0.1, probability=True) predict completed.\n",
      "Model no. 6 SVC(C=0.1, kernel='linear') predict completed.\n",
      "Model no. 7 SVC(gamma=0.1, kernel='linear', probability=True) predict completed.\n",
      "Model no. 8 SVC(C=0.1, gamma=0.5, probability=True) predict completed.\n",
      "Model no. 9 SVC(C=0.1, gamma=0.5, probability=True) predict completed.\n",
      "Model no. 10 SVC(kernel='linear') predict completed.\n",
      "Aggregating ensemble predictions.\n",
      "              precision    recall  f1-score   support\n",
      "\n",
      "           0       1.00      1.00      1.00        50\n",
      "           1       0.98      0.96      0.97        50\n",
      "           2       0.96      0.98      0.97        50\n",
      "\n",
      "    accuracy                           0.98       150\n",
      "   macro avg       0.98      0.98      0.98       150\n",
      "weighted avg       0.98      0.98      0.98       150\n",
      "\n",
      "Confusion Matrix\n"
     ]
    },
    {
     "data": {
      "text/html": [
       "<div>\n",
       "<style scoped>\n",
       "    .dataframe tbody tr th:only-of-type {\n",
       "        vertical-align: middle;\n",
       "    }\n",
       "\n",
       "    .dataframe tbody tr th {\n",
       "        vertical-align: top;\n",
       "    }\n",
       "\n",
       "    .dataframe thead th {\n",
       "        text-align: right;\n",
       "    }\n",
       "</style>\n",
       "<table border=\"1\" class=\"dataframe\">\n",
       "  <thead>\n",
       "    <tr style=\"text-align: right;\">\n",
       "      <th>Predicted</th>\n",
       "      <th>0</th>\n",
       "      <th>1</th>\n",
       "      <th>2</th>\n",
       "      <th>All</th>\n",
       "    </tr>\n",
       "    <tr>\n",
       "      <th>True</th>\n",
       "      <th></th>\n",
       "      <th></th>\n",
       "      <th></th>\n",
       "      <th></th>\n",
       "    </tr>\n",
       "  </thead>\n",
       "  <tbody>\n",
       "    <tr>\n",
       "      <th>0</th>\n",
       "      <td>50</td>\n",
       "      <td>0</td>\n",
       "      <td>0</td>\n",
       "      <td>50</td>\n",
       "    </tr>\n",
       "    <tr>\n",
       "      <th>1</th>\n",
       "      <td>0</td>\n",
       "      <td>48</td>\n",
       "      <td>2</td>\n",
       "      <td>50</td>\n",
       "    </tr>\n",
       "    <tr>\n",
       "      <th>2</th>\n",
       "      <td>0</td>\n",
       "      <td>1</td>\n",
       "      <td>49</td>\n",
       "      <td>50</td>\n",
       "    </tr>\n",
       "    <tr>\n",
       "      <th>All</th>\n",
       "      <td>50</td>\n",
       "      <td>49</td>\n",
       "      <td>51</td>\n",
       "      <td>150</td>\n",
       "    </tr>\n",
       "  </tbody>\n",
       "</table>\n",
       "</div>"
      ],
      "text/plain": [
       "Predicted   0   1   2  All\n",
       "True                      \n",
       "0          50   0   0   50\n",
       "1           0  48   2   50\n",
       "2           0   1  49   50\n",
       "All        50  49  51  150"
      ]
     },
     "metadata": {},
     "output_type": "display_data"
    },
    {
     "name": "stdout",
     "output_type": "stream",
     "text": [
      "Model no. 1 SVC(probability=True) predict completed.\n",
      "Model no. 2 SVC(C=0.1, gamma=0.5, probability=True) predict completed.\n",
      "Model no. 3 SVC(probability=True) predict completed.\n",
      "Model no. 4 SVC(gamma=0.5) predict completed.\n",
      "Model no. 5 SVC(C=0.1, probability=True) predict completed.\n",
      "Model no. 6 SVC(C=0.1, kernel='linear') predict completed.\n",
      "Model no. 7 SVC(gamma=0.1, kernel='linear', probability=True) predict completed.\n",
      "Model no. 8 SVC(C=0.1, gamma=0.5, probability=True) predict completed.\n",
      "Model no. 9 SVC(C=0.1, gamma=0.5, probability=True) predict completed.\n",
      "Model no. 10 SVC(kernel='linear') predict completed.\n",
      "Calculating probabilities from ensemble predictions\n",
      "Probabilities calculated for 150 queries and 3 classes\n",
      "Model no. 1 SVC(probability=True) predict completed.\n",
      "Model no. 2 SVC(C=0.1, gamma=0.5, probability=True) predict completed.\n",
      "Model no. 3 SVC(probability=True) predict completed.\n",
      "Model no. 4 SVC(gamma=0.5) predict completed.\n",
      "Model no. 5 SVC(C=0.1, probability=True) predict completed.\n",
      "Model no. 6 SVC(C=0.1, kernel='linear') predict completed.\n",
      "Model no. 7 SVC(gamma=0.1, kernel='linear', probability=True) predict completed.\n",
      "Model no. 8 SVC(C=0.1, gamma=0.5, probability=True) predict completed.\n",
      "Model no. 9 SVC(C=0.1, gamma=0.5, probability=True) predict completed.\n",
      "Model no. 10 SVC(kernel='linear') predict completed.\n",
      "Aggregating ensemble predictions.\n"
     ]
    }
   ],
   "source": [
    "iris = load_iris()\n",
    "base_estimator = svm.SVC()\n",
    "hyperparam_range = {\"kernel\":[\"rbf\", \"linear\"], \"C\":np.arange(0.1, 1.0, 10), \"gamma\":[0.1, 0.5], \"probability\":[True]}\n",
    "n_estimators = 10\n",
    "clf = HeterogenousEnsembleClassifier(base_estimator, n_estimators, hyperparam_range, verbosity = 2)\n",
    "clf.fit(iris.data, iris.target)\n",
    "y_pred = clf.predict(iris.data)\n",
    "print(metrics.classification_report(iris.target, y_pred))\n",
    "print(\"Confusion Matrix\")\n",
    "display(pd.crosstab(np.array(iris.target), y_pred, rownames=['True'], colnames=['Predicted'], margins=True))\n",
    "y_pred = clf.predict_proba(iris.data)\n",
    "y_pred2 = clf.predict(iris.data)\n"
   ]
  },
  {
   "cell_type": "markdown",
   "metadata": {},
   "source": [
    "Perform a cross validation experiment"
   ]
  },
  {
   "cell_type": "code",
   "execution_count": 860,
   "metadata": {},
   "outputs": [
    {
     "name": "stdout",
     "output_type": "stream",
     "text": [
      "36 number of parameter combinations generated for hyperparameter range {'kernel': ['rbf', 'linear'], 'C': array([0.1]), 'gamma': [0.1, 0.5], 'probability': [True]}.\n",
      "Fitting model 1 with parameters: {'C': 0.1, 'probability': True}\n",
      "Fitting model 2 with parameters: {'kernel': 'linear', 'gamma': 0.1, 'probability': True}\n",
      "Fitting model 3 with parameters: {'kernel': 'linear', 'C': 0.1, 'probability': True}\n",
      "Fitting model 4 with parameters: {'gamma': 0.1}\n",
      "Fitting model 5 with parameters: {}\n",
      "Fitting model 6 with parameters: {'C': 0.1, 'probability': True}\n",
      "Fitting model 7 with parameters: {'kernel': 'linear', 'gamma': 0.1, 'probability': True}\n",
      "Fitting model 8 with parameters: {'C': 0.1, 'gamma': 0.1, 'probability': True}\n",
      "Fitting model 9 with parameters: {'kernel': 'linear', 'gamma': 0.1}\n",
      "Fitting model 10 with parameters: {'kernel': 'linear', 'C': 0.1, 'gamma': 0.1, 'probability': True}\n",
      "10 models fitted with base estimator SVC.\n",
      "Model no. 1 SVC(C=0.1, probability=True) predict completed.\n",
      "Model no. 2 SVC(gamma=0.1, kernel='linear', probability=True) predict completed.\n",
      "Model no. 3 SVC(C=0.1, kernel='linear', probability=True) predict completed.\n",
      "Model no. 4 SVC(gamma=0.1) predict completed.\n",
      "Model no. 5 SVC() predict completed.\n",
      "Model no. 6 SVC(C=0.1, probability=True) predict completed.\n",
      "Model no. 7 SVC(gamma=0.1, kernel='linear', probability=True) predict completed.\n",
      "Model no. 8 SVC(C=0.1, gamma=0.1, probability=True) predict completed.\n",
      "Model no. 9 SVC(gamma=0.1, kernel='linear') predict completed.\n",
      "Model no. 10 SVC(C=0.1, gamma=0.1, kernel='linear', probability=True) predict completed.\n",
      "Aggregating ensemble predictions.\n",
      "36 number of parameter combinations generated for hyperparameter range {'kernel': ['rbf', 'linear'], 'C': array([0.1]), 'gamma': [0.1, 0.5], 'probability': [True]}.\n",
      "Fitting model 1 with parameters: {'kernel': 'rbf', 'C': 0.1, 'gamma': 0.1}\n",
      "Fitting model 2 with parameters: {'C': 0.1, 'gamma': 0.1}\n",
      "Fitting model 3 with parameters: {'kernel': 'rbf', 'C': 0.1, 'gamma': 0.5, 'probability': True}\n",
      "Fitting model 4 with parameters: {'kernel': 'linear', 'probability': True}\n",
      "Fitting model 5 with parameters: {'kernel': 'linear', 'gamma': 0.5}\n",
      "Fitting model 6 with parameters: {}\n",
      "Fitting model 7 with parameters: {'gamma': 0.1}\n",
      "Fitting model 8 with parameters: {'kernel': 'rbf', 'C': 0.1, 'gamma': 0.1, 'probability': True}\n",
      "Fitting model 9 with parameters: {'kernel': 'linear'}\n",
      "Fitting model 10 with parameters: {'kernel': 'linear', 'C': 0.1, 'gamma': 0.5, 'probability': True}\n",
      "10 models fitted with base estimator SVC.\n",
      "Model no. 1 SVC(C=0.1, gamma=0.1) predict completed.\n",
      "Model no. 2 SVC(C=0.1, gamma=0.1) predict completed.\n",
      "Model no. 3 SVC(C=0.1, gamma=0.5, probability=True) predict completed.\n",
      "Model no. 4 SVC(kernel='linear', probability=True) predict completed.\n",
      "Model no. 5 SVC(gamma=0.5, kernel='linear') predict completed.\n",
      "Model no. 6 SVC() predict completed.\n",
      "Model no. 7 SVC(gamma=0.1) predict completed.\n",
      "Model no. 8 SVC(C=0.1, gamma=0.1, probability=True) predict completed.\n",
      "Model no. 9 SVC(kernel='linear') predict completed.\n",
      "Model no. 10 SVC(C=0.1, gamma=0.5, kernel='linear', probability=True) predict completed.\n",
      "Aggregating ensemble predictions.\n",
      "36 number of parameter combinations generated for hyperparameter range {'kernel': ['rbf', 'linear'], 'C': array([0.1]), 'gamma': [0.1, 0.5], 'probability': [True]}.\n",
      "Fitting model 1 with parameters: {'kernel': 'rbf', 'C': 0.1, 'gamma': 0.1, 'probability': True}\n",
      "Fitting model 2 with parameters: {'kernel': 'rbf', 'gamma': 0.5, 'probability': True}\n",
      "Fitting model 3 with parameters: {'kernel': 'rbf', 'C': 0.1, 'gamma': 0.5}\n",
      "Fitting model 4 with parameters: {'C': 0.1, 'gamma': 0.5}\n",
      "Fitting model 5 with parameters: {'gamma': 0.5}\n",
      "Fitting model 6 with parameters: {}\n",
      "Fitting model 7 with parameters: {'kernel': 'linear', 'C': 0.1, 'gamma': 0.5}\n",
      "Fitting model 8 with parameters: {'kernel': 'rbf', 'gamma': 0.5, 'probability': True}\n",
      "Fitting model 9 with parameters: {'kernel': 'linear', 'gamma': 0.5, 'probability': True}\n",
      "Fitting model 10 with parameters: {'kernel': 'rbf', 'gamma': 0.1}\n",
      "10 models fitted with base estimator SVC.\n",
      "Model no. 1 SVC(C=0.1, gamma=0.1, probability=True) predict completed.\n",
      "Model no. 2 SVC(gamma=0.5, probability=True) predict completed.\n",
      "Model no. 3 SVC(C=0.1, gamma=0.5) predict completed.\n",
      "Model no. 4 SVC(C=0.1, gamma=0.5) predict completed.\n",
      "Model no. 5 SVC(gamma=0.5) predict completed.\n",
      "Model no. 6 SVC() predict completed.\n",
      "Model no. 7 SVC(C=0.1, gamma=0.5, kernel='linear') predict completed.\n",
      "Model no. 8 SVC(gamma=0.5, probability=True) predict completed.\n",
      "Model no. 9 SVC(gamma=0.5, kernel='linear', probability=True) predict completed.\n",
      "Model no. 10 SVC(gamma=0.1) predict completed.\n",
      "Aggregating ensemble predictions.\n",
      "36 number of parameter combinations generated for hyperparameter range {'kernel': ['rbf', 'linear'], 'C': array([0.1]), 'gamma': [0.1, 0.5], 'probability': [True]}.\n",
      "Fitting model 1 with parameters: {'kernel': 'rbf', 'gamma': 0.5, 'probability': True}\n",
      "Fitting model 2 with parameters: {'kernel': 'rbf', 'gamma': 0.1, 'probability': True}\n",
      "Fitting model 3 with parameters: {'gamma': 0.5}\n",
      "Fitting model 4 with parameters: {'kernel': 'linear', 'gamma': 0.1, 'probability': True}\n",
      "Fitting model 5 with parameters: {'kernel': 'linear', 'C': 0.1, 'gamma': 0.1}\n",
      "Fitting model 6 with parameters: {'C': 0.1, 'gamma': 0.1}\n",
      "Fitting model 7 with parameters: {}\n",
      "Fitting model 8 with parameters: {'kernel': 'rbf', 'C': 0.1, 'gamma': 0.5, 'probability': True}\n",
      "Fitting model 9 with parameters: {'kernel': 'rbf', 'C': 0.1, 'gamma': 0.1, 'probability': True}\n",
      "Fitting model 10 with parameters: {'kernel': 'rbf', 'gamma': 0.1, 'probability': True}\n",
      "10 models fitted with base estimator SVC.\n",
      "Model no. 1 SVC(gamma=0.5, probability=True) predict completed.\n",
      "Model no. 2 SVC(gamma=0.1, probability=True) predict completed.\n",
      "Model no. 3 SVC(gamma=0.5) predict completed.\n",
      "Model no. 4 SVC(gamma=0.1, kernel='linear', probability=True) predict completed.\n",
      "Model no. 5 SVC(C=0.1, gamma=0.1, kernel='linear') predict completed.\n",
      "Model no. 6 SVC(C=0.1, gamma=0.1) predict completed.\n",
      "Model no. 7 SVC() predict completed.\n",
      "Model no. 8 SVC(C=0.1, gamma=0.5, probability=True) predict completed.\n",
      "Model no. 9 SVC(C=0.1, gamma=0.1, probability=True) predict completed.\n",
      "Model no. 10 SVC(gamma=0.1, probability=True) predict completed.\n",
      "Aggregating ensemble predictions.\n",
      "36 number of parameter combinations generated for hyperparameter range {'kernel': ['rbf', 'linear'], 'C': array([0.1]), 'gamma': [0.1, 0.5], 'probability': [True]}.\n",
      "Fitting model 1 with parameters: {'C': 0.1}\n",
      "Fitting model 2 with parameters: {'kernel': 'linear', 'C': 0.1, 'probability': True}\n",
      "Fitting model 3 with parameters: {'kernel': 'rbf'}\n",
      "Fitting model 4 with parameters: {'kernel': 'rbf', 'probability': True}\n",
      "Fitting model 5 with parameters: {'gamma': 0.1}\n",
      "Fitting model 6 with parameters: {'C': 0.1, 'gamma': 0.5, 'probability': True}\n",
      "Fitting model 7 with parameters: {'kernel': 'rbf', 'gamma': 0.5}\n",
      "Fitting model 8 with parameters: {'kernel': 'linear'}\n",
      "Fitting model 9 with parameters: {'kernel': 'linear', 'gamma': 0.5}\n",
      "Fitting model 10 with parameters: {'kernel': 'rbf'}\n",
      "10 models fitted with base estimator SVC.\n",
      "Model no. 1 SVC(C=0.1) predict completed.\n",
      "Model no. 2 SVC(C=0.1, kernel='linear', probability=True) predict completed.\n",
      "Model no. 3 SVC() predict completed.\n",
      "Model no. 4 SVC(probability=True) predict completed.\n",
      "Model no. 5 SVC(gamma=0.1) predict completed.\n",
      "Model no. 6 SVC(C=0.1, gamma=0.5, probability=True) predict completed.\n",
      "Model no. 7 SVC(gamma=0.5) predict completed.\n",
      "Model no. 8 SVC(kernel='linear') predict completed.\n",
      "Model no. 9 SVC(gamma=0.5, kernel='linear') predict completed.\n",
      "Model no. 10 SVC() predict completed.\n",
      "Aggregating ensemble predictions.\n",
      "36 number of parameter combinations generated for hyperparameter range {'kernel': ['rbf', 'linear'], 'C': array([0.1]), 'gamma': [0.1, 0.5], 'probability': [True]}.\n",
      "Fitting model 1 with parameters: {'kernel': 'linear', 'gamma': 0.1}\n",
      "Fitting model 2 with parameters: {'kernel': 'rbf'}\n",
      "Fitting model 3 with parameters: {'probability': True}\n",
      "Fitting model 4 with parameters: {'C': 0.1, 'gamma': 0.1, 'probability': True}\n",
      "Fitting model 5 with parameters: {'kernel': 'rbf', 'gamma': 0.1, 'probability': True}\n",
      "Fitting model 6 with parameters: {'kernel': 'linear', 'C': 0.1}\n",
      "Fitting model 7 with parameters: {'kernel': 'rbf', 'gamma': 0.1, 'probability': True}\n",
      "Fitting model 8 with parameters: {'gamma': 0.1}\n",
      "Fitting model 9 with parameters: {'gamma': 0.1, 'probability': True}\n",
      "Fitting model 10 with parameters: {'kernel': 'linear', 'C': 0.1, 'probability': True}\n",
      "10 models fitted with base estimator SVC.\n",
      "Model no. 1 SVC(gamma=0.1, kernel='linear') predict completed.\n",
      "Model no. 2 SVC() predict completed.\n",
      "Model no. 3 SVC(probability=True) predict completed.\n",
      "Model no. 4 SVC(C=0.1, gamma=0.1, probability=True) predict completed.\n",
      "Model no. 5 SVC(gamma=0.1, probability=True) predict completed.\n",
      "Model no. 6 SVC(C=0.1, kernel='linear') predict completed.\n",
      "Model no. 7 SVC(gamma=0.1, probability=True) predict completed.\n",
      "Model no. 8 SVC(gamma=0.1) predict completed.\n",
      "Model no. 9 SVC(gamma=0.1, probability=True) predict completed.\n",
      "Model no. 10 SVC(C=0.1, kernel='linear', probability=True) predict completed.\n",
      "Aggregating ensemble predictions.\n",
      "Multiple maximums for query 8, will select at random from [1, 2]\n",
      "Multiple maximums for query 12, will select at random from [1, 2]\n",
      "36 number of parameter combinations generated for hyperparameter range {'kernel': ['rbf', 'linear'], 'C': array([0.1]), 'gamma': [0.1, 0.5], 'probability': [True]}.\n",
      "Fitting model 1 with parameters: {'kernel': 'rbf', 'gamma': 0.1}\n",
      "Fitting model 2 with parameters: {'C': 0.1, 'probability': True}\n",
      "Fitting model 3 with parameters: {'kernel': 'rbf', 'gamma': 0.1}\n",
      "Fitting model 4 with parameters: {'kernel': 'linear', 'gamma': 0.5}\n",
      "Fitting model 5 with parameters: {'gamma': 0.5, 'probability': True}\n",
      "Fitting model 6 with parameters: {'kernel': 'linear', 'gamma': 0.1, 'probability': True}\n",
      "Fitting model 7 with parameters: {'kernel': 'linear', 'C': 0.1, 'probability': True}\n",
      "Fitting model 8 with parameters: {'gamma': 0.1, 'probability': True}\n",
      "Fitting model 9 with parameters: {'C': 0.1, 'gamma': 0.5}\n",
      "Fitting model 10 with parameters: {'kernel': 'rbf', 'gamma': 0.5}\n",
      "10 models fitted with base estimator SVC.\n",
      "Model no. 1 SVC(gamma=0.1) predict completed.\n",
      "Model no. 2 SVC(C=0.1, probability=True) predict completed.\n",
      "Model no. 3 SVC(gamma=0.1) predict completed.\n",
      "Model no. 4 SVC(gamma=0.5, kernel='linear') predict completed.\n",
      "Model no. 5 SVC(gamma=0.5, probability=True) predict completed.\n",
      "Model no. 6 SVC(gamma=0.1, kernel='linear', probability=True) predict completed.\n",
      "Model no. 7 SVC(C=0.1, kernel='linear', probability=True) predict completed.\n",
      "Model no. 8 SVC(gamma=0.1, probability=True) predict completed.\n",
      "Model no. 9 SVC(C=0.1, gamma=0.5) predict completed.\n",
      "Model no. 10 SVC(gamma=0.5) predict completed.\n",
      "Aggregating ensemble predictions.\n",
      "36 number of parameter combinations generated for hyperparameter range {'kernel': ['rbf', 'linear'], 'C': array([0.1]), 'gamma': [0.1, 0.5], 'probability': [True]}.\n",
      "Fitting model 1 with parameters: {'kernel': 'rbf', 'C': 0.1, 'probability': True}\n",
      "Fitting model 2 with parameters: {'C': 0.1}\n",
      "Fitting model 3 with parameters: {'kernel': 'rbf', 'C': 0.1}\n",
      "Fitting model 4 with parameters: {'gamma': 0.5}\n",
      "Fitting model 5 with parameters: {'kernel': 'linear'}\n",
      "Fitting model 6 with parameters: {'kernel': 'linear', 'C': 0.1, 'gamma': 0.5}\n",
      "Fitting model 7 with parameters: {'kernel': 'rbf', 'C': 0.1, 'gamma': 0.1}\n",
      "Fitting model 8 with parameters: {'kernel': 'rbf', 'C': 0.1, 'gamma': 0.1, 'probability': True}\n",
      "Fitting model 9 with parameters: {'kernel': 'linear', 'gamma': 0.5}\n",
      "Fitting model 10 with parameters: {'kernel': 'rbf', 'gamma': 0.1, 'probability': True}\n",
      "10 models fitted with base estimator SVC.\n",
      "Model no. 1 SVC(C=0.1, probability=True) predict completed.\n",
      "Model no. 2 SVC(C=0.1) predict completed.\n",
      "Model no. 3 SVC(C=0.1) predict completed.\n",
      "Model no. 4 SVC(gamma=0.5) predict completed.\n",
      "Model no. 5 SVC(kernel='linear') predict completed.\n",
      "Model no. 6 SVC(C=0.1, gamma=0.5, kernel='linear') predict completed.\n",
      "Model no. 7 SVC(C=0.1, gamma=0.1) predict completed.\n",
      "Model no. 8 SVC(C=0.1, gamma=0.1, probability=True) predict completed.\n",
      "Model no. 9 SVC(gamma=0.5, kernel='linear') predict completed.\n",
      "Model no. 10 SVC(gamma=0.1, probability=True) predict completed.\n",
      "Aggregating ensemble predictions.\n",
      "36 number of parameter combinations generated for hyperparameter range {'kernel': ['rbf', 'linear'], 'C': array([0.1]), 'gamma': [0.1, 0.5], 'probability': [True]}.\n",
      "Fitting model 1 with parameters: {'kernel': 'linear', 'gamma': 0.5, 'probability': True}\n",
      "Fitting model 2 with parameters: {'kernel': 'rbf', 'gamma': 0.1, 'probability': True}\n",
      "Fitting model 3 with parameters: {'gamma': 0.1, 'probability': True}\n",
      "Fitting model 4 with parameters: {'kernel': 'linear', 'C': 0.1}\n",
      "Fitting model 5 with parameters: {'kernel': 'linear', 'C': 0.1, 'gamma': 0.1, 'probability': True}\n",
      "Fitting model 6 with parameters: {'C': 0.1, 'gamma': 0.1}\n",
      "Fitting model 7 with parameters: {'kernel': 'rbf', 'C': 0.1, 'gamma': 0.1}\n",
      "Fitting model 8 with parameters: {'probability': True}\n",
      "Fitting model 9 with parameters: {'C': 0.1, 'gamma': 0.1, 'probability': True}\n",
      "Fitting model 10 with parameters: {'C': 0.1, 'probability': True}\n",
      "10 models fitted with base estimator SVC.\n",
      "Model no. 1 SVC(gamma=0.5, kernel='linear', probability=True) predict completed.\n",
      "Model no. 2 SVC(gamma=0.1, probability=True) predict completed.\n",
      "Model no. 3 SVC(gamma=0.1, probability=True) predict completed.\n",
      "Model no. 4 SVC(C=0.1, kernel='linear') predict completed.\n",
      "Model no. 5 SVC(C=0.1, gamma=0.1, kernel='linear', probability=True) predict completed.\n",
      "Model no. 6 SVC(C=0.1, gamma=0.1) predict completed.\n",
      "Model no. 7 SVC(C=0.1, gamma=0.1) predict completed.\n",
      "Model no. 8 SVC(probability=True) predict completed.\n",
      "Model no. 9 SVC(C=0.1, gamma=0.1, probability=True) predict completed.\n",
      "Model no. 10 SVC(C=0.1, probability=True) predict completed.\n",
      "Aggregating ensemble predictions.\n",
      "36 number of parameter combinations generated for hyperparameter range {'kernel': ['rbf', 'linear'], 'C': array([0.1]), 'gamma': [0.1, 0.5], 'probability': [True]}.\n",
      "Fitting model 1 with parameters: {'C': 0.1, 'gamma': 0.5, 'probability': True}\n",
      "Fitting model 2 with parameters: {'kernel': 'rbf', 'C': 0.1}\n"
     ]
    },
    {
     "name": "stdout",
     "output_type": "stream",
     "text": [
      "Fitting model 3 with parameters: {'C': 0.1, 'probability': True}\n",
      "Fitting model 4 with parameters: {'C': 0.1, 'gamma': 0.5, 'probability': True}\n",
      "Fitting model 5 with parameters: {'gamma': 0.5}\n",
      "Fitting model 6 with parameters: {'kernel': 'linear', 'gamma': 0.1, 'probability': True}\n",
      "Fitting model 7 with parameters: {'C': 0.1, 'probability': True}\n",
      "Fitting model 8 with parameters: {'kernel': 'rbf', 'C': 0.1, 'gamma': 0.1}\n",
      "Fitting model 9 with parameters: {'C': 0.1}\n",
      "Fitting model 10 with parameters: {}\n",
      "10 models fitted with base estimator SVC.\n",
      "Model no. 1 SVC(C=0.1, gamma=0.5, probability=True) predict completed.\n",
      "Model no. 2 SVC(C=0.1) predict completed.\n",
      "Model no. 3 SVC(C=0.1, probability=True) predict completed.\n",
      "Model no. 4 SVC(C=0.1, gamma=0.5, probability=True) predict completed.\n",
      "Model no. 5 SVC(gamma=0.5) predict completed.\n",
      "Model no. 6 SVC(gamma=0.1, kernel='linear', probability=True) predict completed.\n",
      "Model no. 7 SVC(C=0.1, probability=True) predict completed.\n",
      "Model no. 8 SVC(C=0.1, gamma=0.1) predict completed.\n",
      "Model no. 9 SVC(C=0.1) predict completed.\n",
      "Model no. 10 SVC() predict completed.\n",
      "Aggregating ensemble predictions.\n",
      "[1.         0.93333333 1.         1.         1.         0.86666667\n",
      " 0.93333333 1.         1.         1.        ]\n",
      "0.9733333333333334  +/-  0.04422166387140532\n"
     ]
    }
   ],
   "source": [
    "scores = cross_val_score(clf, iris.data, iris.target, cv=10)\n",
    "print(scores)\n",
    "print(np.mean(scores), \" +/- \", np.std(scores))"
   ]
  },
  {
   "cell_type": "markdown",
   "metadata": {},
   "source": [
    "## Test with imbalanced, non numeric targest"
   ]
  },
  {
   "cell_type": "code",
   "execution_count": 861,
   "metadata": {},
   "outputs": [
    {
     "data": {
      "text/html": [
       "<div>\n",
       "<style scoped>\n",
       "    .dataframe tbody tr th:only-of-type {\n",
       "        vertical-align: middle;\n",
       "    }\n",
       "\n",
       "    .dataframe tbody tr th {\n",
       "        vertical-align: top;\n",
       "    }\n",
       "\n",
       "    .dataframe thead th {\n",
       "        text-align: right;\n",
       "    }\n",
       "</style>\n",
       "<table border=\"1\" class=\"dataframe\">\n",
       "  <thead>\n",
       "    <tr style=\"text-align: right;\">\n",
       "      <th></th>\n",
       "      <th>Age</th>\n",
       "      <th>Year</th>\n",
       "      <th>NNodes</th>\n",
       "      <th>Class</th>\n",
       "      <th>Survived</th>\n",
       "    </tr>\n",
       "  </thead>\n",
       "  <tbody>\n",
       "    <tr>\n",
       "      <th>0</th>\n",
       "      <td>30</td>\n",
       "      <td>64</td>\n",
       "      <td>1</td>\n",
       "      <td>1</td>\n",
       "      <td>GE5</td>\n",
       "    </tr>\n",
       "    <tr>\n",
       "      <th>1</th>\n",
       "      <td>30</td>\n",
       "      <td>62</td>\n",
       "      <td>3</td>\n",
       "      <td>1</td>\n",
       "      <td>GE5</td>\n",
       "    </tr>\n",
       "    <tr>\n",
       "      <th>2</th>\n",
       "      <td>30</td>\n",
       "      <td>65</td>\n",
       "      <td>0</td>\n",
       "      <td>1</td>\n",
       "      <td>GE5</td>\n",
       "    </tr>\n",
       "    <tr>\n",
       "      <th>3</th>\n",
       "      <td>31</td>\n",
       "      <td>59</td>\n",
       "      <td>2</td>\n",
       "      <td>1</td>\n",
       "      <td>GE5</td>\n",
       "    </tr>\n",
       "    <tr>\n",
       "      <th>4</th>\n",
       "      <td>31</td>\n",
       "      <td>65</td>\n",
       "      <td>4</td>\n",
       "      <td>1</td>\n",
       "      <td>GE5</td>\n",
       "    </tr>\n",
       "  </tbody>\n",
       "</table>\n",
       "</div>"
      ],
      "text/plain": [
       "   Age  Year  NNodes  Class Survived\n",
       "0   30    64       1      1      GE5\n",
       "1   30    62       3      1      GE5\n",
       "2   30    65       0      1      GE5\n",
       "3   31    59       2      1      GE5\n",
       "4   31    65       4      1      GE5"
      ]
     },
     "execution_count": 861,
     "metadata": {},
     "output_type": "execute_result"
    }
   ],
   "source": [
    "surv = pd.read_csv('survival.csv')\n",
    "surv['Survived'] = 'GE5'\n",
    "surv.loc[surv['Class']==2,'Survived']='L5'\n",
    "surv.head()\n"
   ]
  },
  {
   "cell_type": "code",
   "execution_count": 862,
   "metadata": {},
   "outputs": [
    {
     "data": {
      "text/plain": [
       "((306, 3), (306,))"
      ]
     },
     "execution_count": 862,
     "metadata": {},
     "output_type": "execute_result"
    }
   ],
   "source": [
    "y = surv.pop('Survived').values\n",
    "surv.pop('Class')\n",
    "X = surv.values\n",
    "X.shape, y.shape"
   ]
  },
  {
   "cell_type": "code",
   "execution_count": 863,
   "metadata": {},
   "outputs": [
    {
     "name": "stdout",
     "output_type": "stream",
     "text": [
      "10 models fitted with base estimator SVC.\n",
      "Predict completed for 10 models \n",
      "Results aggregated for 306 queries\n"
     ]
    },
    {
     "data": {
      "text/html": [
       "<div>\n",
       "<style scoped>\n",
       "    .dataframe tbody tr th:only-of-type {\n",
       "        vertical-align: middle;\n",
       "    }\n",
       "\n",
       "    .dataframe tbody tr th {\n",
       "        vertical-align: top;\n",
       "    }\n",
       "\n",
       "    .dataframe thead th {\n",
       "        text-align: right;\n",
       "    }\n",
       "</style>\n",
       "<table border=\"1\" class=\"dataframe\">\n",
       "  <thead>\n",
       "    <tr style=\"text-align: right;\">\n",
       "      <th>Predicted</th>\n",
       "      <th>GE5</th>\n",
       "      <th>All</th>\n",
       "    </tr>\n",
       "    <tr>\n",
       "      <th>True</th>\n",
       "      <th></th>\n",
       "      <th></th>\n",
       "    </tr>\n",
       "  </thead>\n",
       "  <tbody>\n",
       "    <tr>\n",
       "      <th>GE5</th>\n",
       "      <td>225</td>\n",
       "      <td>225</td>\n",
       "    </tr>\n",
       "    <tr>\n",
       "      <th>L5</th>\n",
       "      <td>81</td>\n",
       "      <td>81</td>\n",
       "    </tr>\n",
       "    <tr>\n",
       "      <th>All</th>\n",
       "      <td>306</td>\n",
       "      <td>306</td>\n",
       "    </tr>\n",
       "  </tbody>\n",
       "</table>\n",
       "</div>"
      ],
      "text/plain": [
       "Predicted  GE5  All\n",
       "True               \n",
       "GE5        225  225\n",
       "L5          81   81\n",
       "All        306  306"
      ]
     },
     "metadata": {},
     "output_type": "display_data"
    },
    {
     "name": "stdout",
     "output_type": "stream",
     "text": [
      "              precision    recall  f1-score   support\n",
      "\n",
      "         GE5       0.74      1.00      0.85       225\n",
      "          L5       0.00      0.00      0.00        81\n",
      "\n",
      "    accuracy                           0.74       306\n",
      "   macro avg       0.37      0.50      0.42       306\n",
      "weighted avg       0.54      0.74      0.62       306\n",
      "\n"
     ]
    }
   ],
   "source": [
    "base_estimator = svm.SVC()\n",
    "hyperparam_range = {\"kernel\":[\"rbf\", \"linear\"], \"C\":np.arange(0.1, 1.0, 10), \"gamma\":[0.1, 0.5], \"probability\":[True]}\n",
    "n_estimators = 10\n",
    "clf = HeterogenousEnsembleClassifier(base_estimator, n_estimators, hyperparam_range, verbosity = 1)\n",
    "clf.fit(X, y)\n",
    "y_pred = clf.predict(X)\n",
    "display(pd.crosstab(y, y_pred, rownames=['True'], colnames=['Predicted'], margins=True))\n",
    "print(metrics.classification_report(y, y_pred))\n"
   ]
  },
  {
   "cell_type": "code",
   "execution_count": 864,
   "metadata": {},
   "outputs": [
    {
     "data": {
      "text/plain": [
       "(150, 4)"
      ]
     },
     "execution_count": 864,
     "metadata": {},
     "output_type": "execute_result"
    }
   ],
   "source": [
    "iris.data.shape"
   ]
  },
  {
   "cell_type": "code",
   "execution_count": 865,
   "metadata": {},
   "outputs": [
    {
     "data": {
      "text/plain": [
       "(150,)"
      ]
     },
     "execution_count": 865,
     "metadata": {},
     "output_type": "execute_result"
    }
   ],
   "source": [
    "iris.target.shape"
   ]
  },
  {
   "cell_type": "code",
   "execution_count": null,
   "metadata": {},
   "outputs": [],
   "source": []
  },
  {
   "cell_type": "markdown",
   "metadata": {},
   "source": [
    "## Task 2: The StackedHeterogenousEnsembleClassifier Class"
   ]
  },
  {
   "cell_type": "markdown",
   "metadata": {},
   "source": [
    "### Define StackedHeterogenousEnsembleClassifier Class"
   ]
  },
  {
   "cell_type": "code",
   "execution_count": 894,
   "metadata": {},
   "outputs": [],
   "source": [
    "# Create a new classifier which is based on the sckit-learn BaseEstimator and ClassifierMixin classes\n",
    "class StackedHeterogenousEnsembleClassifier(BaseEstimator, ClassifierMixin):\n",
    "    \n",
    "    \"\"\"An ensemble classifier that uses heterogeneous models at the base layer. Base models are different due to different hyper-parameters used. Aggrefgattion is perfomred using a stack layer model.\n",
    "\n",
    "    Parameters\n",
    "    ----------\n",
    "    base_estimator: scikit-learn estimator \n",
    "        The model type to be used at the base layer of the ensemble model.\n",
    "\n",
    "    hp_range_map: dictionary\n",
    "        A dictinary of hyperparamters and the ranges of values that will be used from them\n",
    "        \n",
    "    n_estimators: int\n",
    "        How many models to use in the ensemble\n",
    "        \n",
    "    bootstrap: boolean\n",
    "        Whether or not to use bootstrap sampling wehn training base estimators\n",
    "    \n",
    "    stack_layer_estimator: scikit-learn estimator \n",
    "        Estimator type of the stack  layer model\n",
    "        \n",
    "    base_stack_data_ratio: float\n",
    "        The ratio with which to split the data for straing the base and stack layers.\n",
    "        \n",
    "    Attributes\n",
    "    ----------\n",
    "    classes_ : array of shape = [n_classes] \n",
    "        The classes labels.\n",
    "\n",
    "    Notes\n",
    "    -----\n",
    "    The default values for most base learners are used, unless hyperparameter ranges are specified\n",
    "\n",
    "    See also\n",
    "    --------\n",
    "    \n",
    "\n",
    "    Examples\n",
    "    --------\n",
    "    >>> from sklearn.datasets import load_iris\n",
    "    >>> from sklearn.model_selection import cross_val_score\n",
    "    >>> clf = StackedHeterogenousEnsembleClassifier(tree.DecisionTreeClassifier(), {'max_depth':[5, 10, 15], })\n",
    "    >>> iris = load_iris()\n",
    "    >>> cross_val_score(clf, iris.data, iris.target, cv=10)\n",
    "\n",
    "    \"\"\"\n",
    "    # Constructor for the classifier object\n",
    "    def __init__(self, base_estimator = svm.SVC(), n_estimators = 10, hp_range_map = None, bootstrap = True, stack_layer_estimator = svm.SVC(), base_stack_data_ratio = 0.7, random_state=None, verbosity = 0):\n",
    "\n",
    "        \"\"\"Setup a StackedHeterogenousEnsembleClassifier classifier .\n",
    "        Parameters\n",
    "        ----------\n",
    "        base_estimator: The model type to be used at the base layer of the ensemble model.\n",
    "        hp_range_map: A dictinary of hyperparamters and the ranges of values that will be used from them\n",
    "        n_estimators: How many models to use in the ensemble\n",
    "        bootstrap: Wheter or not to use bootstrap sampling wehn training base estimators\n",
    "        stack_layer_estimator: Estimator type of the stack  layer model\n",
    "        base_stack_data_ratio: The ratio with which to split the data for straing the base and stack layers.\n",
    "        \n",
    "        Returns\n",
    "        -------\n",
    "        The estimator\n",
    "        \"\"\"     \n",
    "\n",
    "        # Initialise ranomd state if set\n",
    "        self.random_state = random_state\n",
    "        \n",
    "        # Initialise class variabels\n",
    "        self.base_estimator = base_estimator\n",
    "        self.hp_range_map = hp_range_map\n",
    "        self.n_estimators = n_estimators\n",
    "        self.bootstrap = bootstrap\n",
    "        self.stack_layer_estimator = stack_layer_estimator\n",
    "        self.base_stack_data_ratio = base_stack_data_ratio\n",
    "        self.verbosity = verbosity\n",
    "        \n",
    "        \n",
    "    \n",
    "    def validate_parameters(self):\n",
    "        if self.n_estimators < 1:\n",
    "             raise ValueError(\"n_estimators must be >= 1\")\n",
    "        if is_classifier(self.base_estimator) is False:\n",
    "            raise ValueError(\"base_estimator must be a classifier\")\n",
    "        if is_classifier(self.stack_layer_estimator) is False:\n",
    "            raise ValueError(\"stack_layer_estimator must be a classifier\")\n",
    "        if self.verbosity not in range(0,3):\n",
    "            raise ValueError(\"verbosity has range 0-2\")\n",
    "        if self.base_stack_data_ratio <= 0 or self.base_stack_data_ratio >= 1:\n",
    "            raise ValueError(\"base_stack_data_ratio must be greater than 0 and smaler than 1.\")\n",
    "        if self.hp_range_map is None:\n",
    "            self.hp_range_map = {}\n",
    "\n",
    "    # The fit function to train a classifier\n",
    "    def fit(self, X, y):\n",
    "\n",
    "        self.validate_parameters()\n",
    "    \n",
    "        def checkBootstrap(X, y):\n",
    "            if self.bootstrap is True:\n",
    "                return resample(X,y, replace=True)\n",
    "            return X,y \n",
    "        \n",
    "        def checkValue(value):\n",
    "            if type(value) is np.ndarray:\n",
    "                value = value.tolist()\n",
    "            elif type(value) is not list:\n",
    "                value = [value]\n",
    "            return value + [None]\n",
    "    \n",
    "        def generate_param_combinations():\n",
    "            params = []\n",
    "            for key, value in self.hp_range_map.items():\n",
    "                params.append(checkValue(value))\n",
    "                self.keys.append(key)\n",
    "            product = itertools.product(*params)\n",
    "            self.params = [ [ p for p in params ] for params in product ] \n",
    "            if self.verbosity == 2:\n",
    "                print(\"{} number of parameter combinations generated for hyperparameter range {}.\".format(len(self.params), self.hp_range_map))\n",
    "        \n",
    "        def extract_params(n):\n",
    "            params = {}\n",
    "            for i,key in enumerate(self.keys):\n",
    "                if self.params[n][i] is not None:\n",
    "                    params[key] = self.params[n][i]\n",
    "            return params\n",
    "    \n",
    "        def fit_ensemble(X_train, X_valid, y_train):\n",
    "            for i in range(0, self.n_estimators):\n",
    "                X_train, y_train = checkBootstrap(X_train, y_train)\n",
    "                params = extract_params(random.randint(0, (len(self.params)-1)))\n",
    "                clf = copy(self.base_estimator).set_params(**params)\n",
    "                if self.verbosity == 2:\n",
    "                    print(\"Fitting model {} with parameters: {}\".format(i+1, params))\n",
    "                clf.fit(X_train, y_train)\n",
    "                self.models.append(clf)\n",
    "                self.model_output.append(clf.predict(X_valid))\n",
    "            self.model_output = np.asarray(self.model_output)\n",
    "            if self.verbosity > 0:\n",
    "                print(\"{} models fitted with base estimator {}.\".format(i+1, self.base_estimator.__class__.__name__))\n",
    "        \n",
    "        def prepare_stack_training_set():\n",
    "            \n",
    "            self.model_output = [to_categorical(m, num_classes=len(self.classes_)+1) for m in self.model_output.transpose()]\n",
    "    \n",
    "            self.model_output = np.asarray(self.model_output)\n",
    "    \n",
    "            self.model_output = self.model_output.reshape(X_valid.shape[0], self.n_estimators*(len(self.classes_)+1))\n",
    "        \n",
    "            if self.verbosity > 0:\n",
    "                print(\"Training set of size {} prepared for stack layer\".format(self.model_output.size))\n",
    "            \n",
    "        # Check that X and y have correct shape\n",
    "        X, y = check_X_y(X, y)\n",
    "        \n",
    "        X_train, X_valid, y_train, y_valid = train_test_split(X, y, train_size=self.base_stack_data_ratio,\n",
    "                                                              random_state=self.random_state)\n",
    "        if self.verbosity > 0:\n",
    "            print(\"X_train of size {} split at {} ratio\". format(X.size, self.base_stack_data_ratio))\n",
    "        \n",
    "        if self.verbosity == 2:\n",
    "            print(\"X_train for ensemble now size {}, X_train for stack now size {}\".format(X_train.size, X_valid.size))\n",
    "        \n",
    "        random.seed(self.random_state)\n",
    "        \n",
    "        self.params, self.keys, self.models, self.model_output = [], [], [], []\n",
    "                \n",
    "       #  Count the number of occurrences of each class in the target vector (uses mupy unique function that returns a list of unique values and their counts)\n",
    "        self.classes_ = np.unique(y)\n",
    "\n",
    "        generate_param_combinations()\n",
    "        \n",
    "        fit_ensemble(X_train, X_valid, y_train)\n",
    "    \n",
    "        prepare_stack_training_set()        \n",
    "        \n",
    "        self.stack_layer_estimator.fit(self.model_output, y_valid)\n",
    "        \n",
    "        if self.verbosity > 0:\n",
    "            print(\"Stack layer with base estimator {} has been fit\".format(self.stack_layer_estimator.__class__.__name__))\n",
    "        \n",
    "        return self\n",
    "    \n",
    "    def ensemble_predict(self, X):\n",
    "        for i, model in enumerate(self.models):\n",
    "            self.model_output.append(model.predict(X))\n",
    "            if self.verbosity == 2:\n",
    "                print('Model no. {} {} predict completed.'.format(i+1, model))\n",
    "        if self.verbosity > 0:\n",
    "            print(\"Predict completed for {} models \".format(i+1))\n",
    "        self.model_output = np.asarray(self.model_output)  \n",
    "\n",
    "        \n",
    "    def prepare_data_for_stack(self, X):\n",
    "        \n",
    "        if self.verbosity > 0:\n",
    "            print(\"Preparing data for stack layer.\")\n",
    "            \n",
    "        for i, prediction in enumerate(self.model_output.transpose()):\n",
    "            self.ensemble_predictions_.append(to_categorical(prediction, num_classes=len(self.classes_)+1))\n",
    "        \n",
    "        self.ensemble_predictions_ = np.array(self.ensemble_predictions_)\n",
    "        \n",
    "        self.ensemble_predictions_ = self.ensemble_predictions_.reshape(X.shape[0], (len(self.classes_)+1) * self.n_estimators)\n",
    "\n",
    "        if self.verbosity > 0:\n",
    "                print(\"Data set of size {} prepared for stack layer\".format(self.model_output.size))\n",
    "        #     \n",
    "# The predict function to make a set of predictions for a set of query instances\n",
    "    def predict(self, X):\n",
    "        \n",
    "        check_is_fitted(self, ['models'])\n",
    "        \n",
    "        self.ensemble_predictions_, self.model_output = [], []\n",
    "        \n",
    "        # Check that the input features match the type and shape of the training features\n",
    "        X = check_array(X)\n",
    "    \n",
    "        self.ensemble_predict(X)\n",
    "        \n",
    "        self.prepare_data_for_stack(X)\n",
    "        \n",
    "        if self.verbosity == 2:\n",
    "            print(\"Stack layer with base_estimator {} making prediction\".format(self.stack_layer_estimator.__class__.__name__))\n",
    "        \n",
    "        return self.stack_layer_estimator.predict(self.ensemble_predictions_)\n",
    "\n",
    "    \n",
    "#     # The predict function to make a set of predictions for a set of query instances\n",
    "    def predict_proba(self, X):\n",
    "        \n",
    "        check_is_fitted(self, ['models'])\n",
    "        \n",
    "        self.model_output, self.ensemble_predictions_ = [], []\n",
    "\n",
    "        # Check that the input features match the type and shape of the training features\n",
    "        X = check_array(X)\n",
    "\n",
    "        self.ensemble_predict(X)\n",
    "        \n",
    "        self.prepare_data_for_stack(X)\n",
    "        \n",
    "        if self.verbosity == 2:\n",
    "            print(\"Stack layer with base_estimator {} making prediction\".format(self.stack_layer_estimator.__class__.__name__))\n",
    "       \n",
    "        return(self.stack_layer_estimator.predict_proba(self.ensemble_predictions_))\n",
    "        "
   ]
  },
  {
   "cell_type": "code",
   "execution_count": 895,
   "metadata": {},
   "outputs": [
    {
     "data": {
      "text/plain": [
       "array([0, 0, 0, 0, 0, 0, 0, 0, 0, 0, 0, 0, 0, 0, 0, 0, 0, 0, 0, 0, 0, 0,\n",
       "       0, 0, 0, 0, 0, 0, 0, 0, 0, 0, 0, 0, 0, 0, 0, 0, 0, 0, 0, 0, 0, 0,\n",
       "       0, 0, 0, 0, 0, 0, 1, 1, 1, 1, 1, 1, 1, 1, 1, 1, 1, 1, 1, 1, 1, 1,\n",
       "       1, 1, 1, 1, 2, 1, 1, 1, 1, 1, 1, 1, 1, 1, 1, 1, 1, 2, 1, 1, 1, 1,\n",
       "       1, 1, 1, 1, 1, 1, 1, 1, 1, 1, 1, 1, 2, 2, 2, 2, 2, 2, 2, 2, 2, 2,\n",
       "       2, 2, 2, 2, 2, 2, 2, 2, 2, 2, 2, 2, 2, 2, 2, 2, 2, 2, 2, 2, 2, 2,\n",
       "       2, 1, 2, 2, 2, 2, 2, 2, 2, 2, 2, 2, 2, 2, 2, 2, 2, 2])"
      ]
     },
     "execution_count": 895,
     "metadata": {},
     "output_type": "execute_result"
    }
   ],
   "source": [
    "iris = load_iris()\n",
    "n_estimators = 10\n",
    "base_estimator = svm.SVC()\n",
    "hyperparam_range = {\"kernel\":[\"rbf\", \"linear\"], \"C\":np.arange(0.1, 1.0, 0.1), \"gamma\":[0.1, 0.5], \"probability\":[True]}\n",
    "# hyperparam_range = None\n",
    "clf = StackedHeterogenousEnsembleClassifier(base_estimator, n_estimators, hyperparam_range, True, svm.SVC(probability=True), 0.7, verbosity = 0)\n",
    "clf.fit(iris.data, iris.target)\n",
    "clf.predict(iris.data)\n"
   ]
  },
  {
   "cell_type": "markdown",
   "metadata": {},
   "source": [
    "### Test the StackedHeterogenousEnsembleClassifier"
   ]
  },
  {
   "cell_type": "code",
   "execution_count": 896,
   "metadata": {},
   "outputs": [
    {
     "data": {
      "text/plain": [
       "array([[0.91301486, 0.03210567, 0.05487947],\n",
       "       [0.91301486, 0.03210567, 0.05487947],\n",
       "       [0.91301486, 0.03210567, 0.05487947],\n",
       "       [0.91301486, 0.03210567, 0.05487947],\n",
       "       [0.91301486, 0.03210567, 0.05487947],\n",
       "       [0.91301486, 0.03210567, 0.05487947],\n",
       "       [0.91301486, 0.03210567, 0.05487947],\n",
       "       [0.91301486, 0.03210567, 0.05487947],\n",
       "       [0.91301486, 0.03210567, 0.05487947],\n",
       "       [0.91301486, 0.03210567, 0.05487947],\n",
       "       [0.91301486, 0.03210567, 0.05487947],\n",
       "       [0.91301486, 0.03210567, 0.05487947],\n",
       "       [0.91301486, 0.03210567, 0.05487947],\n",
       "       [0.91301486, 0.03210567, 0.05487947],\n",
       "       [0.91301486, 0.03210567, 0.05487947],\n",
       "       [0.91301486, 0.03210567, 0.05487947],\n",
       "       [0.91301486, 0.03210567, 0.05487947],\n",
       "       [0.91301486, 0.03210567, 0.05487947],\n",
       "       [0.91301486, 0.03210567, 0.05487947],\n",
       "       [0.91301486, 0.03210567, 0.05487947],\n",
       "       [0.91301486, 0.03210567, 0.05487947],\n",
       "       [0.91301486, 0.03210567, 0.05487947],\n",
       "       [0.91301486, 0.03210567, 0.05487947],\n",
       "       [0.91301486, 0.03210567, 0.05487947],\n",
       "       [0.91301486, 0.03210567, 0.05487947],\n",
       "       [0.91301486, 0.03210567, 0.05487947],\n",
       "       [0.91301486, 0.03210567, 0.05487947],\n",
       "       [0.91301486, 0.03210567, 0.05487947],\n",
       "       [0.91301486, 0.03210567, 0.05487947],\n",
       "       [0.91301486, 0.03210567, 0.05487947],\n",
       "       [0.91301486, 0.03210567, 0.05487947],\n",
       "       [0.91301486, 0.03210567, 0.05487947],\n",
       "       [0.91301486, 0.03210567, 0.05487947],\n",
       "       [0.91301486, 0.03210567, 0.05487947],\n",
       "       [0.91301486, 0.03210567, 0.05487947],\n",
       "       [0.91301486, 0.03210567, 0.05487947],\n",
       "       [0.91301486, 0.03210567, 0.05487947],\n",
       "       [0.91301486, 0.03210567, 0.05487947],\n",
       "       [0.91301486, 0.03210567, 0.05487947],\n",
       "       [0.91301486, 0.03210567, 0.05487947],\n",
       "       [0.91301486, 0.03210567, 0.05487947],\n",
       "       [0.91301486, 0.03210567, 0.05487947],\n",
       "       [0.91301486, 0.03210567, 0.05487947],\n",
       "       [0.91301486, 0.03210567, 0.05487947],\n",
       "       [0.91301486, 0.03210567, 0.05487947],\n",
       "       [0.91301486, 0.03210567, 0.05487947],\n",
       "       [0.91301486, 0.03210567, 0.05487947],\n",
       "       [0.91301486, 0.03210567, 0.05487947],\n",
       "       [0.91301486, 0.03210567, 0.05487947],\n",
       "       [0.91301486, 0.03210567, 0.05487947],\n",
       "       [0.02971723, 0.84601611, 0.12426667],\n",
       "       [0.02971723, 0.84601611, 0.12426667],\n",
       "       [0.02971723, 0.84601611, 0.12426667],\n",
       "       [0.02971723, 0.84601611, 0.12426667],\n",
       "       [0.02971723, 0.84601611, 0.12426667],\n",
       "       [0.02971723, 0.84601611, 0.12426667],\n",
       "       [0.02971723, 0.84601611, 0.12426667],\n",
       "       [0.02971723, 0.84601611, 0.12426667],\n",
       "       [0.02971723, 0.84601611, 0.12426667],\n",
       "       [0.02971723, 0.84601611, 0.12426667],\n",
       "       [0.02971723, 0.84601611, 0.12426667],\n",
       "       [0.02971723, 0.84601611, 0.12426667],\n",
       "       [0.02971723, 0.84601611, 0.12426667],\n",
       "       [0.02971723, 0.84601611, 0.12426667],\n",
       "       [0.02971723, 0.84601611, 0.12426667],\n",
       "       [0.02971723, 0.84601611, 0.12426667],\n",
       "       [0.02971723, 0.84601611, 0.12426667],\n",
       "       [0.02971723, 0.84601611, 0.12426667],\n",
       "       [0.02971723, 0.84601611, 0.12426667],\n",
       "       [0.02971723, 0.84601611, 0.12426667],\n",
       "       [0.03832167, 0.17467914, 0.78699919],\n",
       "       [0.02971723, 0.84601611, 0.12426667],\n",
       "       [0.02971723, 0.84601611, 0.12426667],\n",
       "       [0.02971723, 0.84601611, 0.12426667],\n",
       "       [0.02971723, 0.84601611, 0.12426667],\n",
       "       [0.02971723, 0.84601611, 0.12426667],\n",
       "       [0.02971723, 0.84601611, 0.12426667],\n",
       "       [0.02971723, 0.84601611, 0.12426667],\n",
       "       [0.02971723, 0.84601611, 0.12426667],\n",
       "       [0.02971723, 0.84601611, 0.12426667],\n",
       "       [0.02971723, 0.84601611, 0.12426667],\n",
       "       [0.02971723, 0.84601611, 0.12426667],\n",
       "       [0.02971723, 0.84601611, 0.12426667],\n",
       "       [0.04689822, 0.10818167, 0.84492011],\n",
       "       [0.02971723, 0.84601611, 0.12426667],\n",
       "       [0.02971723, 0.84601611, 0.12426667],\n",
       "       [0.02971723, 0.84601611, 0.12426667],\n",
       "       [0.02971723, 0.84601611, 0.12426667],\n",
       "       [0.02971723, 0.84601611, 0.12426667],\n",
       "       [0.02971723, 0.84601611, 0.12426667],\n",
       "       [0.02971723, 0.84601611, 0.12426667],\n",
       "       [0.02971723, 0.84601611, 0.12426667],\n",
       "       [0.02971723, 0.84601611, 0.12426667],\n",
       "       [0.02971723, 0.84601611, 0.12426667],\n",
       "       [0.02971723, 0.84601611, 0.12426667],\n",
       "       [0.02971723, 0.84601611, 0.12426667],\n",
       "       [0.02971723, 0.84601611, 0.12426667],\n",
       "       [0.02971723, 0.84601611, 0.12426667],\n",
       "       [0.02971723, 0.84601611, 0.12426667],\n",
       "       [0.02971723, 0.84601611, 0.12426667],\n",
       "       [0.05648531, 0.03655944, 0.90695525],\n",
       "       [0.04676424, 0.03909876, 0.91413699],\n",
       "       [0.05648531, 0.03655944, 0.90695525],\n",
       "       [0.05581358, 0.03700362, 0.90718279],\n",
       "       [0.05648531, 0.03655944, 0.90695525],\n",
       "       [0.05648531, 0.03655944, 0.90695525],\n",
       "       [0.03832167, 0.17467914, 0.78699919],\n",
       "       [0.05648531, 0.03655944, 0.90695525],\n",
       "       [0.05648531, 0.03655944, 0.90695525],\n",
       "       [0.05648531, 0.03655944, 0.90695525],\n",
       "       [0.05201971, 0.03853847, 0.90944182],\n",
       "       [0.05375581, 0.03805985, 0.90818434],\n",
       "       [0.05648531, 0.03655944, 0.90695525],\n",
       "       [0.04676424, 0.03909876, 0.91413699],\n",
       "       [0.05816293, 0.03943975, 0.90239733],\n",
       "       [0.05581358, 0.03700362, 0.90718279],\n",
       "       [0.05581358, 0.03700362, 0.90718279],\n",
       "       [0.05648531, 0.03655944, 0.90695525],\n",
       "       [0.05648531, 0.03655944, 0.90695525],\n",
       "       [0.03832167, 0.17467914, 0.78699919],\n",
       "       [0.05648531, 0.03655944, 0.90695525],\n",
       "       [0.04676424, 0.03909876, 0.91413699],\n",
       "       [0.05648531, 0.03655944, 0.90695525],\n",
       "       [0.03832167, 0.17467914, 0.78699919],\n",
       "       [0.05648531, 0.03655944, 0.90695525],\n",
       "       [0.05648531, 0.03655944, 0.90695525],\n",
       "       [0.03832167, 0.17467914, 0.78699919],\n",
       "       [0.03832167, 0.17467914, 0.78699919],\n",
       "       [0.05648531, 0.03655944, 0.90695525],\n",
       "       [0.05648531, 0.03655944, 0.90695525],\n",
       "       [0.05648531, 0.03655944, 0.90695525],\n",
       "       [0.05648531, 0.03655944, 0.90695525],\n",
       "       [0.05648531, 0.03655944, 0.90695525],\n",
       "       [0.02971723, 0.84601611, 0.12426667],\n",
       "       [0.05193053, 0.03851977, 0.9095497 ],\n",
       "       [0.05648531, 0.03655944, 0.90695525],\n",
       "       [0.05648531, 0.03655944, 0.90695525],\n",
       "       [0.05581358, 0.03700362, 0.90718279],\n",
       "       [0.03832167, 0.17467914, 0.78699919],\n",
       "       [0.05648531, 0.03655944, 0.90695525],\n",
       "       [0.05648531, 0.03655944, 0.90695525],\n",
       "       [0.06381249, 0.0416217 , 0.89456581],\n",
       "       [0.04676424, 0.03909876, 0.91413699],\n",
       "       [0.05648531, 0.03655944, 0.90695525],\n",
       "       [0.05648531, 0.03655944, 0.90695525],\n",
       "       [0.05581358, 0.03700362, 0.90718279],\n",
       "       [0.04676424, 0.03909876, 0.91413699],\n",
       "       [0.05375581, 0.03805985, 0.90818434],\n",
       "       [0.05581358, 0.03700362, 0.90718279],\n",
       "       [0.04676424, 0.03909876, 0.91413699]])"
      ]
     },
     "execution_count": 896,
     "metadata": {},
     "output_type": "execute_result"
    }
   ],
   "source": [
    "clf.predict_proba(iris.data)"
   ]
  },
  {
   "cell_type": "markdown",
   "metadata": {},
   "source": [
    "Perform a simple test using the StackedHeterogenousEnsembleClassifier on the Iris dataset"
   ]
  },
  {
   "cell_type": "code",
   "execution_count": 662,
   "metadata": {
    "scrolled": true
   },
   "outputs": [
    {
     "name": "stdout",
     "output_type": "stream",
     "text": [
      "              precision    recall  f1-score   support\n",
      "\n",
      "           0       1.00      1.00      1.00        50\n",
      "           1       0.94      0.96      0.95        50\n",
      "           2       0.96      0.94      0.95        50\n",
      "\n",
      "    accuracy                           0.97       150\n",
      "   macro avg       0.97      0.97      0.97       150\n",
      "weighted avg       0.97      0.97      0.97       150\n",
      "\n",
      "Confusion Matrix\n"
     ]
    },
    {
     "data": {
      "text/html": [
       "<div>\n",
       "<style scoped>\n",
       "    .dataframe tbody tr th:only-of-type {\n",
       "        vertical-align: middle;\n",
       "    }\n",
       "\n",
       "    .dataframe tbody tr th {\n",
       "        vertical-align: top;\n",
       "    }\n",
       "\n",
       "    .dataframe thead th {\n",
       "        text-align: right;\n",
       "    }\n",
       "</style>\n",
       "<table border=\"1\" class=\"dataframe\">\n",
       "  <thead>\n",
       "    <tr style=\"text-align: right;\">\n",
       "      <th>Predicted</th>\n",
       "      <th>0</th>\n",
       "      <th>1</th>\n",
       "      <th>2</th>\n",
       "      <th>All</th>\n",
       "    </tr>\n",
       "    <tr>\n",
       "      <th>True</th>\n",
       "      <th></th>\n",
       "      <th></th>\n",
       "      <th></th>\n",
       "      <th></th>\n",
       "    </tr>\n",
       "  </thead>\n",
       "  <tbody>\n",
       "    <tr>\n",
       "      <th>0</th>\n",
       "      <td>50</td>\n",
       "      <td>0</td>\n",
       "      <td>0</td>\n",
       "      <td>50</td>\n",
       "    </tr>\n",
       "    <tr>\n",
       "      <th>1</th>\n",
       "      <td>0</td>\n",
       "      <td>48</td>\n",
       "      <td>2</td>\n",
       "      <td>50</td>\n",
       "    </tr>\n",
       "    <tr>\n",
       "      <th>2</th>\n",
       "      <td>0</td>\n",
       "      <td>3</td>\n",
       "      <td>47</td>\n",
       "      <td>50</td>\n",
       "    </tr>\n",
       "    <tr>\n",
       "      <th>All</th>\n",
       "      <td>50</td>\n",
       "      <td>51</td>\n",
       "      <td>49</td>\n",
       "      <td>150</td>\n",
       "    </tr>\n",
       "  </tbody>\n",
       "</table>\n",
       "</div>"
      ],
      "text/plain": [
       "Predicted   0   1   2  All\n",
       "True                      \n",
       "0          50   0   0   50\n",
       "1           0  48   2   50\n",
       "2           0   3  47   50\n",
       "All        50  51  49  150"
      ]
     },
     "metadata": {},
     "output_type": "display_data"
    },
    {
     "name": "stdout",
     "output_type": "stream",
     "text": [
      "(150, 40)\n"
     ]
    },
    {
     "data": {
      "text/plain": [
       "array([[0.89444764, 0.05925779, 0.04629457],\n",
       "       [0.89444764, 0.05925779, 0.04629457],\n",
       "       [0.89444764, 0.05925779, 0.04629457],\n",
       "       [0.89444764, 0.05925779, 0.04629457],\n",
       "       [0.89444764, 0.05925779, 0.04629457],\n",
       "       [0.89444764, 0.05925779, 0.04629457],\n",
       "       [0.89444764, 0.05925779, 0.04629457],\n",
       "       [0.89444764, 0.05925779, 0.04629457],\n",
       "       [0.89444764, 0.05925779, 0.04629457],\n",
       "       [0.89444764, 0.05925779, 0.04629457]])"
      ]
     },
     "execution_count": 662,
     "metadata": {},
     "output_type": "execute_result"
    }
   ],
   "source": [
    "iris = load_iris()\n",
    "n_estimators = 10\n",
    "base_estimator = svm.SVC()\n",
    "hyperparam_range = {\"kernel\":[\"rbf\", \"linear\"], \"C\":np.arange(0.1, 1.0, 0.1), \"gamma\":[0.1, 0.5], \"probability\":[True]}\n",
    "clf = StackedHeterogenousEnsembleClassifier(base_estimator, n_estimators, hyperparam_range, True, svm.SVC(probability=True), 0.7, verbosity = 1)\n",
    "clf.fit(iris.data, iris.target)\n",
    "y_pred = clf.predict(iris.data)\n",
    "print(metrics.classification_report(iris.target, y_pred))\n",
    "print(\"Confusion Matrix\")\n",
    "display(pd.crosstab(np.array(iris.target), y_pred, rownames=['True'], colnames=['Predicted'], margins=True))\n",
    "y_pred = clf.predict_proba(iris.data)\n",
    "y_pred[0:10]"
   ]
  },
  {
   "cell_type": "markdown",
   "metadata": {},
   "source": [
    "Perform a cross validation experiment"
   ]
  },
  {
   "cell_type": "code",
   "execution_count": 898,
   "metadata": {},
   "outputs": [
    {
     "name": "stdout",
     "output_type": "stream",
     "text": [
      "[1.         0.93333333 1.         1.         1.         0.8\n",
      " 0.93333333 0.93333333 1.         1.        ]\n",
      "0.9600000000000002  +/-  0.06110100926607785\n"
     ]
    }
   ],
   "source": [
    "scores = cross_val_score(clf, iris.data, iris.target, cv=10)\n",
    "print(scores)\n",
    "print(np.mean(scores), \" +/- \", np.std(scores))"
   ]
  },
  {
   "cell_type": "markdown",
   "metadata": {},
   "source": [
    "## Task 3: Compare the Performance of the Different Ensembles Defined"
   ]
  },
  {
   "cell_type": "markdown",
   "metadata": {},
   "source": [
    "### Load Experiment Dataset"
   ]
  },
  {
   "cell_type": "markdown",
   "metadata": {},
   "source": [
    "Take only a sample of the dataset for fast testing"
   ]
  },
  {
   "cell_type": "code",
   "execution_count": 899,
   "metadata": {},
   "outputs": [],
   "source": [
    "data_sampling_rate = .2"
   ]
  },
  {
   "cell_type": "markdown",
   "metadata": {},
   "source": [
    "Load the dataset and explore it."
   ]
  },
  {
   "cell_type": "code",
   "execution_count": 900,
   "metadata": {
    "scrolled": false
   },
   "outputs": [
    {
     "data": {
      "text/html": [
       "<div>\n",
       "<style scoped>\n",
       "    .dataframe tbody tr th:only-of-type {\n",
       "        vertical-align: middle;\n",
       "    }\n",
       "\n",
       "    .dataframe tbody tr th {\n",
       "        vertical-align: top;\n",
       "    }\n",
       "\n",
       "    .dataframe thead th {\n",
       "        text-align: right;\n",
       "    }\n",
       "</style>\n",
       "<table border=\"1\" class=\"dataframe\">\n",
       "  <thead>\n",
       "    <tr style=\"text-align: right;\">\n",
       "      <th></th>\n",
       "      <th>F1</th>\n",
       "      <th>F2</th>\n",
       "      <th>F3</th>\n",
       "      <th>F4</th>\n",
       "      <th>F5</th>\n",
       "      <th>F6</th>\n",
       "      <th>F7</th>\n",
       "      <th>F8</th>\n",
       "      <th>F9</th>\n",
       "      <th>F10</th>\n",
       "      <th>...</th>\n",
       "      <th>F40</th>\n",
       "      <th>F41</th>\n",
       "      <th>F42</th>\n",
       "      <th>F43</th>\n",
       "      <th>F44</th>\n",
       "      <th>F45</th>\n",
       "      <th>F46</th>\n",
       "      <th>F47</th>\n",
       "      <th>F48</th>\n",
       "      <th>label</th>\n",
       "    </tr>\n",
       "  </thead>\n",
       "  <tbody>\n",
       "    <tr>\n",
       "      <th>20953</th>\n",
       "      <td>-2.570000e-06</td>\n",
       "      <td>2.470000e-05</td>\n",
       "      <td>-0.000120</td>\n",
       "      <td>-0.000015</td>\n",
       "      <td>-0.000034</td>\n",
       "      <td>-0.000412</td>\n",
       "      <td>0.029154</td>\n",
       "      <td>0.029129</td>\n",
       "      <td>0.029250</td>\n",
       "      <td>0.046155</td>\n",
       "      <td>...</td>\n",
       "      <td>-0.51370</td>\n",
       "      <td>2.9401</td>\n",
       "      <td>6.6339</td>\n",
       "      <td>-1.5032</td>\n",
       "      <td>-1.5032</td>\n",
       "      <td>-1.5031</td>\n",
       "      <td>-1.4923</td>\n",
       "      <td>-1.4924</td>\n",
       "      <td>-1.4926</td>\n",
       "      <td>4</td>\n",
       "    </tr>\n",
       "    <tr>\n",
       "      <th>16336</th>\n",
       "      <td>8.480000e-07</td>\n",
       "      <td>2.270000e-08</td>\n",
       "      <td>-0.000003</td>\n",
       "      <td>0.000001</td>\n",
       "      <td>-0.000005</td>\n",
       "      <td>0.000006</td>\n",
       "      <td>-0.005013</td>\n",
       "      <td>-0.005013</td>\n",
       "      <td>-0.005010</td>\n",
       "      <td>0.018420</td>\n",
       "      <td>...</td>\n",
       "      <td>-0.65224</td>\n",
       "      <td>3.5418</td>\n",
       "      <td>3.0023</td>\n",
       "      <td>-1.4975</td>\n",
       "      <td>-1.4975</td>\n",
       "      <td>-1.4975</td>\n",
       "      <td>-1.4970</td>\n",
       "      <td>-1.4970</td>\n",
       "      <td>-1.4970</td>\n",
       "      <td>4</td>\n",
       "    </tr>\n",
       "    <tr>\n",
       "      <th>7105</th>\n",
       "      <td>-3.710000e-06</td>\n",
       "      <td>1.120000e-05</td>\n",
       "      <td>0.000058</td>\n",
       "      <td>-0.000004</td>\n",
       "      <td>-0.000014</td>\n",
       "      <td>-0.000221</td>\n",
       "      <td>-0.014398</td>\n",
       "      <td>-0.014409</td>\n",
       "      <td>-0.014467</td>\n",
       "      <td>-0.023750</td>\n",
       "      <td>...</td>\n",
       "      <td>-0.79558</td>\n",
       "      <td>7.6029</td>\n",
       "      <td>7.0863</td>\n",
       "      <td>-1.5019</td>\n",
       "      <td>-1.5019</td>\n",
       "      <td>-1.5019</td>\n",
       "      <td>-1.4955</td>\n",
       "      <td>-1.4955</td>\n",
       "      <td>-1.4956</td>\n",
       "      <td>2</td>\n",
       "    </tr>\n",
       "    <tr>\n",
       "      <th>42654</th>\n",
       "      <td>2.840000e-06</td>\n",
       "      <td>2.630000e-06</td>\n",
       "      <td>-0.000012</td>\n",
       "      <td>0.000003</td>\n",
       "      <td>-0.000004</td>\n",
       "      <td>-0.000003</td>\n",
       "      <td>0.001017</td>\n",
       "      <td>0.001015</td>\n",
       "      <td>0.001026</td>\n",
       "      <td>-0.046681</td>\n",
       "      <td>...</td>\n",
       "      <td>-0.61254</td>\n",
       "      <td>14.4430</td>\n",
       "      <td>2.6726</td>\n",
       "      <td>-1.4981</td>\n",
       "      <td>-1.4981</td>\n",
       "      <td>-1.4982</td>\n",
       "      <td>-1.4955</td>\n",
       "      <td>-1.4955</td>\n",
       "      <td>-1.4955</td>\n",
       "      <td>9</td>\n",
       "    </tr>\n",
       "    <tr>\n",
       "      <th>10719</th>\n",
       "      <td>-2.970000e-06</td>\n",
       "      <td>3.820000e-06</td>\n",
       "      <td>0.000007</td>\n",
       "      <td>-0.000002</td>\n",
       "      <td>0.000009</td>\n",
       "      <td>-0.000003</td>\n",
       "      <td>0.014429</td>\n",
       "      <td>0.014425</td>\n",
       "      <td>0.014418</td>\n",
       "      <td>0.016423</td>\n",
       "      <td>...</td>\n",
       "      <td>-0.53736</td>\n",
       "      <td>7.4193</td>\n",
       "      <td>6.8782</td>\n",
       "      <td>-1.5005</td>\n",
       "      <td>-1.5005</td>\n",
       "      <td>-1.5005</td>\n",
       "      <td>-1.4990</td>\n",
       "      <td>-1.4990</td>\n",
       "      <td>-1.4990</td>\n",
       "      <td>3</td>\n",
       "    </tr>\n",
       "  </tbody>\n",
       "</table>\n",
       "<p>5 rows × 49 columns</p>\n",
       "</div>"
      ],
      "text/plain": [
       "                 F1            F2        F3        F4        F5        F6  \\\n",
       "20953 -2.570000e-06  2.470000e-05 -0.000120 -0.000015 -0.000034 -0.000412   \n",
       "16336  8.480000e-07  2.270000e-08 -0.000003  0.000001 -0.000005  0.000006   \n",
       "7105  -3.710000e-06  1.120000e-05  0.000058 -0.000004 -0.000014 -0.000221   \n",
       "42654  2.840000e-06  2.630000e-06 -0.000012  0.000003 -0.000004 -0.000003   \n",
       "10719 -2.970000e-06  3.820000e-06  0.000007 -0.000002  0.000009 -0.000003   \n",
       "\n",
       "             F7        F8        F9       F10  ...      F40      F41     F42  \\\n",
       "20953  0.029154  0.029129  0.029250  0.046155  ... -0.51370   2.9401  6.6339   \n",
       "16336 -0.005013 -0.005013 -0.005010  0.018420  ... -0.65224   3.5418  3.0023   \n",
       "7105  -0.014398 -0.014409 -0.014467 -0.023750  ... -0.79558   7.6029  7.0863   \n",
       "42654  0.001017  0.001015  0.001026 -0.046681  ... -0.61254  14.4430  2.6726   \n",
       "10719  0.014429  0.014425  0.014418  0.016423  ... -0.53736   7.4193  6.8782   \n",
       "\n",
       "          F43     F44     F45     F46     F47     F48  label  \n",
       "20953 -1.5032 -1.5032 -1.5031 -1.4923 -1.4924 -1.4926      4  \n",
       "16336 -1.4975 -1.4975 -1.4975 -1.4970 -1.4970 -1.4970      4  \n",
       "7105  -1.5019 -1.5019 -1.5019 -1.4955 -1.4955 -1.4956      2  \n",
       "42654 -1.4981 -1.4981 -1.4982 -1.4955 -1.4955 -1.4955      9  \n",
       "10719 -1.5005 -1.5005 -1.5005 -1.4990 -1.4990 -1.4990      3  \n",
       "\n",
       "[5 rows x 49 columns]"
      ]
     },
     "metadata": {},
     "output_type": "display_data"
    }
   ],
   "source": [
    "dataset = pd.read_csv('Sensorless_drive_diagnosis.csv')\n",
    "dataset = dataset.sample(frac=data_sampling_rate) #take a sample from the dataset so everyhting runs smoothly\n",
    "display(dataset.head())"
   ]
  },
  {
   "cell_type": "code",
   "execution_count": 901,
   "metadata": {},
   "outputs": [
    {
     "name": "stdout",
     "output_type": "stream",
     "text": [
      "Missing Values\n",
      "0\n"
     ]
    }
   ],
   "source": [
    "print(\"Missing Values\")\n",
    "print(sum(dataset.isnull().sum()))"
   ]
  },
  {
   "cell_type": "code",
   "execution_count": 902,
   "metadata": {},
   "outputs": [
    {
     "data": {
      "text/plain": [
       "10    0.095026\n",
       "9     0.094856\n",
       "3     0.092976\n",
       "11    0.092036\n",
       "5     0.091010\n",
       "2     0.090583\n",
       "8     0.089472\n",
       "7     0.089386\n",
       "6     0.089386\n",
       "1     0.089301\n",
       "4     0.085968\n",
       "Name: label, dtype: float64"
      ]
     },
     "execution_count": 902,
     "metadata": {},
     "output_type": "execute_result"
    }
   ],
   "source": [
    "y = dataset.pop('label')\n",
    "X = dataset\n",
    "y.value_counts()/len(y)\n"
   ]
  },
  {
   "cell_type": "code",
   "execution_count": null,
   "metadata": {},
   "outputs": [],
   "source": [
    "X_train, X_test, y_train, y_test \\\n",
    "    = train_test_split(X, y, \\\n",
    "                       shuffle=True, \\\n",
    "                       stratify = y, \\\n",
    "                       train_size = 0.7)\n",
    "\n",
    "X_train, X_valid, y_train, y_valid \\\n",
    "    = train_test_split(X_train, y_train, \\\n",
    "                        shuffle=True, \\\n",
    "                        stratify = y_train, \\\n",
    "                        train_size = 0.5/0.7)\n",
    "print(X_train.shape, X_test.shape, X_valid.shape)"
   ]
  },
  {
   "cell_type": "code",
   "execution_count": 904,
   "metadata": {},
   "outputs": [],
   "source": [
    "# Make the min max scalar object\n",
    "min_max_scaler = preprocessing.MinMaxScaler((-1,1))\n",
    "min_max_scaler.fit(X_train)\n",
    "\n",
    "# Train the scalar on the training dataset\n",
    "a = min_max_scaler.transform(X_train)\n",
    "\n",
    "# Little trick to stop transform from pandas daataframe to numpy array losing column namesWatch out for putting back in columns here\n",
    "cols = X_train.columns\n",
    "X_train = pd.DataFrame(a, columns = cols) \n",
    "\n",
    "# Also normalise other partitions\n",
    "a = min_max_scaler.transform(X_train_plus_valid)\n",
    "X_train_plus_valid = pd.DataFrame(a, columns = cols) \n",
    "a = min_max_scaler.transform(X_valid)\n",
    "X_valid = pd.DataFrame(a, columns = cols) \n",
    "a = min_max_scaler.transform(X_test)\n",
    "X_test = pd.DataFrame(a, columns = cols) \n"
   ]
  },
  {
   "cell_type": "markdown",
   "metadata": {},
   "source": [
    "In order to develop an initial performance baseline , I decided to compare the performance of the Heterogeneous Ensemble against itself, given four different base classifiers. \n",
    "- I decided to use Decision Trees ars they often work well in ensembles. - I then selected kNN as it often does not perform well in ensembles, due to its' stability, and though it would be interesting to see if it performed better with a Heterogeneous Ensemble. \n",
    "- SVM is the default classifier given, and hence worth considering in testing. It is also already an ensemble, so it will be interesting to see if the additional diversity produced by the sampling of the hyper paramter space has a significant impact.  \n",
    "- Finally, I decided to use a logistic regressor, as I have not seen logistic regression frequently used in ensembles, and I was curious as to its' performance. "
   ]
  },
  {
   "cell_type": "code",
   "execution_count": 905,
   "metadata": {},
   "outputs": [],
   "source": [
    "from sklearn.ensemble import GradientBoostingClassifier \n",
    "from sklearn.neighbors import KNeighborsClassifier\n",
    "from sklearn.tree import DecisionTreeClassifier\n",
    "from sklearn.linear_model import LogisticRegression\n",
    "from collections import Counter\n",
    "from sklearn.metrics import confusion_matrix, accuracy_score\n",
    "from sklearn.model_selection import train_test_split\n",
    "from sklearn.metrics import roc_curve, auc\n",
    "from sklearn.metrics import f1_score\n",
    "from sklearn.metrics import plot_precision_recall_curve\n",
    "from sklearn.ensemble import BaggingClassifier"
   ]
  },
  {
   "cell_type": "code",
   "execution_count": 1071,
   "metadata": {},
   "outputs": [],
   "source": [
    "models = {}\n",
    "models['DTree'] = DecisionTreeClassifier(random_state=42)\n",
    "models['kNN'] = KNeighborsClassifier()  \n",
    "models['SVM'] = svm.SVC(random_state=42)\n",
    "models['LR'] = LogisticRegression(random_state=42)\n"
   ]
  },
  {
   "cell_type": "code",
   "execution_count": 1005,
   "metadata": {},
   "outputs": [],
   "source": [
    "##11 hyper parameters each "
   ]
  },
  {
   "cell_type": "code",
   "execution_count": 1072,
   "metadata": {},
   "outputs": [],
   "source": [
    "hparams = {}\n",
    "hparams['DTree'] = {'max_depth': list(range(2,100)), 'min_samples_split': list(range(2,50))}\n",
    "hparams['kNN'] = {'n_neighbors': list(range(3,50)), 'metric': ['euclidean', 'chebyshev', 'minkowski', 'manhattan']}\n",
    "hparams['SVM'] = {'kernel': ['linear', 'poly', 'rbf', 'sigmoid'], 'gamma': np.arange(0.1, 10, .1).tolist()}\n",
    "hparams['LR'] = {'C': np.arange(1.0, 10.0, 0.5).tolist(), 'solver': ['newton-cg', 'lbfgs', 'liblinear', 'sag', 'saga']}"
   ]
  },
  {
   "cell_type": "markdown",
   "metadata": {},
   "source": [
    "For this initial test we will be comparing the performance of the ensemble of each classifier against the single classifier itself, and also against a bagged version of the classifier. As an initial measure of performance, we will be looking at the accuracy score when using the valdation set. The parameter ranges have been hand-selected with the goal of provoking the most diversity possible for the heterogenous ensemble. For this initial test, n will be left at the deafult, 10, for both the bootstrapped ensemble and the heterogeneous ensemble. For both the bootstrapped classifier, the default parameters will be used. "
   ]
  },
  {
   "cell_type": "code",
   "execution_count": 935,
   "metadata": {},
   "outputs": [],
   "source": [
    "benchmark_1 = pd.DataFrame(columns=[m for m in hparams.keys()],\n",
    "                            index = ['Single', 'Bootstrapped', 'Ensemble', 'Stacked Ensemble'])\n",
    "benchmark_2 = pd.DataFrame(columns=[m for m in hparams.keys()],\n",
    "                            index = ['Single', 'Bootstrapped', 'Ensemble', 'Stacked Ensemble'])\n",
    "for m in models:\n",
    "    clfs = [copy(models[m]),BaggingClassifier(base_estimator=copy(models[m]), random_state=42),\n",
    "           HeterogenousEnsembleClassifier(base_estimator=copy(models[m]), hp_range_map=hparams[m],random_state=42),\n",
    "           StackedHeterogenousEnsembleClassifier(base_estimator=copy(models[m]), hp_range_map=hparams[m],random_state=42)]\n",
    "    pred = []\n",
    "    f1 = []\n",
    "    for c in clfs:\n",
    "        clf = c\n",
    "        y_preds = clf.fit(X_train, y_train).predict(X_valid)\n",
    "        pred.append(accuracy_score(y_valid, y_preds))\n",
    "        f1.append(f1_score(y_valid, y_preds, average='macro'))\n",
    "    benchmark_1[m] = pred\n",
    "    benchmark_2[m] = f1"
   ]
  },
  {
   "cell_type": "code",
   "execution_count": 936,
   "metadata": {},
   "outputs": [],
   "source": [
    "ranked_benchmark = benchmark_1.copy().rank(ascending=False)\n",
    "ranked_benchmark['average'] = ranked_benchmark.mean(axis=1).rank()\n"
   ]
  },
  {
   "cell_type": "code",
   "execution_count": 937,
   "metadata": {},
   "outputs": [
    {
     "data": {
      "text/html": [
       "<div>\n",
       "<style scoped>\n",
       "    .dataframe tbody tr th:only-of-type {\n",
       "        vertical-align: middle;\n",
       "    }\n",
       "\n",
       "    .dataframe tbody tr th {\n",
       "        vertical-align: top;\n",
       "    }\n",
       "\n",
       "    .dataframe thead th {\n",
       "        text-align: right;\n",
       "    }\n",
       "</style>\n",
       "<table border=\"1\" class=\"dataframe\">\n",
       "  <thead>\n",
       "    <tr style=\"text-align: right;\">\n",
       "      <th></th>\n",
       "      <th>DTree</th>\n",
       "      <th>kNN</th>\n",
       "      <th>SVM</th>\n",
       "      <th>LR</th>\n",
       "      <th>average</th>\n",
       "    </tr>\n",
       "  </thead>\n",
       "  <tbody>\n",
       "    <tr>\n",
       "      <th>Single</th>\n",
       "      <td>3.0</td>\n",
       "      <td>2.0</td>\n",
       "      <td>3.0</td>\n",
       "      <td>4.0</td>\n",
       "      <td>4.0</td>\n",
       "    </tr>\n",
       "    <tr>\n",
       "      <th>Bootstrapped</th>\n",
       "      <td>1.0</td>\n",
       "      <td>3.5</td>\n",
       "      <td>4.0</td>\n",
       "      <td>3.0</td>\n",
       "      <td>3.0</td>\n",
       "    </tr>\n",
       "    <tr>\n",
       "      <th>Ensemble</th>\n",
       "      <td>2.0</td>\n",
       "      <td>3.5</td>\n",
       "      <td>1.0</td>\n",
       "      <td>1.0</td>\n",
       "      <td>1.0</td>\n",
       "    </tr>\n",
       "    <tr>\n",
       "      <th>Stacked Ensemble</th>\n",
       "      <td>4.0</td>\n",
       "      <td>1.0</td>\n",
       "      <td>2.0</td>\n",
       "      <td>2.0</td>\n",
       "      <td>2.0</td>\n",
       "    </tr>\n",
       "  </tbody>\n",
       "</table>\n",
       "</div>"
      ],
      "text/plain": [
       "                  DTree  kNN  SVM   LR  average\n",
       "Single              3.0  2.0  3.0  4.0      4.0\n",
       "Bootstrapped        1.0  3.5  4.0  3.0      3.0\n",
       "Ensemble            2.0  3.5  1.0  1.0      1.0\n",
       "Stacked Ensemble    4.0  1.0  2.0  2.0      2.0"
      ]
     },
     "execution_count": 937,
     "metadata": {},
     "output_type": "execute_result"
    }
   ],
   "source": [
    "ranked_benchmark"
   ]
  },
  {
   "cell_type": "markdown",
   "metadata": {},
   "source": [
    "Above, we can see that the bootstrapped clasifiers and the heterogeneous ensemble seem to be perfoming best in terms of the rankings. These rankings do not give us a view on the actual range of performance with regards to accuracy. Below I will plot he accuracy scores to give us a clearer view of their performance. "
   ]
  },
  {
   "cell_type": "code",
   "execution_count": 938,
   "metadata": {},
   "outputs": [
    {
     "data": {
      "text/html": [
       "<div>\n",
       "<style scoped>\n",
       "    .dataframe tbody tr th:only-of-type {\n",
       "        vertical-align: middle;\n",
       "    }\n",
       "\n",
       "    .dataframe tbody tr th {\n",
       "        vertical-align: top;\n",
       "    }\n",
       "\n",
       "    .dataframe thead th {\n",
       "        text-align: right;\n",
       "    }\n",
       "</style>\n",
       "<table border=\"1\" class=\"dataframe\">\n",
       "  <thead>\n",
       "    <tr style=\"text-align: right;\">\n",
       "      <th></th>\n",
       "      <th>DTree</th>\n",
       "      <th>kNN</th>\n",
       "      <th>SVM</th>\n",
       "      <th>LR</th>\n",
       "    </tr>\n",
       "  </thead>\n",
       "  <tbody>\n",
       "    <tr>\n",
       "      <th>Single</th>\n",
       "      <td>0.945323</td>\n",
       "      <td>0.928663</td>\n",
       "      <td>0.845792</td>\n",
       "      <td>0.863733</td>\n",
       "    </tr>\n",
       "    <tr>\n",
       "      <th>Bootstrapped</th>\n",
       "      <td>0.967962</td>\n",
       "      <td>0.926527</td>\n",
       "      <td>0.841094</td>\n",
       "      <td>0.866724</td>\n",
       "    </tr>\n",
       "    <tr>\n",
       "      <th>Ensemble</th>\n",
       "      <td>0.960273</td>\n",
       "      <td>0.926527</td>\n",
       "      <td>0.905596</td>\n",
       "      <td>0.883383</td>\n",
       "    </tr>\n",
       "    <tr>\n",
       "      <th>Stacked Ensemble</th>\n",
       "      <td>0.942760</td>\n",
       "      <td>0.937206</td>\n",
       "      <td>0.894490</td>\n",
       "      <td>0.869714</td>\n",
       "    </tr>\n",
       "  </tbody>\n",
       "</table>\n",
       "</div>"
      ],
      "text/plain": [
       "                     DTree       kNN       SVM        LR\n",
       "Single            0.945323  0.928663  0.845792  0.863733\n",
       "Bootstrapped      0.967962  0.926527  0.841094  0.866724\n",
       "Ensemble          0.960273  0.926527  0.905596  0.883383\n",
       "Stacked Ensemble  0.942760  0.937206  0.894490  0.869714"
      ]
     },
     "execution_count": 938,
     "metadata": {},
     "output_type": "execute_result"
    }
   ],
   "source": [
    "benchmark_1"
   ]
  },
  {
   "cell_type": "code",
   "execution_count": 939,
   "metadata": {},
   "outputs": [
    {
     "data": {
      "text/html": [
       "<div>\n",
       "<style scoped>\n",
       "    .dataframe tbody tr th:only-of-type {\n",
       "        vertical-align: middle;\n",
       "    }\n",
       "\n",
       "    .dataframe tbody tr th {\n",
       "        vertical-align: top;\n",
       "    }\n",
       "\n",
       "    .dataframe thead th {\n",
       "        text-align: right;\n",
       "    }\n",
       "</style>\n",
       "<table border=\"1\" class=\"dataframe\">\n",
       "  <thead>\n",
       "    <tr style=\"text-align: right;\">\n",
       "      <th></th>\n",
       "      <th>DTree</th>\n",
       "      <th>kNN</th>\n",
       "      <th>SVM</th>\n",
       "      <th>LR</th>\n",
       "      <th>average</th>\n",
       "    </tr>\n",
       "  </thead>\n",
       "  <tbody>\n",
       "    <tr>\n",
       "      <th>Single</th>\n",
       "      <td>3.0</td>\n",
       "      <td>2.0</td>\n",
       "      <td>3.0</td>\n",
       "      <td>4.0</td>\n",
       "      <td>4.0</td>\n",
       "    </tr>\n",
       "    <tr>\n",
       "      <th>Bootstrapped</th>\n",
       "      <td>1.0</td>\n",
       "      <td>3.0</td>\n",
       "      <td>4.0</td>\n",
       "      <td>3.0</td>\n",
       "      <td>3.0</td>\n",
       "    </tr>\n",
       "    <tr>\n",
       "      <th>Ensemble</th>\n",
       "      <td>2.0</td>\n",
       "      <td>4.0</td>\n",
       "      <td>1.0</td>\n",
       "      <td>1.0</td>\n",
       "      <td>1.0</td>\n",
       "    </tr>\n",
       "    <tr>\n",
       "      <th>Stacked Ensemble</th>\n",
       "      <td>4.0</td>\n",
       "      <td>1.0</td>\n",
       "      <td>2.0</td>\n",
       "      <td>2.0</td>\n",
       "      <td>2.0</td>\n",
       "    </tr>\n",
       "  </tbody>\n",
       "</table>\n",
       "</div>"
      ],
      "text/plain": [
       "                  DTree  kNN  SVM   LR  average\n",
       "Single              3.0  2.0  3.0  4.0      4.0\n",
       "Bootstrapped        1.0  3.0  4.0  3.0      3.0\n",
       "Ensemble            2.0  4.0  1.0  1.0      1.0\n",
       "Stacked Ensemble    4.0  1.0  2.0  2.0      2.0"
      ]
     },
     "execution_count": 939,
     "metadata": {},
     "output_type": "execute_result"
    }
   ],
   "source": [
    "ranked_benchmark2 = benchmark_2.copy().rank(ascending=False)\n",
    "ranked_benchmark2['average'] = ranked_benchmark2.mean(axis=1).rank()\n",
    "ranked_benchmark2"
   ]
  },
  {
   "cell_type": "markdown",
   "metadata": {},
   "source": [
    "We can see here that the rankings for the F1 score of the models are identical to the accuracy rankings. Given that the data is relatively balanced, this makes sense, the models are behaving in a fairly unbiased mannor. "
   ]
  },
  {
   "cell_type": "code",
   "execution_count": 700,
   "metadata": {},
   "outputs": [],
   "source": [
    "def plot_subplot(fig, ax, title, res):\n",
    "    X = np.arange(1)\n",
    "    ax.axhline(y=res.iloc[0], color='black')\n",
    "    ax.bar(X + 0.00, res.iloc[0], color = 'b', alpha=0.5, width = 0.05, label=\"Single\")\n",
    "    ax.bar(X + 0.10, res.iloc[1], color = 'y', alpha=0.5, width = 0.05, label = \"Bootstrapped\")\n",
    "    ax.bar(X + 0.20, res.iloc[2], color = 'g', alpha=0.5, width = 0.05, label = \"Heterogeneous\")\n",
    "    ax.bar(X + 0.30, res.iloc[3], color = 'r', alpha=0.5, width = 0.05, label = \"Heterogeneous\")\n",
    "    ax.set_title(title)\n"
   ]
  },
  {
   "cell_type": "code",
   "execution_count": 701,
   "metadata": {},
   "outputs": [
    {
     "data": {
      "text/plain": [
       "Text(0.5, 0.98, 'Accuracy Scores')"
      ]
     },
     "execution_count": 701,
     "metadata": {},
     "output_type": "execute_result"
    },
    {
     "data": {
      "image/png": "[encoded data removed]",
      "text/plain": [
       "<Figure size 1008x864 with 4 Axes>"
      ]
     },
     "metadata": {
      "needs_background": "light"
     },
     "output_type": "display_data"
    }
   ],
   "source": [
    "f, axs = plt.subplots(2, 2, figsize=(14,12), sharex=True)\n",
    "plot_subplot(f, axs[0,0], \"Decision Tree\", benchmark_1['DTree'])\n",
    "plot_subplot(f, axs[0,1], \"kNN\", benchmark_1['kNN'])\n",
    "plot_subplot(f, axs[1,0], \"SVM\", benchmark_1['SVM'])\n",
    "plot_subplot(f, axs[1,1], \"Logistic Regression\", benchmark_1['LR'])\n",
    "b = mpatches.Patch(color='blue', alpha=0.5, label='Single')\n",
    "y = mpatches.Patch(color='yellow', alpha=0.5, label='Bootstrapped')\n",
    "g = mpatches.Patch(color='green', alpha=0.5, label='Heterogeneous')\n",
    "r = mpatches.Patch(color='red', alpha=0.5, label='Stacked Heterogeneous')\n",
    "plt.legend(handles=[b,y,g,r], bbox_to_anchor=(1.05, 1), loc='upper left')\n",
    "f.suptitle(\"Accuracy Scores\")"
   ]
  },
  {
   "cell_type": "markdown",
   "metadata": {},
   "source": [
    "- Globally the rankings of performance are very changeable. Although the non-stacked heterogeneous ensemble is first overall in the average rankings, there is no obvious \"winner\". \n",
    "- For the decision tree, the stacked classifier has performed the worst, even worse than the single base classifier. The heterogeneous ensemble has come in second to the boosted classifier. \n",
    "- For kNN, the heterogeneous ensemble has perforformed the worst on this data, and the stacked hetereogeneous ensemble has performed the best. This is an interesting result, clearly the stacked classifier has learnt something more sophisticated than predicting the majority in this instance.\n",
    "- For SVM both the heterogeneous ensemble and the stacked heterogeneous ensemble have performed very well, with the stacked heterogeneous ensemble performing slightly worse than the standard heterogeneous ensemble. \n",
    "- And for Logistic Regression we see a similar result, the two heterogeneous ensembles have performed the best, with the non-stacked model performing slightly better than the stacked model.\n",
    "\n",
    "Given that holdout testing is done with a single \"slice\" of the data, it hard to discern whether these results are fiable our not. I have decided to take the models where the stacked classifier performed the worst (Decision tree) and the non-stacked classifier performed the worst (kNN) and cross validate, while also varying the random seed, to check the stability of these results. I am leaving the hyper paramater range unchanged.\n"
   ]
  },
  {
   "cell_type": "code",
   "execution_count": 942,
   "metadata": {},
   "outputs": [],
   "source": [
    "from sklearn.model_selection import cross_validate, KFold\n",
    "from sklearn.metrics import make_scorer\n",
    "from sklearn.model_selection import cross_val_score"
   ]
  },
  {
   "cell_type": "code",
   "execution_count": 991,
   "metadata": {},
   "outputs": [
    {
     "name": "stdout",
     "output_type": "stream",
     "text": [
      "rep  1 class  DecisionTreeClassifier\n",
      "rep  1 class  BaggingClassifier\n",
      "rep  1 class  HeterogenousEnsembleClassifier\n",
      "rep  1 class  StackedHeterogenousEnsembleClassifier\n",
      "rep  2 class  DecisionTreeClassifier\n",
      "rep  2 class  BaggingClassifier\n",
      "rep  2 class  HeterogenousEnsembleClassifier\n",
      "rep  2 class  StackedHeterogenousEnsembleClassifier\n",
      "rep  3 class  DecisionTreeClassifier\n",
      "rep  3 class  BaggingClassifier\n",
      "rep  3 class  HeterogenousEnsembleClassifier\n",
      "rep  3 class  StackedHeterogenousEnsembleClassifier\n",
      "rep  4 class  DecisionTreeClassifier\n",
      "rep  4 class  BaggingClassifier\n",
      "rep  4 class  HeterogenousEnsembleClassifier\n",
      "rep  4 class  StackedHeterogenousEnsembleClassifier\n",
      "rep  5 class  DecisionTreeClassifier\n",
      "rep  5 class  BaggingClassifier\n",
      "rep  5 class  HeterogenousEnsembleClassifier\n",
      "rep  5 class  StackedHeterogenousEnsembleClassifier\n"
     ]
    }
   ],
   "source": [
    "reps = 5\n",
    "folds = 10\n",
    "benchmark_3 = pd.DataFrame(index = ['Single', 'Bootstrapped', 'Ensemble', 'Stacked Ensemble'],\n",
    "                           columns = ['Fold ' + str(i) for i in range(1,reps+1)])\n",
    "for i in range (0, reps):\n",
    "    kf = KFold(n_splits = folds, shuffle = True)\n",
    "    clfs = [DecisionTreeClassifier(random_state =i+i),\n",
    "            BaggingClassifier(base_estimator=copy(DecisionTreeClassifier(random_state = i+i)), random_state=i+i),\n",
    "            HeterogenousEnsembleClassifier(base_estimator=DecisionTreeClassifier(random_state =i+i), hp_range_map=hparams['DTree'],random_state=i+i, verbosity=0),\n",
    "            StackedHeterogenousEnsembleClassifier(base_estimator=DecisionTreeClassifier(random_state =i+i), hp_range_map=hparams['DTree'],random_state=i+i, verbosity=0)]\n",
    "    results = []\n",
    "    for c in clfs:\n",
    "        print(\"rep \", i+1,\"class \", c.__class__.__name__)\n",
    "        xval = cross_val_score(c, X_train, y_train, cv=kf, scoring='accuracy', error_score=\"raise\")\n",
    "        results.append(xval.mean())\n",
    "    benchmark_3['Fold '+str(i+1)] = results\n",
    "        \n"
   ]
  },
  {
   "cell_type": "code",
   "execution_count": 994,
   "metadata": {},
   "outputs": [
    {
     "data": {
      "text/html": [
       "<div>\n",
       "<style scoped>\n",
       "    .dataframe tbody tr th:only-of-type {\n",
       "        vertical-align: middle;\n",
       "    }\n",
       "\n",
       "    .dataframe tbody tr th {\n",
       "        vertical-align: top;\n",
       "    }\n",
       "\n",
       "    .dataframe thead th {\n",
       "        text-align: right;\n",
       "    }\n",
       "</style>\n",
       "<table border=\"1\" class=\"dataframe\">\n",
       "  <thead>\n",
       "    <tr style=\"text-align: right;\">\n",
       "      <th></th>\n",
       "      <th>Fold 1</th>\n",
       "      <th>Fold 2</th>\n",
       "      <th>Fold 3</th>\n",
       "      <th>Fold 4</th>\n",
       "      <th>Fold 5</th>\n",
       "    </tr>\n",
       "  </thead>\n",
       "  <tbody>\n",
       "    <tr>\n",
       "      <th>Single</th>\n",
       "      <td>0.944786</td>\n",
       "      <td>0.942222</td>\n",
       "      <td>0.940684</td>\n",
       "      <td>0.938974</td>\n",
       "      <td>0.942051</td>\n",
       "    </tr>\n",
       "    <tr>\n",
       "      <th>Bootstrapped</th>\n",
       "      <td>0.967009</td>\n",
       "      <td>0.962906</td>\n",
       "      <td>0.963419</td>\n",
       "      <td>0.963248</td>\n",
       "      <td>0.966325</td>\n",
       "    </tr>\n",
       "    <tr>\n",
       "      <th>Ensemble</th>\n",
       "      <td>0.955214</td>\n",
       "      <td>0.956752</td>\n",
       "      <td>0.961368</td>\n",
       "      <td>0.951966</td>\n",
       "      <td>0.958803</td>\n",
       "    </tr>\n",
       "    <tr>\n",
       "      <th>Stacked Ensemble</th>\n",
       "      <td>0.934017</td>\n",
       "      <td>0.936581</td>\n",
       "      <td>0.925128</td>\n",
       "      <td>0.930598</td>\n",
       "      <td>0.927863</td>\n",
       "    </tr>\n",
       "  </tbody>\n",
       "</table>\n",
       "</div>"
      ],
      "text/plain": [
       "                    Fold 1    Fold 2    Fold 3    Fold 4    Fold 5\n",
       "Single            0.944786  0.942222  0.940684  0.938974  0.942051\n",
       "Bootstrapped      0.967009  0.962906  0.963419  0.963248  0.966325\n",
       "Ensemble          0.955214  0.956752  0.961368  0.951966  0.958803\n",
       "Stacked Ensemble  0.934017  0.936581  0.925128  0.930598  0.927863"
      ]
     },
     "execution_count": 994,
     "metadata": {},
     "output_type": "execute_result"
    }
   ],
   "source": [
    "benchmark_3"
   ]
  },
  {
   "cell_type": "code",
   "execution_count": 996,
   "metadata": {},
   "outputs": [
    {
     "data": {
      "text/html": [
       "<div>\n",
       "<style scoped>\n",
       "    .dataframe tbody tr th:only-of-type {\n",
       "        vertical-align: middle;\n",
       "    }\n",
       "\n",
       "    .dataframe tbody tr th {\n",
       "        vertical-align: top;\n",
       "    }\n",
       "\n",
       "    .dataframe thead th {\n",
       "        text-align: right;\n",
       "    }\n",
       "</style>\n",
       "<table border=\"1\" class=\"dataframe\">\n",
       "  <thead>\n",
       "    <tr style=\"text-align: right;\">\n",
       "      <th></th>\n",
       "      <th>Fold 1</th>\n",
       "      <th>Fold 2</th>\n",
       "      <th>Fold 3</th>\n",
       "      <th>Fold 4</th>\n",
       "      <th>Fold 5</th>\n",
       "      <th>average</th>\n",
       "    </tr>\n",
       "  </thead>\n",
       "  <tbody>\n",
       "    <tr>\n",
       "      <th>Single</th>\n",
       "      <td>3.0</td>\n",
       "      <td>3.0</td>\n",
       "      <td>3.0</td>\n",
       "      <td>3.0</td>\n",
       "      <td>3.0</td>\n",
       "      <td>3.0</td>\n",
       "    </tr>\n",
       "    <tr>\n",
       "      <th>Bootstrapped</th>\n",
       "      <td>1.0</td>\n",
       "      <td>1.0</td>\n",
       "      <td>1.0</td>\n",
       "      <td>1.0</td>\n",
       "      <td>1.0</td>\n",
       "      <td>1.0</td>\n",
       "    </tr>\n",
       "    <tr>\n",
       "      <th>Ensemble</th>\n",
       "      <td>2.0</td>\n",
       "      <td>2.0</td>\n",
       "      <td>2.0</td>\n",
       "      <td>2.0</td>\n",
       "      <td>2.0</td>\n",
       "      <td>2.0</td>\n",
       "    </tr>\n",
       "    <tr>\n",
       "      <th>Stacked Ensemble</th>\n",
       "      <td>4.0</td>\n",
       "      <td>4.0</td>\n",
       "      <td>4.0</td>\n",
       "      <td>4.0</td>\n",
       "      <td>4.0</td>\n",
       "      <td>4.0</td>\n",
       "    </tr>\n",
       "  </tbody>\n",
       "</table>\n",
       "</div>"
      ],
      "text/plain": [
       "                  Fold 1  Fold 2  Fold 3  Fold 4  Fold 5  average\n",
       "Single               3.0     3.0     3.0     3.0     3.0      3.0\n",
       "Bootstrapped         1.0     1.0     1.0     1.0     1.0      1.0\n",
       "Ensemble             2.0     2.0     2.0     2.0     2.0      2.0\n",
       "Stacked Ensemble     4.0     4.0     4.0     4.0     4.0      4.0"
      ]
     },
     "execution_count": 996,
     "metadata": {},
     "output_type": "execute_result"
    }
   ],
   "source": [
    "ranked_benchmark3 = benchmark_3.copy().rank(ascending=False)\n",
    "ranked_benchmark3['average'] = ranked_benchmark3.mean(axis=1).rank()\n",
    "ranked_benchmark3"
   ]
  },
  {
   "cell_type": "markdown",
   "metadata": {},
   "source": [
    "The results here are extremely stable. For 5 repitions of 10 fold cross validation, with a different random state seed and shuffling of the data at each repition, the ranks have not varied. The stacked ensemble definitively does not perform well with a Decision Tree as a base classifier. This is very unusual, given that decision trees ususally respond well to ensembles. It is possible that the number of estimators is not sufficient, but given that the non-stacked heterogeneous ensemble is performing relatively well, that seems unlikely. It may be the combination of Decision Tree with SVM as the stack, that is not combining well together. We will look at this later in the experiment. "
   ]
  },
  {
   "cell_type": "code",
   "execution_count": 998,
   "metadata": {},
   "outputs": [
    {
     "name": "stdout",
     "output_type": "stream",
     "text": [
      "rep  1 class  KNeighborsClassifier\n",
      "rep  1 class  BaggingClassifier\n",
      "rep  1 class  HeterogenousEnsembleClassifier\n",
      "rep  1 class  StackedHeterogenousEnsembleClassifier\n",
      "rep  2 class  KNeighborsClassifier\n",
      "rep  2 class  BaggingClassifier\n",
      "rep  2 class  HeterogenousEnsembleClassifier\n",
      "rep  2 class  StackedHeterogenousEnsembleClassifier\n",
      "rep  3 class  KNeighborsClassifier\n",
      "rep  3 class  BaggingClassifier\n",
      "rep  3 class  HeterogenousEnsembleClassifier\n",
      "rep  3 class  StackedHeterogenousEnsembleClassifier\n",
      "rep  4 class  KNeighborsClassifier\n",
      "rep  4 class  BaggingClassifier\n",
      "rep  4 class  HeterogenousEnsembleClassifier\n",
      "rep  4 class  StackedHeterogenousEnsembleClassifier\n",
      "rep  5 class  KNeighborsClassifier\n",
      "rep  5 class  BaggingClassifier\n",
      "rep  5 class  HeterogenousEnsembleClassifier\n",
      "rep  5 class  StackedHeterogenousEnsembleClassifier\n"
     ]
    }
   ],
   "source": [
    "reps = 5\n",
    "folds = 10\n",
    "benchmark_4 = pd.DataFrame(index = ['Single', 'Bootstrapped', 'Ensemble', 'Stacked Ensemble'],\n",
    "                           columns = ['Fold ' + str(i) for i in range(1,reps+1)])\n",
    "for i in range (0, reps):\n",
    "    kf = KFold(n_splits = folds, shuffle = True)\n",
    "    clfs = [ KNeighborsClassifier() ,\n",
    "            BaggingClassifier(base_estimator=KNeighborsClassifier(), random_state=i+i),\n",
    "            HeterogenousEnsembleClassifier(base_estimator= KNeighborsClassifier(), hp_range_map=hparams['kNN'],random_state=i+i, verbosity=0),\n",
    "            StackedHeterogenousEnsembleClassifier(base_estimator= KNeighborsClassifier() , hp_range_map=hparams['kNN'],random_state=i+i, verbosity=0)]\n",
    "    results = []\n",
    "    for c in clfs:\n",
    "        print(\"rep \", i+1,\"class \", c.__class__.__name__)\n",
    "        xval = cross_val_score(c, X_train, y_train, cv=kf, scoring='accuracy', error_score=\"raise\")\n",
    "        results.append(xval.mean())\n",
    "    benchmark_4['Fold '+str(i+1)] = results"
   ]
  },
  {
   "cell_type": "code",
   "execution_count": 999,
   "metadata": {},
   "outputs": [
    {
     "data": {
      "text/html": [
       "<div>\n",
       "<style scoped>\n",
       "    .dataframe tbody tr th:only-of-type {\n",
       "        vertical-align: middle;\n",
       "    }\n",
       "\n",
       "    .dataframe tbody tr th {\n",
       "        vertical-align: top;\n",
       "    }\n",
       "\n",
       "    .dataframe thead th {\n",
       "        text-align: right;\n",
       "    }\n",
       "</style>\n",
       "<table border=\"1\" class=\"dataframe\">\n",
       "  <thead>\n",
       "    <tr style=\"text-align: right;\">\n",
       "      <th></th>\n",
       "      <th>Fold 1</th>\n",
       "      <th>Fold 2</th>\n",
       "      <th>Fold 3</th>\n",
       "      <th>Fold 4</th>\n",
       "      <th>Fold 5</th>\n",
       "    </tr>\n",
       "  </thead>\n",
       "  <tbody>\n",
       "    <tr>\n",
       "      <th>Single</th>\n",
       "      <td>0.929573</td>\n",
       "      <td>0.930598</td>\n",
       "      <td>0.931282</td>\n",
       "      <td>0.932479</td>\n",
       "      <td>0.929231</td>\n",
       "    </tr>\n",
       "    <tr>\n",
       "      <th>Bootstrapped</th>\n",
       "      <td>0.931282</td>\n",
       "      <td>0.931795</td>\n",
       "      <td>0.931453</td>\n",
       "      <td>0.930940</td>\n",
       "      <td>0.935214</td>\n",
       "    </tr>\n",
       "    <tr>\n",
       "      <th>Ensemble</th>\n",
       "      <td>0.891966</td>\n",
       "      <td>0.919658</td>\n",
       "      <td>0.912991</td>\n",
       "      <td>0.896923</td>\n",
       "      <td>0.913333</td>\n",
       "    </tr>\n",
       "    <tr>\n",
       "      <th>Stacked Ensemble</th>\n",
       "      <td>0.905128</td>\n",
       "      <td>0.924615</td>\n",
       "      <td>0.904103</td>\n",
       "      <td>0.887521</td>\n",
       "      <td>0.935897</td>\n",
       "    </tr>\n",
       "  </tbody>\n",
       "</table>\n",
       "</div>"
      ],
      "text/plain": [
       "                    Fold 1    Fold 2    Fold 3    Fold 4    Fold 5\n",
       "Single            0.929573  0.930598  0.931282  0.932479  0.929231\n",
       "Bootstrapped      0.931282  0.931795  0.931453  0.930940  0.935214\n",
       "Ensemble          0.891966  0.919658  0.912991  0.896923  0.913333\n",
       "Stacked Ensemble  0.905128  0.924615  0.904103  0.887521  0.935897"
      ]
     },
     "execution_count": 999,
     "metadata": {},
     "output_type": "execute_result"
    }
   ],
   "source": [
    "benchmark_4"
   ]
  },
  {
   "cell_type": "code",
   "execution_count": 1000,
   "metadata": {},
   "outputs": [
    {
     "data": {
      "text/html": [
       "<div>\n",
       "<style scoped>\n",
       "    .dataframe tbody tr th:only-of-type {\n",
       "        vertical-align: middle;\n",
       "    }\n",
       "\n",
       "    .dataframe tbody tr th {\n",
       "        vertical-align: top;\n",
       "    }\n",
       "\n",
       "    .dataframe thead th {\n",
       "        text-align: right;\n",
       "    }\n",
       "</style>\n",
       "<table border=\"1\" class=\"dataframe\">\n",
       "  <thead>\n",
       "    <tr style=\"text-align: right;\">\n",
       "      <th></th>\n",
       "      <th>Fold 1</th>\n",
       "      <th>Fold 2</th>\n",
       "      <th>Fold 3</th>\n",
       "      <th>Fold 4</th>\n",
       "      <th>Fold 5</th>\n",
       "      <th>average</th>\n",
       "    </tr>\n",
       "  </thead>\n",
       "  <tbody>\n",
       "    <tr>\n",
       "      <th>Single</th>\n",
       "      <td>2.0</td>\n",
       "      <td>2.0</td>\n",
       "      <td>2.0</td>\n",
       "      <td>1.0</td>\n",
       "      <td>3.0</td>\n",
       "      <td>2.0</td>\n",
       "    </tr>\n",
       "    <tr>\n",
       "      <th>Bootstrapped</th>\n",
       "      <td>1.0</td>\n",
       "      <td>1.0</td>\n",
       "      <td>1.0</td>\n",
       "      <td>2.0</td>\n",
       "      <td>2.0</td>\n",
       "      <td>1.0</td>\n",
       "    </tr>\n",
       "    <tr>\n",
       "      <th>Ensemble</th>\n",
       "      <td>4.0</td>\n",
       "      <td>4.0</td>\n",
       "      <td>3.0</td>\n",
       "      <td>3.0</td>\n",
       "      <td>4.0</td>\n",
       "      <td>4.0</td>\n",
       "    </tr>\n",
       "    <tr>\n",
       "      <th>Stacked Ensemble</th>\n",
       "      <td>3.0</td>\n",
       "      <td>3.0</td>\n",
       "      <td>4.0</td>\n",
       "      <td>4.0</td>\n",
       "      <td>1.0</td>\n",
       "      <td>3.0</td>\n",
       "    </tr>\n",
       "  </tbody>\n",
       "</table>\n",
       "</div>"
      ],
      "text/plain": [
       "                  Fold 1  Fold 2  Fold 3  Fold 4  Fold 5  average\n",
       "Single               2.0     2.0     2.0     1.0     3.0      2.0\n",
       "Bootstrapped         1.0     1.0     1.0     2.0     2.0      1.0\n",
       "Ensemble             4.0     4.0     3.0     3.0     4.0      4.0\n",
       "Stacked Ensemble     3.0     3.0     4.0     4.0     1.0      3.0"
      ]
     },
     "execution_count": 1000,
     "metadata": {},
     "output_type": "execute_result"
    }
   ],
   "source": [
    "ranked_benchmark4 = benchmark_4.copy().rank(ascending=False)\n",
    "ranked_benchmark4['average'] = ranked_benchmark4.mean(axis=1).rank()\n",
    "ranked_benchmark4"
   ]
  },
  {
   "cell_type": "markdown",
   "metadata": {},
   "source": [
    "Here we see much more unstable results. In holdout testing our stacked ensemble had the best performance, here that performance is only repeated on Fold 5. On average, the bootstrapped classifier has performed best, and the stacked has performed slightly better than the non-stacked ensemble. In general kNN is not known to respond well to ensembles, normally subspace bootstrapping needs to be performed to generate enough diversity for a real performance gain to be seen. So, it is unsurprising that we see the Single classifier performing as well as it does. "
   ]
  },
  {
   "cell_type": "markdown",
   "metadata": {},
   "source": [
    "For the testing that follows, I will be using SVM as our base classifier as both the stacked and non stacked ensemble performed well with this base classifier, as seen below. As SVM is much more computationally heavy to run, I have reduced the fold size to 5. "
   ]
  },
  {
   "cell_type": "code",
   "execution_count": 1010,
   "metadata": {},
   "outputs": [
    {
     "name": "stdout",
     "output_type": "stream",
     "text": [
      "rep  1 class  SVC\n",
      "rep  1 class  BaggingClassifier\n",
      "rep  1 class  HeterogenousEnsembleClassifier\n",
      "rep  1 class  StackedHeterogenousEnsembleClassifier\n",
      "rep  2 class  SVC\n",
      "rep  2 class  BaggingClassifier\n",
      "rep  2 class  HeterogenousEnsembleClassifier\n",
      "rep  2 class  StackedHeterogenousEnsembleClassifier\n",
      "rep  3 class  SVC\n",
      "rep  3 class  BaggingClassifier\n",
      "rep  3 class  HeterogenousEnsembleClassifier\n",
      "rep  3 class  StackedHeterogenousEnsembleClassifier\n",
      "rep  4 class  SVC\n",
      "rep  4 class  BaggingClassifier\n",
      "rep  4 class  HeterogenousEnsembleClassifier\n",
      "rep  4 class  StackedHeterogenousEnsembleClassifier\n",
      "rep  5 class  SVC\n",
      "rep  5 class  BaggingClassifier\n",
      "rep  5 class  HeterogenousEnsembleClassifier\n",
      "rep  5 class  StackedHeterogenousEnsembleClassifier\n"
     ]
    }
   ],
   "source": [
    "reps = 5\n",
    "folds = 5\n",
    "benchmark_5 = pd.DataFrame(index = ['Single', 'Bootstrapped', 'Ensemble', 'Stacked Ensemble'],\n",
    "                           columns = ['Fold ' + str(i) for i in range(1,reps+1)])\n",
    "for i in range (0, reps):\n",
    "    kf = KFold(n_splits = folds, shuffle = True)\n",
    "    clfs = [svm.SVC(random_state=i+i) ,\n",
    "            BaggingClassifier(base_estimator=svm.SVC(random_state=i+i), random_state=i+i),\n",
    "            HeterogenousEnsembleClassifier(base_estimator= svm.SVC(random_state=i+i), hp_range_map=hparams['SVM'],random_state=i+i, verbosity=0),\n",
    "            StackedHeterogenousEnsembleClassifier(base_estimator= svm.SVC(random_state=i+i) , hp_range_map=hparams['SVM'],random_state=i+i, verbosity=0)]\n",
    "    results = []\n",
    "    for c in clfs:\n",
    "        print(\"rep \", i+1,\"class \", c.__class__.__name__)\n",
    "        xval = cross_val_score(c, X_train, y_train, cv=kf, scoring='accuracy', error_score=\"raise\")\n",
    "        results.append(xval.mean())\n",
    "    benchmark_5['Fold '+str(i+1)] = results"
   ]
  },
  {
   "cell_type": "code",
   "execution_count": 1013,
   "metadata": {},
   "outputs": [
    {
     "data": {
      "text/html": [
       "<div>\n",
       "<style scoped>\n",
       "    .dataframe tbody tr th:only-of-type {\n",
       "        vertical-align: middle;\n",
       "    }\n",
       "\n",
       "    .dataframe tbody tr th {\n",
       "        vertical-align: top;\n",
       "    }\n",
       "\n",
       "    .dataframe thead th {\n",
       "        text-align: right;\n",
       "    }\n",
       "</style>\n",
       "<table border=\"1\" class=\"dataframe\">\n",
       "  <thead>\n",
       "    <tr style=\"text-align: right;\">\n",
       "      <th></th>\n",
       "      <th>Fold 1</th>\n",
       "      <th>Fold 2</th>\n",
       "      <th>Fold 3</th>\n",
       "      <th>Fold 4</th>\n",
       "      <th>Fold 5</th>\n",
       "    </tr>\n",
       "  </thead>\n",
       "  <tbody>\n",
       "    <tr>\n",
       "      <th>Single</th>\n",
       "      <td>0.834188</td>\n",
       "      <td>0.831111</td>\n",
       "      <td>0.837436</td>\n",
       "      <td>0.834017</td>\n",
       "      <td>0.834872</td>\n",
       "    </tr>\n",
       "    <tr>\n",
       "      <th>Bootstrapped</th>\n",
       "      <td>0.832821</td>\n",
       "      <td>0.835556</td>\n",
       "      <td>0.832308</td>\n",
       "      <td>0.829744</td>\n",
       "      <td>0.833333</td>\n",
       "    </tr>\n",
       "    <tr>\n",
       "      <th>Ensemble</th>\n",
       "      <td>0.967009</td>\n",
       "      <td>0.956581</td>\n",
       "      <td>0.909231</td>\n",
       "      <td>0.950085</td>\n",
       "      <td>0.915385</td>\n",
       "    </tr>\n",
       "    <tr>\n",
       "      <th>Stacked Ensemble</th>\n",
       "      <td>0.937949</td>\n",
       "      <td>0.934872</td>\n",
       "      <td>0.930598</td>\n",
       "      <td>0.935214</td>\n",
       "      <td>0.937436</td>\n",
       "    </tr>\n",
       "  </tbody>\n",
       "</table>\n",
       "</div>"
      ],
      "text/plain": [
       "                    Fold 1    Fold 2    Fold 3    Fold 4    Fold 5\n",
       "Single            0.834188  0.831111  0.837436  0.834017  0.834872\n",
       "Bootstrapped      0.832821  0.835556  0.832308  0.829744  0.833333\n",
       "Ensemble          0.967009  0.956581  0.909231  0.950085  0.915385\n",
       "Stacked Ensemble  0.937949  0.934872  0.930598  0.935214  0.937436"
      ]
     },
     "execution_count": 1013,
     "metadata": {},
     "output_type": "execute_result"
    }
   ],
   "source": [
    "benchmark_5"
   ]
  },
  {
   "cell_type": "code",
   "execution_count": 1014,
   "metadata": {},
   "outputs": [
    {
     "data": {
      "text/html": [
       "<div>\n",
       "<style scoped>\n",
       "    .dataframe tbody tr th:only-of-type {\n",
       "        vertical-align: middle;\n",
       "    }\n",
       "\n",
       "    .dataframe tbody tr th {\n",
       "        vertical-align: top;\n",
       "    }\n",
       "\n",
       "    .dataframe thead th {\n",
       "        text-align: right;\n",
       "    }\n",
       "</style>\n",
       "<table border=\"1\" class=\"dataframe\">\n",
       "  <thead>\n",
       "    <tr style=\"text-align: right;\">\n",
       "      <th></th>\n",
       "      <th>Fold 1</th>\n",
       "      <th>Fold 2</th>\n",
       "      <th>Fold 3</th>\n",
       "      <th>Fold 4</th>\n",
       "      <th>Fold 5</th>\n",
       "      <th>average</th>\n",
       "    </tr>\n",
       "  </thead>\n",
       "  <tbody>\n",
       "    <tr>\n",
       "      <th>Single</th>\n",
       "      <td>3.0</td>\n",
       "      <td>4.0</td>\n",
       "      <td>3.0</td>\n",
       "      <td>3.0</td>\n",
       "      <td>3.0</td>\n",
       "      <td>3.0</td>\n",
       "    </tr>\n",
       "    <tr>\n",
       "      <th>Bootstrapped</th>\n",
       "      <td>4.0</td>\n",
       "      <td>3.0</td>\n",
       "      <td>4.0</td>\n",
       "      <td>4.0</td>\n",
       "      <td>4.0</td>\n",
       "      <td>4.0</td>\n",
       "    </tr>\n",
       "    <tr>\n",
       "      <th>Ensemble</th>\n",
       "      <td>1.0</td>\n",
       "      <td>1.0</td>\n",
       "      <td>2.0</td>\n",
       "      <td>1.0</td>\n",
       "      <td>2.0</td>\n",
       "      <td>1.0</td>\n",
       "    </tr>\n",
       "    <tr>\n",
       "      <th>Stacked Ensemble</th>\n",
       "      <td>2.0</td>\n",
       "      <td>2.0</td>\n",
       "      <td>1.0</td>\n",
       "      <td>2.0</td>\n",
       "      <td>1.0</td>\n",
       "      <td>2.0</td>\n",
       "    </tr>\n",
       "  </tbody>\n",
       "</table>\n",
       "</div>"
      ],
      "text/plain": [
       "                  Fold 1  Fold 2  Fold 3  Fold 4  Fold 5  average\n",
       "Single               3.0     4.0     3.0     3.0     3.0      3.0\n",
       "Bootstrapped         4.0     3.0     4.0     4.0     4.0      4.0\n",
       "Ensemble             1.0     1.0     2.0     1.0     2.0      1.0\n",
       "Stacked Ensemble     2.0     2.0     1.0     2.0     1.0      2.0"
      ]
     },
     "execution_count": 1014,
     "metadata": {},
     "output_type": "execute_result"
    }
   ],
   "source": [
    "ranked_benchmark5 = benchmark_5.copy().rank(ascending=False)\n",
    "ranked_benchmark5['average'] = ranked_benchmark5.mean(axis=1).rank()\n",
    "ranked_benchmark5"
   ]
  },
  {
   "cell_type": "markdown",
   "metadata": {},
   "source": [
    "We can see that although the non-stacked ensemble has the best overall ranking, first and second place in the rankings tends to alternate between the stacked and non-stacked heterogeneous classifier."
   ]
  },
  {
   "cell_type": "markdown",
   "metadata": {},
   "source": [
    "Next I would like to consider the effect of N-number on accuracy. Here we will again use a holdout set instead of cross validation, and see how the classifier performs both in terms of accuracy and F1 score. As a base line we will compare it in accuracy to the performance of a a single base classifer, and a bootstrapped classifier. The random state will not be varied, but will be uniform for all classifiers (42). "
   ]
  },
  {
   "cell_type": "code",
   "execution_count": 1025,
   "metadata": {},
   "outputs": [
    {
     "name": "stdout",
     "output_type": "stream",
     "text": [
      "n =  5\n",
      "n =  10\n",
      "n =  20\n",
      "n =  30\n",
      "n =  50\n",
      "n =  100\n"
     ]
    }
   ],
   "source": [
    "clf = svm.SVC(random_state=42).fit(X_train, y_train)\n",
    "clf2 = BaggingClassifier(base_estimator=clf, random_state=42).fit(X_train, y_train)\n",
    "y_pred = clf.predict(X_valid)\n",
    "sv_base_acc = accuracy_score(y_pred, y_valid)\n",
    "sv_base_f1 = f1_score(y_pred, y_valid, average='macro')\n",
    "y_pred = clf2.predict(X_valid)\n",
    "sv_boost_acc = accuracy_score(y_pred, y_valid)\n",
    "sv_boost_f1 = f1_score(y_pred, y_valid, average='macro')\n",
    "\n",
    "sv_acc = []\n",
    "sv_f1 = []\n",
    "sv_stack_acc = []\n",
    "sv_stack_f1 = []\n",
    "n_range = [5, 10, 20, 30, 50, 100]\n",
    "for n in n_range:\n",
    "    print('n = ', n)\n",
    "    clf3 = HeterogenousEnsembleClassifier(clf, hp_range_map=hparams['SVM'], n_estimators=n, random_state=42)\n",
    "    clf3.fit(X_train, y_train)\n",
    "    y_pred = clf3.predict(X_valid)\n",
    "    sv_acc.append(accuracy_score(y_pred, y_valid))\n",
    "    sv_f1.append(f1_score(y_pred, y_valid, average='macro'))\n",
    "    clf4 = StackedHeterogenousEnsembleClassifier(base_estimator=clf, hp_range_map=hparams['SVM'], n_estimators=n, random_state=42)\n",
    "    clf4.fit(X_train, y_train)\n",
    "    y_pred = clf4.predict(X_valid)\n",
    "    sv_stack_acc.append(accuracy_score(y_pred, y_valid))\n",
    "    sv_stack_f1.append(f1_score(y_pred, y_valid, average='macro'))\n",
    "\n",
    "\n"
   ]
  },
  {
   "cell_type": "code",
   "execution_count": 1038,
   "metadata": {},
   "outputs": [
    {
     "data": {
      "text/plain": [
       "[0.9004698846646733,\n",
       " 0.9094404100811619,\n",
       " 0.9128577530969672,\n",
       " 0.9440410081161896,\n",
       " 0.9628363947031183,\n",
       " 0.9653994019649722]"
      ]
     },
     "execution_count": 1038,
     "metadata": {},
     "output_type": "execute_result"
    }
   ],
   "source": [
    "sv_acc"
   ]
  },
  {
   "cell_type": "code",
   "execution_count": null,
   "metadata": {},
   "outputs": [],
   "source": []
  },
  {
   "cell_type": "code",
   "execution_count": 1070,
   "metadata": {},
   "outputs": [
    {
     "data": {
      "text/plain": [
       "Text(0.5, 1.0, 'F1 Scores')"
      ]
     },
     "execution_count": 1070,
     "metadata": {},
     "output_type": "execute_result"
    },
    {
     "data": {
      "image/png": "[encoded data removed]",
      "text/plain": [
       "<Figure size 864x864 with 2 Axes>"
      ]
     },
     "metadata": {
      "needs_background": "light"
     },
     "output_type": "display_data"
    }
   ],
   "source": [
    "f, (ax1, ax2) = plt.subplots(2, 1, figsize=(12,12))\n",
    "x = list(range(0,len(n_range)))\n",
    "ax1.axhline(y=sv_base_acc, color='red', label='Base Estimator')\n",
    "ax1.axhline(y=sv_boost_acc, color='orange', label='Boosted Estimator')\n",
    "ax1.plot(x, sv_stack_acc, label=\"StackedHeterogeneousEnsemble\", color=\"blue\")\n",
    "ax1.plot(x, sv_acc, label=\"HeterogeneousEnsemble\", color=\"green\")\n",
    "ax1.legend(loc='upper left')\n",
    "ax1.set_ylabel(\"Accuracy\")\n",
    "ax1.set_title(\"Accuracy Scores\")\n",
    "ax1.set_xticklabels([0] + n_range)\n",
    "ax1.set_xlabel(\"N estimators\")\n",
    "\n",
    "ax2.axhline(y=sv_base_f1, color='red', label='Base Estimator')\n",
    "ax2.axhline(y=sv_boost_f1, color='orange', label='Boosted Estimator')\n",
    "ax2.plot(x, sv_stack_f1, label=\"StackedHeterogeneousEnsemble\", color=\"blue\")\n",
    "ax2.plot(x, sv_f1, label=\"HeterogeneousEnsemble\", color=\"green\")\n",
    "ax2.legend(loc='upper left')\n",
    "ax2.set_ylabel(\"F1 Score\")\n",
    "ax2.set_xlabel(\"n_estimators\")\n",
    "ax2.set_xticklabels([0] + n_range)\n",
    "\n",
    "f.set_xticklabels = n_range\n",
    "ax2.set_title(\"F1 Scores\")"
   ]
  },
  {
   "cell_type": "markdown",
   "metadata": {},
   "source": [
    "We can see that accuracy does seem to increase as n_estimators increases for the heterogeneous ensemble, but for the stacked model it flattens out after 20. One possible reason for this is the curse of dimensionality. For n = 100, for instance, the stacked estimator will be receiving each query with (n * number_of_classes), in this case 1000 attributes per query. It does make me question the implementation of my stacked estimator."
   ]
  },
  {
   "cell_type": "markdown",
   "metadata": {},
   "source": [
    "I am curious if this drop off in accuracy will be visible no matter the base classifier for the stacked model. I decided to next investigate performance of differing base estimators for the stack. For a baseline, I will compare performance against the non-heterogeneous classifier. N will be set to 30, as that is where accuracy started to diverge in the previous experiment."
   ]
  },
  {
   "cell_type": "code",
   "execution_count": 1105,
   "metadata": {},
   "outputs": [
    {
     "name": "stdout",
     "output_type": "stream",
     "text": [
      "DTree\n",
      "kNN\n",
      "SVM\n",
      "LR\n"
     ]
    }
   ],
   "source": [
    "clf = HeterogenousEnsembleClassifier(svm.SVC(random_state=0), hp_range_map=hparams['SVM'], n_estimators=30, random_state=0)\n",
    "clf.fit(X_train, y_train)\n",
    "y_pred = clf.predict(X_valid)\n",
    "base_acc_30 = accuracy_score(y_pred, y_valid)\n",
    "clf = HeterogenousEnsembleClassifier(svm.SVC(random_state=0), hp_range_map=hparams['SVM'], n_estimators=10, random_state=0)\n",
    "clf.fit(X_train, y_train)\n",
    "y_pred = clf.predict(X_valid)\n",
    "base_acc_10 = accuracy_score(y_pred, y_valid)\n",
    "acc = []\n",
    "acc2 = []\n",
    "for m in models:\n",
    "    print(m)\n",
    "    clf = StackedHeterogenousEnsembleClassifier(base_estimator=svm.SVC(random_state=42), hp_range_map=hparams['SVM'], n_estimators=30, random_state=0, stack_layer_estimator=copy(models[m]))\n",
    "    clf.fit(X_train, y_train)\n",
    "    y_pred = clf.predict(X_valid)\n",
    "    acc.append(accuracy_score(y_pred, y_valid))\n",
    "    clf = StackedHeterogenousEnsembleClassifier(base_estimator=svm.SVC(random_state=42), hp_range_map=hparams['SVM'], n_estimators=10, random_state=0, stack_layer_estimator=copy(models[m]))\n",
    "    clf.fit(X_train, y_train)\n",
    "    y_pred = clf.predict(X_valid)\n",
    "    acc2.append(accuracy_score(y_pred, y_valid))\n",
    "\n"
   ]
  },
  {
   "cell_type": "code",
   "execution_count": 1106,
   "metadata": {},
   "outputs": [
    {
     "data": {
      "text/plain": [
       "Text(0.5, 0.98, 'Accuracy of Varying Classifiers for Stack')"
      ]
     },
     "execution_count": 1106,
     "metadata": {},
     "output_type": "execute_result"
    },
    {
     "data": {
      "image/png": "[encoded data removed]",
      "text/plain": [
       "<Figure size 864x864 with 2 Axes>"
      ]
     },
     "metadata": {
      "needs_background": "light"
     },
     "output_type": "display_data"
    }
   ],
   "source": [
    "f, (ax1, ax2) = plt.subplots(1, 2, figsize=(12,12), sharey=True)\n",
    "x = list(range(0,len(models)))\n",
    "ax1.plot(x, acc, label=\"StackedHeterogeneousEnsemble\", color=\"orange\")\n",
    "ax1.axhline(y=base_acc_30, color='red', label='HeterogeneousEnsemble')\n",
    "ax1.legend(loc='lower right')\n",
    "ax1.set_title(\"N=30\")\n",
    "ax1.set_xticks(list(range(0, len(models))))\n",
    "ax1.set_xticklabels([m for m in models])\n",
    "ax1.set_xlabel(\"Accuracy\")\n",
    "ax1.set_ylabel(\"Stack estimator\")\n",
    "\n",
    "ax2.plot(x, acc2, label=\"StackedHeterogeneousEnsemble\", color=\"orange\")\n",
    "ax2.axhline(y=base_acc_10, color='red', label='HeterogeneousEnsemble')\n",
    "ax2.legend(loc='lower right')\n",
    "ax2.set_title(\"N=10\")\n",
    "ax2.set_xticks(list(range(0, len(models))))\n",
    "ax2.set_xticklabels([m for m in models])\n",
    "ax2.set_xlabel(\"Accuracy\")\n",
    "ax2.set_ylabel(\"Stack estimator\")\n",
    "\n",
    "f.suptitle(\"Accuracy of Varying Classifiers for Stack\")"
   ]
  },
  {
   "cell_type": "markdown",
   "metadata": {},
   "source": [
    "We are seeing pretty similar behaviour for n=10 and n=30. In all cases the stackedHeterogeneousEnsemble is underperforming, but performing best when using with logistic regression as the stack estimator. "
   ]
  },
  {
   "cell_type": "markdown",
   "metadata": {},
   "source": [
    "I am curious to see if varying the data ratio to the stack will effect performance. We will test a range of values, while keeping n=10."
   ]
  },
  {
   "cell_type": "code",
   "execution_count": 1090,
   "metadata": {},
   "outputs": [
    {
     "name": "stdout",
     "output_type": "stream",
     "text": [
      "0.1\n",
      "0.2\n",
      "0.3\n",
      "0.4\n",
      "0.5\n",
      "0.6\n",
      "0.7\n",
      "0.8\n",
      "0.9\n"
     ]
    }
   ],
   "source": [
    "acc = []\n",
    "ratio = [0.1,0.2,0.3,0.4,0.5,0.6,0.7,0.8,0.9]\n",
    "for r in ratio:\n",
    "    print(r)\n",
    "    clf = StackedHeterogenousEnsembleClassifier(base_estimator=svm.SVC(random_state=42), \n",
    "                                                hp_range_map=hparams['SVM'], n_estimators=10, \n",
    "                                                random_state=0, stack_layer_estimator=copy(models['LR']), \n",
    "                                                base_stack_data_ratio = r)\n",
    "\n",
    "    clf.fit(X_train, y_train)\n",
    "    y_pred = clf.predict(X_valid)\n",
    "    acc.append(accuracy_score(y_pred, y_valid))\n",
    "\n",
    "\n"
   ]
  },
  {
   "cell_type": "code",
   "execution_count": 1096,
   "metadata": {},
   "outputs": [
    {
     "data": {
      "text/plain": [
       "Text(0, 0.5, 'base_stack_data_ratio')"
      ]
     },
     "execution_count": 1096,
     "metadata": {},
     "output_type": "execute_result"
    },
    {
     "data": {
      "image/png": "[encoded data removed]",
      "text/plain": [
       "<Figure size 720x360 with 1 Axes>"
      ]
     },
     "metadata": {
      "needs_background": "light"
     },
     "output_type": "display_data"
    }
   ],
   "source": [
    "f, ax1 = plt.subplots(1, 1, figsize=(10,5), sharex=True)\n",
    "x = list(range(0,len(ratio)))\n",
    "ax1.plot(x, acc, label=\"StackedHeterogeneousEnsemble\", color=\"orange\")\n",
    "ax1.legend(loc='lower right')\n",
    "ax1.set_title(\"Accuracy for varying base stack data ratio\")\n",
    "ax1.set_xticks(list(range(0, len(ratio))))\n",
    "ax1.set_xticklabels(ratio)\n",
    "ax1.set_xlabel(\"Accuracy\")\n",
    "ax1.set_ylabel(\"base_stack_data_ratio\")"
   ]
  },
  {
   "cell_type": "markdown",
   "metadata": {},
   "source": [
    "There are two peaks here, for ratio = 0.5, and ratio = 0.9. One imagines that a ratio of 0.9 would surely lead to underfitting of the stack estimator, I will cross validate to see if this holds."
   ]
  },
  {
   "cell_type": "code",
   "execution_count": 1102,
   "metadata": {},
   "outputs": [
    {
     "name": "stdout",
     "output_type": "stream",
     "text": [
      "rep  1\n",
      "rep  2\n",
      "rep  3\n",
      "rep  4\n",
      "rep  5\n"
     ]
    }
   ],
   "source": [
    "reps, folds = 5, 5\n",
    "acc1,acc2, acc3 = [], [], []\n",
    "for i in range (0, reps):\n",
    "    kf = KFold(n_splits = folds, shuffle = True)\n",
    "    clf1 = StackedHeterogenousEnsembleClassifier(base_estimator=svm.SVC(random_state=42), \n",
    "                                                hp_range_map=hparams['SVM'], n_estimators=10, \n",
    "                                                random_state=0, stack_layer_estimator=copy(models['LR']), \n",
    "                                                base_stack_data_ratio = .5)\n",
    "    clf2 = StackedHeterogenousEnsembleClassifier(base_estimator=svm.SVC(random_state=42), \n",
    "                                                hp_range_map=hparams['SVM'], n_estimators=10, \n",
    "                                                random_state=0, stack_layer_estimator=copy(models['LR']), \n",
    "                                                base_stack_data_ratio = .7)\n",
    "    clf3 = StackedHeterogenousEnsembleClassifier(base_estimator=svm.SVC(random_state=42), \n",
    "                                                hp_range_map=hparams['SVM'], n_estimators=10, \n",
    "                                                random_state=0, stack_layer_estimator=copy(models['LR']), \n",
    "                                                base_stack_data_ratio = .9)\n",
    "    print(\"rep \", i+1)\n",
    "    acc1.append(cross_val_score(clf1, X_train, y_train, cv=kf, scoring='accuracy', error_score=\"raise\").mean())\n",
    "    acc2.append(cross_val_score(clf2, X_train, y_train, cv=kf, scoring='accuracy', error_score=\"raise\").mean())\n",
    "    acc3.append(cross_val_score(clf3, X_train, y_train, cv=kf, scoring='accuracy', error_score=\"raise\").mean())\n"
   ]
  },
  {
   "cell_type": "code",
   "execution_count": 1103,
   "metadata": {
    "scrolled": true
   },
   "outputs": [
    {
     "data": {
      "text/plain": [
       "Text(0, 0.5, 'Folds')"
      ]
     },
     "execution_count": 1103,
     "metadata": {},
     "output_type": "execute_result"
    },
    {
     "data": {
      "image/png": "[encoded data removed]",
      "text/plain": [
       "<Figure size 720x360 with 1 Axes>"
      ]
     },
     "metadata": {
      "needs_background": "light"
     },
     "output_type": "display_data"
    }
   ],
   "source": [
    "f, ax1 = plt.subplots(1, 1, figsize=(10,5), sharex=True)\n",
    "x = list(range(1,folds+1))\n",
    "ax1.plot(x, acc1, label=\"ratio=0.5\", color=\"orange\")\n",
    "ax1.plot(x, acc2, label=\"ratio=0.7\", color=\"blue\")\n",
    "ax1.plot(x, acc3, label=\"ratio=0.9\", color=\"green\")\n",
    "ax1.legend(loc='lower right')\n",
    "ax1.set_title(\"Cross validated accuracy for ratio = .5, .7 and .9\")\n",
    "ax1.set_xticks(list(range(1, folds+1)))\n",
    "ax1.set_xlabel(\"Accuracy\")\n",
    "ax1.set_ylabel(\"Folds\")"
   ]
  },
  {
   "cell_type": "code",
   "execution_count": null,
   "metadata": {},
   "outputs": [],
   "source": [
    "Interestingly, we can see that a ratio of .9 is consistently providing the highest accuracy. "
   ]
  },
  {
   "cell_type": "markdown",
   "metadata": {},
   "source": [
    "Given the knowledge garnered from the previous tests, I will now check performance on the test set. \n",
    "- For both the heterogeneous ensemble and the stacked ensemble I will use SVM as a base classifier.\n",
    "- As accuracy seemed to increase as n increased for the heterogeneous ensemble, whereas it seemed to stagnate after n=20 for the stacked ensemble, I will set n=100 and n=20 respectively.\n",
    "- For the stacked ensemble, I will set the data ratio to 0.9 and use logistic regression as the estimator for the stacked layer. "
   ]
  },
  {
   "cell_type": "code",
   "execution_count": 1110,
   "metadata": {},
   "outputs": [],
   "source": [
    "clf1 = StackedHeterogenousEnsembleClassifier(base_estimator=svm.SVC(random_state=42), \n",
    "                                                hp_range_map=hparams['SVM'], n_estimators=10, \n",
    "                                                random_state=0, stack_layer_estimator=copy(models['LR']), \n",
    "                                                base_stack_data_ratio = .9)\n",
    "clf2 = HeterogenousEnsembleClassifier(base_estimator=svm.SVC(random_state=42), \n",
    "                                                hp_range_map=hparams['SVM'], n_estimators=100, \n",
    "                                                random_state=0)\n",
    "clf3 = svm.SVC(random_state=i+i)\n",
    "clf4 = BaggingClassifier(base_estimator=svm.SVC(random_state=i+i), random_state=i+i)\n",
    "clfs = [clf1,clf2,clf3,clf4]"
   ]
  },
  {
   "cell_type": "code",
   "execution_count": 1111,
   "metadata": {},
   "outputs": [
    {
     "name": "stdout",
     "output_type": "stream",
     "text": [
      "StackedHeterogenousEnsembleClassifier\n",
      "HeterogenousEnsembleClassifier\n",
      "SVC\n",
      "BaggingClassifier\n"
     ]
    }
   ],
   "source": [
    "results = []\n",
    "for c in clfs:\n",
    "    print(c.__class__.__name__)\n",
    "    c.fit(X_train, y_train)\n",
    "    results.append(accuracy_score(c.predict(X_test), y_test))"
   ]
  },
  {
   "cell_type": "code",
   "execution_count": 1124,
   "metadata": {},
   "outputs": [
    {
     "data": {
      "text/plain": [
       "([<matplotlib.axis.XTick at 0x7fada19a81c0>,\n",
       "  <matplotlib.axis.XTick at 0x7fada19a8190>,\n",
       "  <matplotlib.axis.XTick at 0x7fae0652be20>,\n",
       "  <matplotlib.axis.XTick at 0x7fae27df3ac0>],\n",
       " [Text(0.0, 0, 'StackedHeterogeneousEnsembleClassifier'),\n",
       "  Text(0.1, 0, 'HeterogeneousEnsembleClassifier'),\n",
       "  Text(0.2, 0, 'Single Classifier'),\n",
       "  Text(0.3, 0, 'Bagged Classifier')])"
      ]
     },
     "execution_count": 1124,
     "metadata": {},
     "output_type": "execute_result"
    },
    {
     "data": {
      "image/png": "[encoded data removed]",
      "text/plain": [
       "<Figure size 432x288 with 1 Axes>"
      ]
     },
     "metadata": {
      "needs_background": "light"
     },
     "output_type": "display_data"
    }
   ],
   "source": [
    "X = np.arange(1)\n",
    "plt.bar(X + 0.00, results[0], color = 'b', alpha=0.5, width = 0.05)\n",
    "plt.bar(X + 0.10, results[1], color = 'y', alpha=0.5, width = 0.05)\n",
    "plt.bar(X + 0.20, results[2], color = 'g', alpha=0.5, width = 0.05)\n",
    "plt.bar(X + 0.30, results[3], color = 'r', alpha=0.5, width = 0.05)\n",
    "plt.title(\"Accuracy on Test Data\")\n",
    "plt.ylabel(\"Accuracy\")\n",
    "plt.xticks(ticks=[0,0.1,0.2,0.3],\n",
    "           rotation=90,\n",
    "           labels=[\"StackedHeterogeneousEnsembleClassifier\",\"HeterogeneousEnsembleClassifier\",\"Single Classifier\",\"Bagged Classifier\"])"
   ]
  },
  {
   "cell_type": "markdown",
   "metadata": {},
   "source": [
    "The classifiers have behaved just as we saw with the crossvalidated validation set. The Heterogeneous classifier has performed best, \n",
    "the stacked classifier is second, and the bagged and single classifier come in last."
   ]
  },
  {
   "cell_type": "markdown",
   "metadata": {},
   "source": [
    "### Perform Evaluation Experiment"
   ]
  },
  {
   "cell_type": "markdown",
   "metadata": {},
   "source": [
    "-- First of all evaluate best classifier on the data with non stacked model\n",
    "\n",
    "-- Then use the same base classifier with varying different stacked estimators\n",
    "\n",
    "-- Then compare against "
   ]
  },
  {
   "cell_type": "markdown",
   "metadata": {},
   "source": [
    "## Task 4: Reflect on the Performance of the Different Models Evaluated"
   ]
  },
  {
   "cell_type": "markdown",
   "metadata": {},
   "source": [
    "*Write your refelcection here (max 300 words)*"
   ]
  },
  {
   "cell_type": "markdown",
   "metadata": {},
   "source": []
  },
  {
   "cell_type": "code",
   "execution_count": null,
   "metadata": {},
   "outputs": [],
   "source": []
  }
 ],
 "metadata": {
  "kernelspec": {
   "display_name": "Python 3",
   "language": "python",
   "name": "python3"
  },
  "language_info": {
   "codemirror_mode": {
    "name": "ipython",
    "version": 3
   },
   "file_extension": ".py",
   "mimetype": "text/x-python",
   "name": "python",
   "nbconvert_exporter": "python",
   "pygments_lexer": "ipython3",
   "version": "3.8.5"
  }
 },
 "nbformat": 4,
 "nbformat_minor": 2
}
