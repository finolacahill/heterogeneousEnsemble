{
 "cells": [
  {
   "cell_type": "markdown",
   "metadata": {},
   "source": [
    "# COMP47590: Advanced Machine Learning\n",
    "# Assignment 1: Building Heterogenous Ensembles"
   ]
  },
  {
   "cell_type": "markdown",
   "metadata": {},
   "source": [
    "- Student 1 Name: Finola Cahill\n",
    "- Student 1 Number: 07645074"
   ]
  },
  {
   "cell_type": "markdown",
   "metadata": {},
   "source": [
    "## Import Packages"
   ]
  },
  {
   "cell_type": "code",
   "execution_count": 1,
   "metadata": {},
   "outputs": [],
   "source": [
    "import pandas as pd\n",
    "import numpy as np\n",
    "import matplotlib.pyplot as plt\n",
    "%matplotlib inline\n",
    "import math\n",
    "\n",
    "from sklearn.model_selection import GridSearchCV\n",
    "from sklearn.model_selection import cross_val_score\n",
    "from sklearn.model_selection import train_test_split\n",
    "from sklearn.base import BaseEstimator, ClassifierMixin\n",
    "from sklearn.linear_model import LinearRegression as LR\n",
    "from sklearn.utils.validation import check_X_y, check_array, check_is_fitted, check_random_state\n",
    "from sklearn.utils.multiclass import unique_labels\n",
    "from sklearn import tree\n",
    "from sklearn import svm\n",
    "from sklearn import ensemble\n",
    "from sklearn import linear_model\n",
    "from sklearn import neighbors\n",
    "from sklearn import preprocessing\n",
    "from sklearn import metrics\n",
    "from sklearn.base import is_classifier\n",
    "from sklearn.utils import resample\n",
    "from sklearn.base import clone\n",
    "from sklearn.datasets import load_iris\n",
    "import itertools\n",
    "from itertools import chain, combinations\n",
    "import random\n",
    "from copy import copy\n",
    "import collections\n",
    "from sklearn.metrics import recall_score\n",
    "import matplotlib.patches as mpatches\n",
    "from statistics import mean\n",
    "from keras.utils import to_categorical\n",
    "import warnings\n",
    "warnings.filterwarnings('ignore')\n",
    "from sklearn.ensemble import GradientBoostingClassifier \n",
    "from sklearn.neighbors import KNeighborsClassifier\n",
    "from sklearn.tree import DecisionTreeClassifier\n",
    "from sklearn.linear_model import LogisticRegression\n",
    "from sklearn.metrics import confusion_matrix, accuracy_score\n",
    "from sklearn.model_selection import train_test_split\n",
    "from sklearn.metrics import f1_score, brier_score_loss\n",
    "from sklearn.ensemble import BaggingClassifier\n",
    "from sklearn.model_selection import cross_validate, KFold\n",
    "from sklearn import preprocessing\n",
    "from  sklearn.utils import check_random_state"
   ]
  },
  {
   "cell_type": "markdown",
   "metadata": {},
   "source": [
    "## Task 1: The Heterogenous Ensemble Classifier"
   ]
  },
  {
   "cell_type": "markdown",
   "metadata": {},
   "source": [
    "### Define HeterogenousEnsembleClassifier"
   ]
  },
  {
   "cell_type": "code",
   "execution_count": 2,
   "metadata": {},
   "outputs": [],
   "source": [
    "# Create a new classifier which is based on the sckit-learn BaseEstimator and ClassifierMixin classes\n",
    "class HeterogenousEnsembleClassifier(BaseEstimator, ClassifierMixin):\n",
    "    \n",
    "    \"\"\"An ensemble classifier that uses heterogeneous models at the base layer. Base models are different due to different hyper-parameters used.\n",
    "\n",
    "    Parameters\n",
    "    ----------\n",
    "    base_estimator: scikit-learn estimator \n",
    "        The model type to be used at the base layer of the ensemble model.\n",
    "\n",
    "    hp_range_map: dictionary\n",
    "        A dictinary of hyperparamters and the ranges of values that will be used from them\n",
    "        \n",
    "    n_estimators: int\n",
    "        How many models to use in the ensemble\n",
    "        \n",
    "    bootstrap: boolean\n",
    "        Wheter or not to use bootstrap sampling when training base estimators\n",
    "    \n",
    "    Attributes\n",
    "    ----------\n",
    "    classes_ : array of shape = [n_classes] \n",
    "        The classes labels.\n",
    "    \n",
    "    params_ : array\n",
    "        All possible param value combinations from given HP map.\n",
    "    \n",
    "    models_ : list of len = [n_estimators]\n",
    "        Fitted models of the ensemble.\n",
    "    \n",
    "    ensemble_predictions_ : array of shape = [y * n_estimators]\n",
    "        Collective predictions of ensemble models.\n",
    "\n",
    "    Notes\n",
    "    -----\n",
    "    The default values for most base learners are used, unless hyperparameter ranges are specified\n",
    "\n",
    "    See also\n",
    "    --------\n",
    "    \n",
    "\n",
    "    Examples\n",
    "    --------\n",
    "    >>> from sklearn.datasets import load_iris\n",
    "    >>> from sklearn.model_selection import cross_val_score\n",
    "    >>> clf = HeterogenousEnsembleClassifier(tree.DecisionTreeClassifier(), {'max_depth':[5, 10, 15], })\n",
    "    >>> iris = load_iris()\n",
    "    >>> cross_val_score(clf, iris.data, iris.target, cv=10)\n",
    "\n",
    "    \"\"\"\n",
    "    # Constructor for the classifier object\n",
    "    def __init__(self, base_estimator = svm.SVC(), n_estimators = 10, hp_range_map = None, bootstrap = True, random_state=None, verbosity = 0):\n",
    "\n",
    "        \"\"\"Setup a SuperLearner classifier .\n",
    "        Parameters\n",
    "        ----------\n",
    "        base_estimator: The model type to be used at the base layer of the ensemble model.\n",
    "        hp_range_map: A dictinary of hyperparamters and the ranges of values that will be used from them\n",
    "        n_estimators: How many models to use in the ensemble\n",
    "        bootstrap: Wheter or not to use bootstrap sampling when training base estimators\n",
    "        \n",
    "        Returns\n",
    "        -------\n",
    "        The estimator\n",
    "        \"\"\"     \n",
    "\n",
    "        # Initialise ranomd state if set\n",
    "        self.random_state = random_state\n",
    "        \n",
    "        # Initialise class variables\n",
    "        self.base_estimator = base_estimator\n",
    "        self.hp_range_map = hp_range_map\n",
    "        self.n_estimators = n_estimators\n",
    "        self.bootstrap = bootstrap\n",
    "        self.verbosity = verbosity\n",
    "        \n",
    "    \n",
    "    def validate_parameters(self):\n",
    "        if self.n_estimators < 1:\n",
    "             raise ValueError(\"n_estimators must be >= 1\")\n",
    "        if is_classifier(self.base_estimator) is False:\n",
    "            raise ValueError(\"base_estimator must be a classifier\")\n",
    "        if self.verbosity not in range(0,3):\n",
    "            raise ValueError(\"verbosity has three levels, from 0-2\")\n",
    "        if self.hp_range_map is None:\n",
    "            warnings.warn(\"Hyperparameter map has not been given. Diversity will be limited.\")\n",
    "            self.hp_range_map = {}          \n",
    "\n",
    "    # The fit function to train a classifier\n",
    "    def fit(self, X, y):\n",
    "        \n",
    "        self.validate_parameters()\n",
    "        \n",
    "        def check_bootstrap(X, y):\n",
    "            if self.bootstrap is True:\n",
    "                return resample(X,y, replace=True)\n",
    "            return X,y \n",
    "        \n",
    "\n",
    "        def check_param_range(param_range):\n",
    "            # if parameter value range not a list, convert it\n",
    "            if type(param_range) is np.ndarray:\n",
    "                param_range = param_range.tolist()\n",
    "            elif type(param_range) is not list:\n",
    "                param_range = [param_range]\n",
    "            # explicitly adding possibility of not selecting parameter to paramater range list\n",
    "            return param_range + [None]\n",
    "        \n",
    "        # given map of param ranges in hp_range_map, generate all possible combinations\n",
    "        def generate_param_combinations():\n",
    "            param_ranges = []\n",
    "            # Split parameters into key/value lists and verify format.\n",
    "            for key, param_range in self.hp_range_map.items():\n",
    "                param_ranges.append(check_param_range(param_range))\n",
    "                self.keys.append(key)\n",
    "            \n",
    "            # Generate all possible unique combinations of hyperparameters\n",
    "            product = itertools.product(*param_ranges)\n",
    "            \n",
    "            # Convert into list of dicts\n",
    "            self.params_ = [ dict(zip(self.keys, params)) for params in product ]\n",
    "            if self.verbosity == 2:\n",
    "                print(\"{} number of parameter combinations generated for hyperparameter range {}.\".format(len(self.params_), self.hp_range_map))\n",
    "        \n",
    "        \n",
    "        # Not all potential base classifiers take a random_state variable,\n",
    "        # hence the try/except clause\n",
    "        def check_random_state():\n",
    "            if self.random_state != None:\n",
    "                try:\n",
    "                    self.base_estimator.set_params(**{'random_state': 0})\n",
    "                    return True\n",
    "                except:\n",
    "                    return False\n",
    "            return False\n",
    "        \n",
    "        # Given an index for the pregenerated params combination list, \n",
    "        # extract params at that index, convert to dictionary\n",
    "        def extract_params(random_state_on, n):\n",
    "            params = self.params_[n]\n",
    "            for key in self.keys:\n",
    "                if key in params and params[key] is None:\n",
    "                    del params[key]\n",
    "            # if random state has been set in constructor, add to params\n",
    "            if random_state_on is True:\n",
    "                params['random_state'] = self.random_state\n",
    "            return params\n",
    "    \n",
    "        \n",
    "        def fit_models(X, y):\n",
    "            random_state_on = check_random_state()\n",
    "            \n",
    "            for i in range(0, self.n_estimators):\n",
    "                X_train, y_train = check_bootstrap(X, y)\n",
    "                \n",
    "                # Extract random combination of parameters\n",
    "                params = extract_params(random_state_on, self.random.randint(0, (len(self.params_))))\n",
    "                \n",
    "                clf = copy(self.base_estimator).set_params(**params)\n",
    "                if self.verbosity == 2:\n",
    "                    print(\"Fitting model {} with parameters: {}\".format(i+1, params))\n",
    "                \n",
    "                # Store fitted model\n",
    "                self.models_.append(clf.fit(X_train, y_train))\n",
    "            if self.verbosity > 0:\n",
    "                print(\"{} models fitted with base estimator {}.\".format(i+1, self.base_estimator.__class__.__name__))\n",
    "        \n",
    "        # Check that X and y have correct shape\n",
    "        X, y = check_X_y(X, y)\n",
    "        \n",
    "        # Set random state for replicable random number generation\n",
    "        self.random =  np.random.RandomState(self.random_state)\n",
    "        \n",
    "        self.params_, self.keys, self.models_ = [], [], []\n",
    "        \n",
    "       #  Count the number of occurrences of each class in the target vector\n",
    "        self.classes_ = np.unique(y)\n",
    "        \n",
    "        # Generate all possible param combinations for given hyperparameter space\n",
    "        generate_param_combinations()\n",
    "        \n",
    "        # Fit all models in the ensemble\n",
    "        fit_models(X,y)\n",
    "    \n",
    "        return self\n",
    "\n",
    "    # Generate & save prediction for each model in ensemble\n",
    "    def ensemble_predict(self, X):\n",
    "        for i, model in enumerate(self.models_):\n",
    "            self.ensemble_predictions_.append(np.array(model.predict(X)))\n",
    "            if self.verbosity == 2:\n",
    "                print('Model no. {} {} predict completed.'.format(i+1, model))\n",
    "        if self.verbosity == 1:\n",
    "            print(\"Predict completed for {} models \".format(i+1))\n",
    "        self.ensemble_predictions_ = np.asarray(self.ensemble_predictions_)\n",
    "    \n",
    "    def predict(self, X):\n",
    "        self.ensemble_predictions_ = []\n",
    "                \n",
    "        def select_most_frequent(row, query_number):\n",
    "            freq, maxi = {}, 0\n",
    "            prediction, count = np.unique(row, return_counts=True)\n",
    "            for i,v in enumerate(count):\n",
    "                freq[v] = freq.get(v, []) + [prediction[i]]\n",
    "                maxi = max(maxi, v)\n",
    "            return get_mode(freq,maxi, query_number)\n",
    "        \n",
    "        def interpret_predictions():\n",
    "            if self.verbosity == 2:\n",
    "                print(\"Aggregating ensemble predictions.\")\n",
    "            final_prediction = []\n",
    "            for i,row in enumerate(self.ensemble_predictions_.transpose()):\n",
    "                final_prediction += select_most_frequent(row, i)\n",
    "            if self.verbosity == 1:\n",
    "                print(\"Results aggregated for {} queries\".format(i+1))\n",
    "            return final_prediction\n",
    "    \n",
    "        def get_mode(frequency, maxi, i):\n",
    "            if len(frequency[maxi]) > 1:\n",
    "                if self.verbosity == 2:\n",
    "                    print(\"Multiple maximums for query {}, will select at random from {}\".\n",
    "                         format(i+1, frequency[maxi]))\n",
    "                return [frequency[maxi][(self.random.randint(0, (len(frequency[maxi]))))]]\n",
    "            return frequency[maxi]\n",
    "    \n",
    "        check_is_fitted(self, ['models_'])\n",
    "        \n",
    "        # Check that the input features match the type and shape of the training features\n",
    "        X = check_array(X)\n",
    "    \n",
    "     #   self.ensemble_predictions_ = np.array([model.predict(X) for model in self.models])\n",
    "        self.ensemble_predict(X)\n",
    "        \n",
    "        return np.array(interpret_predictions())\n",
    "\n",
    "    #     # The predict function to make a set of predictions for a set of query instances\n",
    "    def predict_proba(self, X):\n",
    "        \n",
    "        self.ensemble_predictions_ = []\n",
    "\n",
    "        def calculate_probabilities():\n",
    "            probs = []\n",
    "            if self.verbosity > 0:\n",
    "                print(\"Calculating probabilities from ensemble predictions\")\n",
    "            for p in self.ensemble_predictions_.transpose():\n",
    "                key, val = np.unique(p, return_counts=True)\n",
    "                counts = dict(zip(key, val))\n",
    "                probs.append([(counts[c] / len(p)) if c in counts else 0.0 for c in self.classes_])\n",
    "            if self.verbosity > 0:\n",
    "                print(\"Probabilities calculated for {} queries and {} classes\".format(len(probs), len(self.classes_)))\n",
    "            \n",
    "            return probs\n",
    "        check_is_fitted(self, ['models_'])\n",
    "        \n",
    "        X = check_array(X)   \n",
    "        \n",
    "        self.ensemble_predict(X)\n",
    "        \n",
    "        return np.array(calculate_probabilities())\n"
   ]
  },
  {
   "cell_type": "markdown",
   "metadata": {},
   "source": [
    "### Test the HeterogenousEnsembleClassifier"
   ]
  },
  {
   "cell_type": "markdown",
   "metadata": {},
   "source": [
    "##### Test with Iris Data"
   ]
  },
  {
   "cell_type": "markdown",
   "metadata": {},
   "source": [
    "The following tests are to verify that the algorithm is working relatively as-expected. No in-depth performance testing will be performed in this section."
   ]
  },
  {
   "cell_type": "code",
   "execution_count": 3,
   "metadata": {},
   "outputs": [
    {
     "data": {
      "text/plain": [
       "array([[1., 0., 0.],\n",
       "       [1., 0., 0.],\n",
       "       [1., 0., 0.],\n",
       "       [1., 0., 0.],\n",
       "       [1., 0., 0.],\n",
       "       [1., 0., 0.],\n",
       "       [1., 0., 0.],\n",
       "       [1., 0., 0.],\n",
       "       [1., 0., 0.],\n",
       "       [1., 0., 0.]])"
      ]
     },
     "execution_count": 3,
     "metadata": {},
     "output_type": "execute_result"
    }
   ],
   "source": [
    "from sklearn.datasets import load_iris\n",
    "from sklearn.model_selection import cross_val_score\n",
    "iris = load_iris()\n",
    "clf = HeterogenousEnsembleClassifier(n_estimators=10, verbosity = 0, random_state=1)\n",
    "clf.fit(iris.data, iris.target)\n",
    "clf.predict_proba(iris.data)[:10]"
   ]
  },
  {
   "cell_type": "code",
   "execution_count": 4,
   "metadata": {
    "scrolled": false
   },
   "outputs": [
    {
     "name": "stdout",
     "output_type": "stream",
     "text": [
      "              precision    recall  f1-score   support\n",
      "\n",
      "           0       1.00      1.00      1.00        50\n",
      "           1       0.96      0.94      0.95        50\n",
      "           2       0.94      0.96      0.95        50\n",
      "\n",
      "    accuracy                           0.97       150\n",
      "   macro avg       0.97      0.97      0.97       150\n",
      "weighted avg       0.97      0.97      0.97       150\n",
      "\n",
      "Confusion Matrix\n"
     ]
    },
    {
     "data": {
      "text/html": [
       "<div>\n",
       "<style scoped>\n",
       "    .dataframe tbody tr th:only-of-type {\n",
       "        vertical-align: middle;\n",
       "    }\n",
       "\n",
       "    .dataframe tbody tr th {\n",
       "        vertical-align: top;\n",
       "    }\n",
       "\n",
       "    .dataframe thead th {\n",
       "        text-align: right;\n",
       "    }\n",
       "</style>\n",
       "<table border=\"1\" class=\"dataframe\">\n",
       "  <thead>\n",
       "    <tr style=\"text-align: right;\">\n",
       "      <th>Predicted</th>\n",
       "      <th>0</th>\n",
       "      <th>1</th>\n",
       "      <th>2</th>\n",
       "      <th>All</th>\n",
       "    </tr>\n",
       "    <tr>\n",
       "      <th>True</th>\n",
       "      <th></th>\n",
       "      <th></th>\n",
       "      <th></th>\n",
       "      <th></th>\n",
       "    </tr>\n",
       "  </thead>\n",
       "  <tbody>\n",
       "    <tr>\n",
       "      <th>0</th>\n",
       "      <td>50</td>\n",
       "      <td>0</td>\n",
       "      <td>0</td>\n",
       "      <td>50</td>\n",
       "    </tr>\n",
       "    <tr>\n",
       "      <th>1</th>\n",
       "      <td>0</td>\n",
       "      <td>47</td>\n",
       "      <td>3</td>\n",
       "      <td>50</td>\n",
       "    </tr>\n",
       "    <tr>\n",
       "      <th>2</th>\n",
       "      <td>0</td>\n",
       "      <td>2</td>\n",
       "      <td>48</td>\n",
       "      <td>50</td>\n",
       "    </tr>\n",
       "    <tr>\n",
       "      <th>All</th>\n",
       "      <td>50</td>\n",
       "      <td>49</td>\n",
       "      <td>51</td>\n",
       "      <td>150</td>\n",
       "    </tr>\n",
       "  </tbody>\n",
       "</table>\n",
       "</div>"
      ],
      "text/plain": [
       "Predicted   0   1   2  All\n",
       "True                      \n",
       "0          50   0   0   50\n",
       "1           0  47   3   50\n",
       "2           0   2  48   50\n",
       "All        50  49  51  150"
      ]
     },
     "metadata": {},
     "output_type": "display_data"
    }
   ],
   "source": [
    "base_estimator = svm.SVC()\n",
    "hyperparam_range = {\"kernel\":[\"rbf\", \"linear\"], \"C\":np.arange(0.1, 1.0, 10), \"gamma\":[0.1, 0.5], \"probability\":[True]}\n",
    "clf = HeterogenousEnsembleClassifier(base_estimator, 10, hyperparam_range, verbosity = 0)\n",
    "clf.fit(iris.data, iris.target)\n",
    "y_pred = clf.predict(iris.data)\n",
    "print(metrics.classification_report(iris.target, y_pred))\n",
    "print(\"Confusion Matrix\")\n",
    "display(pd.crosstab(np.array(iris.target), y_pred, rownames=['True'], colnames=['Predicted'], margins=True))\n",
    "y_pred = clf.predict_proba(iris.data)"
   ]
  },
  {
   "cell_type": "code",
   "execution_count": 5,
   "metadata": {},
   "outputs": [
    {
     "name": "stdout",
     "output_type": "stream",
     "text": [
      "[1.         0.93333333 1.         1.         0.93333333 0.93333333\n",
      " 0.93333333 1.         1.         1.        ]\n",
      "0.9733333333333334  +/-  0.03265986323710904\n"
     ]
    }
   ],
   "source": [
    "scores = cross_val_score(clf, iris.data, iris.target, cv=10)\n",
    "print(scores)\n",
    "print(np.mean(scores), \" +/- \", np.std(scores))"
   ]
  },
  {
   "cell_type": "markdown",
   "metadata": {},
   "source": [
    "On a simple dataset, the heterogeneous ensemble appears to be performing as expected, accuracy is in the high nineties."
   ]
  },
  {
   "cell_type": "markdown",
   "metadata": {},
   "source": [
    "##### Test with Survival Data"
   ]
  },
  {
   "cell_type": "markdown",
   "metadata": {},
   "source": [
    "These tests are to verify that the implementation throws no errors when used with non-numerical targets. I also was curious to see how it would perform on an unbalanced dataset. "
   ]
  },
  {
   "cell_type": "code",
   "execution_count": 6,
   "metadata": {},
   "outputs": [
    {
     "data": {
      "text/html": [
       "<div>\n",
       "<style scoped>\n",
       "    .dataframe tbody tr th:only-of-type {\n",
       "        vertical-align: middle;\n",
       "    }\n",
       "\n",
       "    .dataframe tbody tr th {\n",
       "        vertical-align: top;\n",
       "    }\n",
       "\n",
       "    .dataframe thead th {\n",
       "        text-align: right;\n",
       "    }\n",
       "</style>\n",
       "<table border=\"1\" class=\"dataframe\">\n",
       "  <thead>\n",
       "    <tr style=\"text-align: right;\">\n",
       "      <th></th>\n",
       "      <th>Age</th>\n",
       "      <th>Year</th>\n",
       "      <th>NNodes</th>\n",
       "      <th>Class</th>\n",
       "      <th>Survived</th>\n",
       "    </tr>\n",
       "  </thead>\n",
       "  <tbody>\n",
       "    <tr>\n",
       "      <th>0</th>\n",
       "      <td>30</td>\n",
       "      <td>64</td>\n",
       "      <td>1</td>\n",
       "      <td>1</td>\n",
       "      <td>GE5</td>\n",
       "    </tr>\n",
       "    <tr>\n",
       "      <th>1</th>\n",
       "      <td>30</td>\n",
       "      <td>62</td>\n",
       "      <td>3</td>\n",
       "      <td>1</td>\n",
       "      <td>GE5</td>\n",
       "    </tr>\n",
       "    <tr>\n",
       "      <th>2</th>\n",
       "      <td>30</td>\n",
       "      <td>65</td>\n",
       "      <td>0</td>\n",
       "      <td>1</td>\n",
       "      <td>GE5</td>\n",
       "    </tr>\n",
       "    <tr>\n",
       "      <th>3</th>\n",
       "      <td>31</td>\n",
       "      <td>59</td>\n",
       "      <td>2</td>\n",
       "      <td>1</td>\n",
       "      <td>GE5</td>\n",
       "    </tr>\n",
       "    <tr>\n",
       "      <th>4</th>\n",
       "      <td>31</td>\n",
       "      <td>65</td>\n",
       "      <td>4</td>\n",
       "      <td>1</td>\n",
       "      <td>GE5</td>\n",
       "    </tr>\n",
       "  </tbody>\n",
       "</table>\n",
       "</div>"
      ],
      "text/plain": [
       "   Age  Year  NNodes  Class Survived\n",
       "0   30    64       1      1      GE5\n",
       "1   30    62       3      1      GE5\n",
       "2   30    65       0      1      GE5\n",
       "3   31    59       2      1      GE5\n",
       "4   31    65       4      1      GE5"
      ]
     },
     "execution_count": 6,
     "metadata": {},
     "output_type": "execute_result"
    }
   ],
   "source": [
    "surv = pd.read_csv('survival.csv')\n",
    "surv['Survived'] = 'GE5'\n",
    "surv.loc[surv['Class']==2,'Survived']='L5'\n",
    "surv.head()\n"
   ]
  },
  {
   "cell_type": "code",
   "execution_count": 7,
   "metadata": {},
   "outputs": [
    {
     "data": {
      "text/plain": [
       "((306, 3), (306,))"
      ]
     },
     "execution_count": 7,
     "metadata": {},
     "output_type": "execute_result"
    }
   ],
   "source": [
    "y = surv.pop('Survived').values\n",
    "surv.pop('Class')\n",
    "X = surv.values\n",
    "X.shape, y.shape"
   ]
  },
  {
   "cell_type": "code",
   "execution_count": 8,
   "metadata": {},
   "outputs": [
    {
     "name": "stdout",
     "output_type": "stream",
     "text": [
      "10 models fitted with base estimator SVC.\n",
      "Predict completed for 10 models \n",
      "Results aggregated for 306 queries\n"
     ]
    },
    {
     "data": {
      "text/html": [
       "<div>\n",
       "<style scoped>\n",
       "    .dataframe tbody tr th:only-of-type {\n",
       "        vertical-align: middle;\n",
       "    }\n",
       "\n",
       "    .dataframe tbody tr th {\n",
       "        vertical-align: top;\n",
       "    }\n",
       "\n",
       "    .dataframe thead th {\n",
       "        text-align: right;\n",
       "    }\n",
       "</style>\n",
       "<table border=\"1\" class=\"dataframe\">\n",
       "  <thead>\n",
       "    <tr style=\"text-align: right;\">\n",
       "      <th>Predicted</th>\n",
       "      <th>GE5</th>\n",
       "      <th>All</th>\n",
       "    </tr>\n",
       "    <tr>\n",
       "      <th>True</th>\n",
       "      <th></th>\n",
       "      <th></th>\n",
       "    </tr>\n",
       "  </thead>\n",
       "  <tbody>\n",
       "    <tr>\n",
       "      <th>GE5</th>\n",
       "      <td>225</td>\n",
       "      <td>225</td>\n",
       "    </tr>\n",
       "    <tr>\n",
       "      <th>L5</th>\n",
       "      <td>81</td>\n",
       "      <td>81</td>\n",
       "    </tr>\n",
       "    <tr>\n",
       "      <th>All</th>\n",
       "      <td>306</td>\n",
       "      <td>306</td>\n",
       "    </tr>\n",
       "  </tbody>\n",
       "</table>\n",
       "</div>"
      ],
      "text/plain": [
       "Predicted  GE5  All\n",
       "True               \n",
       "GE5        225  225\n",
       "L5          81   81\n",
       "All        306  306"
      ]
     },
     "metadata": {},
     "output_type": "display_data"
    },
    {
     "name": "stdout",
     "output_type": "stream",
     "text": [
      "              precision    recall  f1-score   support\n",
      "\n",
      "         GE5       0.74      1.00      0.85       225\n",
      "          L5       0.00      0.00      0.00        81\n",
      "\n",
      "    accuracy                           0.74       306\n",
      "   macro avg       0.37      0.50      0.42       306\n",
      "weighted avg       0.54      0.74      0.62       306\n",
      "\n"
     ]
    }
   ],
   "source": [
    "base_estimator = svm.SVC()\n",
    "hyperparam_range = {\"kernel\":[\"rbf\", \"linear\"], \"C\":np.arange(0.1, 1.0, 10), \"gamma\":[0.1, 0.5], \"probability\":[True]}\n",
    "n_estimators = 10\n",
    "clf = HeterogenousEnsembleClassifier(base_estimator, n_estimators, hyperparam_range, verbosity = 1)\n",
    "clf.fit(X, y)\n",
    "y_pred = clf.predict(X)\n",
    "display(pd.crosstab(y, y_pred, rownames=['True'], colnames=['Predicted'], margins=True))\n",
    "print(metrics.classification_report(y, y_pred))\n"
   ]
  },
  {
   "cell_type": "markdown",
   "metadata": {},
   "source": [
    "The heterogeneous ensemble handled non numeric class labels without issue The aggregation technique used is majority voting, so it is unsurprising that the classifier is showing significant bias on unbalanced data"
   ]
  },
  {
   "cell_type": "markdown",
   "metadata": {},
   "source": [
    "## Task 2: The StackedHeterogenousEnsembleClassifier Class"
   ]
  },
  {
   "cell_type": "markdown",
   "metadata": {},
   "source": [
    "### Define StackedHeterogenousEnsembleClassifier Class"
   ]
  },
  {
   "cell_type": "code",
   "execution_count": 9,
   "metadata": {},
   "outputs": [],
   "source": [
    "# Create a new classifier which is based on the sckit-learn BaseEstimator and ClassifierMixin classes\n",
    "class StackedHeterogenousEnsembleClassifier(BaseEstimator, ClassifierMixin):\n",
    "    \n",
    "    \"\"\"An ensemble classifier that uses heterogeneous models at the base layer. Base models are different due to different hyper-parameters used. Aggrefgattion is perfomred using a stack layer model.\n",
    "\n",
    "    Parameters\n",
    "    ----------\n",
    "    base_estimator: scikit-learn estimator \n",
    "        The model type to be used at the base layer of the ensemble model.\n",
    "\n",
    "    hp_range_map: dictionary\n",
    "        A dictinary of hyperparamters and the ranges of values that will be used from them\n",
    "        \n",
    "    n_estimators: int\n",
    "        How many models to use in the ensemble\n",
    "        \n",
    "    bootstrap: boolean\n",
    "        Whether or not to use bootstrap sampling wehn training base estimators\n",
    "    \n",
    "    stack_layer_estimator: scikit-learn estimator \n",
    "        Estimator type of the stack  layer model\n",
    "        \n",
    "    base_stack_data_ratio: float\n",
    "        The ratio with which to split the data for straing the base and stack layers.\n",
    "        \n",
    "    Attributes\n",
    "    ----------\n",
    "    classes_ : array of shape = [n_classes] \n",
    "        The classes labels.\n",
    "    params_ : array of dicts of varying lengths\n",
    "        Each dict contains unique param value combinations generated from given HP map.\n",
    "    models_ : list of len = [n_estimators]\n",
    "        Fitted models of the ensemble.\n",
    "    ensemble_predictions_ : array of shape = [y * n_estimators]\n",
    "        Collective predictions of ensemble models.\n",
    "\n",
    "    Notes\n",
    "    -----\n",
    "    The default values for most base learners are used, unless hyperparameter ranges are specified\n",
    "\n",
    "    See also\n",
    "    --------\n",
    "    \n",
    "\n",
    "    Examples\n",
    "    --------\n",
    "    >>> from sklearn.datasets import load_iris\n",
    "    >>> from sklearn.model_selection import cross_val_score\n",
    "    >>> clf = StackedHeterogenousEnsembleClassifier(tree.DecisionTreeClassifier(), {'max_depth':[5, 10, 15], })\n",
    "    >>> iris = load_iris()\n",
    "    >>> cross_val_score(clf, iris.data, iris.target, cv=10)\n",
    "\n",
    "    \"\"\"\n",
    "    # Constructor for the classifier object\n",
    "    def __init__(self, base_estimator = svm.SVC(), n_estimators = 10, hp_range_map = None, bootstrap = True, stack_layer_estimator = svm.SVC(), base_stack_data_ratio = 0.7, random_state=None, verbosity = 0):\n",
    "\n",
    "        \"\"\"Setup a StackedHeterogenousEnsembleClassifier classifier .\n",
    "        Parameters\n",
    "        ----------\n",
    "        base_estimator: The model type to be used at the base layer of the ensemble model.\n",
    "        hp_range_map: A dictinary of hyperparamters and the ranges of values that will be used from them\n",
    "        n_estimators: How many models to use in the ensemble\n",
    "        bootstrap: Wheter or not to use bootstrap sampling wehn training base estimators\n",
    "        stack_layer_estimator: Estimator type of the stack  layer model\n",
    "        base_stack_data_ratio: The ratio with which to split the data for straing the base and stack layers.\n",
    "        \n",
    "        Returns\n",
    "        -------\n",
    "        The estimator\n",
    "        \"\"\"     \n",
    "\n",
    "        # Initialise ranomd state if set\n",
    "        self.random_state = random_state\n",
    "        \n",
    "        # Initialise class variabels\n",
    "        self.base_estimator = base_estimator\n",
    "        self.hp_range_map = hp_range_map\n",
    "        self.n_estimators = n_estimators\n",
    "        self.bootstrap = bootstrap\n",
    "        self.stack_layer_estimator = stack_layer_estimator\n",
    "        self.base_stack_data_ratio = base_stack_data_ratio\n",
    "        self.verbosity = verbosity     \n",
    "    \n",
    "    def validate_parameters(self):\n",
    "        if self.n_estimators < 1:\n",
    "             raise ValueError(\"n_estimators must be >= 1\")\n",
    "        if is_classifier(self.base_estimator) is False:\n",
    "            raise ValueError(\"base_estimator must be a classifier\")\n",
    "        if is_classifier(self.stack_layer_estimator) is False:\n",
    "            raise ValueError(\"stack_layer_estimator must be a classifier\")\n",
    "        if self.verbosity not in range(0,3):\n",
    "            raise ValueError(\"verbosity has range 0-2\")\n",
    "        if self.base_stack_data_ratio <= 0 or self.base_stack_data_ratio >= 1:\n",
    "            raise ValueError(\"base_stack_data_ratio must be greater than 0 and smaler than 1.\")\n",
    "        if self.hp_range_map is None:\n",
    "            warnings.warn(\"Hyperparameter map has not been given. Diversity will be limited.\")\n",
    "            self.hp_range_map = {}\n",
    "\n",
    "    # The fit function to train a classifier\n",
    "    def fit(self, X, y):\n",
    "        self.validate_parameters()\n",
    "        self.random =  np.random.RandomState(self.random_state)\n",
    "\n",
    "        def check_bootstrap(X, y):\n",
    "            if self.bootstrap is True:\n",
    "                return resample(X,y, replace=True)\n",
    "            return X,y \n",
    "        \n",
    "        def check_param_range(param_range):\n",
    "            # if parameter value range not a list, convert it\n",
    "            if type(param_range) is np.ndarray:\n",
    "                param_range = param_range.tolist()\n",
    "            elif type(param_range) is not list:\n",
    "                param_range = [param_range]\n",
    "            # explicitly adding possibility of not selecting parameter to paramater range list\n",
    "            return param_range + [None]\n",
    "    \n",
    "        # given map of param ranges in hp_range_map, generate all possible combinations\n",
    "        def generate_param_combinations():\n",
    "            param_ranges = []\n",
    "            # Split parameters into key/value lists and verify format.\n",
    "            for key, param_range in self.hp_range_map.items():\n",
    "                param_ranges.append(check_param_range(param_range))\n",
    "                self.keys.append(key)\n",
    "            \n",
    "            # Generate all possible unique combinations of hyperparameters\n",
    "            product = itertools.product(*param_ranges)\n",
    "            \n",
    "            # Convert into list of dicts\n",
    "            self.params_ = [ dict(zip(self.keys, params)) for params in product ]\n",
    "            if self.verbosity == 2:\n",
    "                print(\"{} number of parameter combinations generated for hyperparameter range {}.\".\n",
    "                      format(len(self.params_), self.hp_range_map))\n",
    "        \n",
    "        # Given an index for the pregenerated params combination list, \n",
    "        # extract params at that index, convert to dictionary\n",
    "        def extract_params(random_state_on, n):\n",
    "            params = self.params_[n]\n",
    "            for key in self.keys:\n",
    "                if key in params and params[key] is None:\n",
    "                    del params[key]\n",
    "            # if random state has been set in constructor, add to params\n",
    "            if random_state_on is True:\n",
    "                params['random_state'] = self.random_state\n",
    "            return params\n",
    "        \n",
    "        # Not all potential base classifiers take a random_state variable,\n",
    "        # hence the try/except clause\n",
    "        def check_random_state():\n",
    "            if self.random_state != None:\n",
    "                try:\n",
    "                    self.base_estimator.set_params(**{'random_state': 0})\n",
    "                    return True\n",
    "                except:\n",
    "                    return False\n",
    "            return False\n",
    "        \n",
    "        def fit_ensemble(X_train, X_valid, y_train):\n",
    "            # If target labels are categorical, convert to numerical\n",
    "            le = preprocessing.LabelEncoder()\n",
    "            le.fit(self.classes_)        \n",
    "            random_state_on = check_random_state()\n",
    "            y_preds = []\n",
    "            for i in range(0, self.n_estimators):\n",
    "                X_train, y_train = check_bootstrap(X_train, y_train)             \n",
    "                params = extract_params(random_state_on, self.random.randint(0, (len(self.params_)-1)))\n",
    "                clf = copy(self.base_estimator).set_params(**params)              \n",
    "                if self.verbosity == 2:\n",
    "                    print(\"Fitting model {} with parameters: {}\".format(i+1, params))\n",
    "                \n",
    "                # Fitting ensemble model on training data\n",
    "                clf.fit(X_train, y_train)\n",
    "                self.models_.append(clf)\n",
    "                \n",
    "                # Predictions from validation set are stored for use with stack\n",
    "                y = clf.predict(X_valid)\n",
    "                \n",
    "                # Checking if predictions need to be encoded\n",
    "                if y.dtype != 'int64' and y.dtype != 'int32':\n",
    "                    y_preds.append(le.transform(y))\n",
    "                else:\n",
    "                    y_preds.append(y)\n",
    "            if self.verbosity > 0:\n",
    "                print(\"{} models fitted with base estimator {}.\".\n",
    "                      format(i+1, self.base_estimator.__class__.__name__))\n",
    "            \n",
    "            return np.array(y_preds)\n",
    "        \n",
    "            # Extracting ensemble predictions and transforming to wide format, then appending\n",
    "            # to validation set to create training set for stack\n",
    "        def prepare_stack_training_set(X, X_valid, y_preds):            \n",
    "            model_output = [to_categorical(m, num_classes=len(self.classes_)+1,\n",
    "                                           dtype=self.target_type) for m in y_preds.transpose()]\n",
    "            model_output = np.array(model_output).reshape(X_valid.shape[0],\n",
    "                                                          self.n_estimators*(len(self.classes_)+1))\n",
    "            if self.verbosity > 0:\n",
    "                print(\"Training set of size {} prepared for stack layer\".format(model_output.size))\n",
    "            return np.concatenate((X_valid, model_output), axis = 1)\n",
    "        \n",
    "        \n",
    "        # Check that X and y have correct shape\n",
    "        X, y = check_X_y(X, y)\n",
    "        \n",
    "        # Splitting data for trainig the stack layer\n",
    "        X_train, X_valid, y_train, y_valid = train_test_split(X, y, train_size=self.base_stack_data_ratio,\n",
    "                                                              random_state=self.random_state)\n",
    "        if self.verbosity > 0:\n",
    "            print(\"X_train of size {} split at {} ratio\". format(X.size, self.base_stack_data_ratio))\n",
    "        if self.verbosity == 2:\n",
    "            print(\"X_train for ensemble now size {}, X_train for stack now size {}\".\n",
    "                  format(X_train.size, X_valid.size))\n",
    "        self.params_, self.keys, self.models_ = [], [], []     \n",
    "        self.target_type = y.dtype\n",
    "                \n",
    "       #  Count the number of occurrences of each class in the target vector (uses mupy unique function that returns a list of unique values and their counts)\n",
    "        self.classes_ = np.unique(y)\n",
    "        generate_param_combinations()\n",
    "        y_preds = fit_ensemble(X_train, X_valid, y_train)\n",
    "        X_train_stack = prepare_stack_training_set(X, X_valid, y_preds)        \n",
    "        self.stack_layer_estimator.fit(X_train_stack, y_valid)\n",
    "        if self.verbosity > 0:\n",
    "            print(\"Stack layer with base estimator {} has been fit\".\n",
    "                  format(self.stack_layer_estimator.__class__.__name__))\n",
    "        return self\n",
    "    \n",
    "    def ensemble_predict(self, X):\n",
    "        le = preprocessing.LabelEncoder()\n",
    "        le.fit(self.classes_)\n",
    "        for i, model in enumerate(self.models_):\n",
    "            y = model.predict(X)\n",
    "            # Checking if predictions need to be encoded\n",
    "            if y.dtype != 'int64' and y.dtype != 'int32':\n",
    "                self.model_output.append(le.transform(y))\n",
    "            else:\n",
    "                self.model_output.append(y)\n",
    "            if self.verbosity == 2:\n",
    "                print('Model no. {} {} predict completed.'.format(i+1, model))\n",
    "        if self.verbosity > 0:\n",
    "            print(\"Predict completed for {} models \".format(i+1))\n",
    "        self.model_output = np.asarray(self.model_output)  \n",
    "\n",
    "        \n",
    "    def prepare_data_for_stack(self, X):\n",
    "        if self.verbosity > 0:\n",
    "            print(\"Preparing data for stack layer.\")\n",
    "        \n",
    "        # Transforing predictions into wide predictions\n",
    "        for i, prediction in enumerate(self.model_output.transpose()):\n",
    "            self.ensemble_predictions_.append(to_categorical(prediction,\n",
    "                                                             num_classes=len(self.classes_)+1,\n",
    "                                                             dtype=self.target_type))\n",
    "        self.ensemble_predictions_ = np.array(self.ensemble_predictions_)\n",
    "        \n",
    "        # Reshaping to appropriate shape\n",
    "        self.ensemble_predictions_ = self.ensemble_predictions_.reshape(X.shape[0],\n",
    "                                                                        (len(self.classes_)+1) * self.n_estimators)\n",
    "        if self.verbosity > 0:\n",
    "                print(\"Data set of size {} prepared for stack layer\".format(self.model_output.size))\n",
    "        return np.concatenate((X, self.ensemble_predictions_), axis=1)\n",
    "\n",
    "    # The predict function to make a set of predictions for a set of query instances\n",
    "    def predict(self, X):\n",
    "        check_is_fitted(self, ['models_'])\n",
    "        self.ensemble_predictions_, self.model_output = [], []\n",
    "        # Check that the input features match the type and shape of the training features\n",
    "        X = check_array(X)\n",
    "        self.ensemble_predict(X)\n",
    "        X_stack = self.prepare_data_for_stack(X)\n",
    "        if self.verbosity == 2:\n",
    "            print(\"Stack layer with base_estimator {} making prediction\".\n",
    "                  format(self.stack_layer_estimator.__class__.__name__))\n",
    "        return self.stack_layer_estimator.predict(X_stack)\n",
    "\n",
    "    \n",
    "     # The predict function to make a set of predictions for a set of query instances\n",
    "    def predict_proba(self, X):\n",
    "        check_is_fitted(self, ['models_'])       \n",
    "        self.model_output, self.ensemble_predictions_ = [], []\n",
    "        \n",
    "        # Check that the input features match the type and shape of the training features\n",
    "        X = check_array(X)\n",
    "        self.ensemble_predict(X)\n",
    "        X_stack = self.prepare_data_for_stack(X)\n",
    "        if self.verbosity == 2:\n",
    "            print(\"Stack layer with base_estimator {} making prediction\".\n",
    "                  format(self.stack_layer_estimator.__class__.__name__))\n",
    "        return(self.stack_layer_estimator.predict_proba(X_stack))\n",
    "        "
   ]
  },
  {
   "cell_type": "markdown",
   "metadata": {},
   "source": [
    "*The mannor in which the predictions of the ensemble is transformed into data for the stacked layer has gone through many different iterations. I initially tried simply transposing the predictions. Next I tried a variety of different aggregations, from frequency to mean. I experimented with using probabilities as opposed to predictions. I also tested whether leaving the original validation set in or out for training improved performance. Ultimately this wide, binary representation of the predictions, with the validation set left in, has garnered the best performance so far.*"
   ]
  },
  {
   "cell_type": "markdown",
   "metadata": {},
   "source": [
    "### Test the StackedHeterogenousEnsembleClassifier"
   ]
  },
  {
   "cell_type": "markdown",
   "metadata": {},
   "source": [
    "##### Test on Iris Data"
   ]
  },
  {
   "cell_type": "code",
   "execution_count": 10,
   "metadata": {
    "scrolled": true
   },
   "outputs": [
    {
     "name": "stdout",
     "output_type": "stream",
     "text": [
      "              precision    recall  f1-score   support\n",
      "\n",
      "           0       1.00      1.00      1.00        50\n",
      "           1       0.88      0.98      0.92        50\n",
      "           2       0.98      0.86      0.91        50\n",
      "\n",
      "    accuracy                           0.95       150\n",
      "   macro avg       0.95      0.95      0.95       150\n",
      "weighted avg       0.95      0.95      0.95       150\n",
      "\n",
      "Confusion Matrix\n"
     ]
    },
    {
     "data": {
      "text/html": [
       "<div>\n",
       "<style scoped>\n",
       "    .dataframe tbody tr th:only-of-type {\n",
       "        vertical-align: middle;\n",
       "    }\n",
       "\n",
       "    .dataframe tbody tr th {\n",
       "        vertical-align: top;\n",
       "    }\n",
       "\n",
       "    .dataframe thead th {\n",
       "        text-align: right;\n",
       "    }\n",
       "</style>\n",
       "<table border=\"1\" class=\"dataframe\">\n",
       "  <thead>\n",
       "    <tr style=\"text-align: right;\">\n",
       "      <th>Predicted</th>\n",
       "      <th>0</th>\n",
       "      <th>1</th>\n",
       "      <th>2</th>\n",
       "      <th>All</th>\n",
       "    </tr>\n",
       "    <tr>\n",
       "      <th>True</th>\n",
       "      <th></th>\n",
       "      <th></th>\n",
       "      <th></th>\n",
       "      <th></th>\n",
       "    </tr>\n",
       "  </thead>\n",
       "  <tbody>\n",
       "    <tr>\n",
       "      <th>0</th>\n",
       "      <td>50</td>\n",
       "      <td>0</td>\n",
       "      <td>0</td>\n",
       "      <td>50</td>\n",
       "    </tr>\n",
       "    <tr>\n",
       "      <th>1</th>\n",
       "      <td>0</td>\n",
       "      <td>49</td>\n",
       "      <td>1</td>\n",
       "      <td>50</td>\n",
       "    </tr>\n",
       "    <tr>\n",
       "      <th>2</th>\n",
       "      <td>0</td>\n",
       "      <td>7</td>\n",
       "      <td>43</td>\n",
       "      <td>50</td>\n",
       "    </tr>\n",
       "    <tr>\n",
       "      <th>All</th>\n",
       "      <td>50</td>\n",
       "      <td>56</td>\n",
       "      <td>44</td>\n",
       "      <td>150</td>\n",
       "    </tr>\n",
       "  </tbody>\n",
       "</table>\n",
       "</div>"
      ],
      "text/plain": [
       "Predicted   0   1   2  All\n",
       "True                      \n",
       "0          50   0   0   50\n",
       "1           0  49   1   50\n",
       "2           0   7  43   50\n",
       "All        50  56  44  150"
      ]
     },
     "metadata": {},
     "output_type": "display_data"
    }
   ],
   "source": [
    "iris = load_iris()\n",
    "base_estimator = svm.SVC()\n",
    "hyperparam_range = {\"kernel\":[\"rbf\", \"linear\"], \"C\":np.arange(0.1, 1.0, 0.1), \"gamma\":[0.1, 0.5], \"probability\":[True]}\n",
    "clf = StackedHeterogenousEnsembleClassifier(base_estimator,10, hyperparam_range, True, svm.SVC(probability=True), 0.7, verbosity = 0)\n",
    "clf.fit(iris.data, iris.target)\n",
    "y_pred = clf.predict(iris.data)\n",
    "print(metrics.classification_report(iris.target, y_pred))\n",
    "print(\"Confusion Matrix\")\n",
    "display(pd.crosstab(np.array(iris.target), y_pred, rownames=['True'], colnames=['Predicted'], margins=True))"
   ]
  },
  {
   "cell_type": "code",
   "execution_count": 11,
   "metadata": {},
   "outputs": [
    {
     "data": {
      "text/plain": [
       "array([[0.88969926, 0.06313366, 0.04716708],\n",
       "       [0.88416251, 0.06665352, 0.04918397],\n",
       "       [0.89193612, 0.06178357, 0.04628031],\n",
       "       [0.88312362, 0.06697584, 0.04990054],\n",
       "       [0.89146984, 0.06195614, 0.04657402],\n",
       "       [0.87432349, 0.0715889 , 0.05408761],\n",
       "       [0.88960689, 0.06278861, 0.0476045 ],\n",
       "       [0.88531395, 0.06572523, 0.04896082],\n",
       "       [0.88420317, 0.06633679, 0.04946004],\n",
       "       [0.88327642, 0.06725997, 0.04946361]])"
      ]
     },
     "execution_count": 11,
     "metadata": {},
     "output_type": "execute_result"
    }
   ],
   "source": [
    "clf.predict_proba(iris.data)[:10]"
   ]
  },
  {
   "cell_type": "code",
   "execution_count": 12,
   "metadata": {},
   "outputs": [
    {
     "name": "stdout",
     "output_type": "stream",
     "text": [
      "[1.         0.93333333 1.         1.         0.93333333 0.86666667\n",
      " 0.93333333 1.         1.         1.        ]\n",
      "0.9666666666666668  +/-  0.04472135954999579\n"
     ]
    }
   ],
   "source": [
    "scores = cross_val_score(clf, iris.data, iris.target, cv=10)\n",
    "print(scores)\n",
    "print(np.mean(scores), \" +/- \", np.std(scores))"
   ]
  },
  {
   "cell_type": "markdown",
   "metadata": {},
   "source": [
    "The classifier seems to be working as expected on the irish data. The accuracy score is in the nineties."
   ]
  },
  {
   "cell_type": "markdown",
   "metadata": {},
   "source": [
    "##### Test on Survival data"
   ]
  },
  {
   "cell_type": "markdown",
   "metadata": {},
   "source": [
    "These tests are to verify that the implementation throws no errors when used with non-numerical targets. I also was curious to see how it would perform on an unbalanced dataset. "
   ]
  },
  {
   "cell_type": "code",
   "execution_count": 13,
   "metadata": {},
   "outputs": [
    {
     "data": {
      "text/html": [
       "<div>\n",
       "<style scoped>\n",
       "    .dataframe tbody tr th:only-of-type {\n",
       "        vertical-align: middle;\n",
       "    }\n",
       "\n",
       "    .dataframe tbody tr th {\n",
       "        vertical-align: top;\n",
       "    }\n",
       "\n",
       "    .dataframe thead th {\n",
       "        text-align: right;\n",
       "    }\n",
       "</style>\n",
       "<table border=\"1\" class=\"dataframe\">\n",
       "  <thead>\n",
       "    <tr style=\"text-align: right;\">\n",
       "      <th></th>\n",
       "      <th>Age</th>\n",
       "      <th>Year</th>\n",
       "      <th>NNodes</th>\n",
       "      <th>Class</th>\n",
       "      <th>Survived</th>\n",
       "    </tr>\n",
       "  </thead>\n",
       "  <tbody>\n",
       "    <tr>\n",
       "      <th>0</th>\n",
       "      <td>30</td>\n",
       "      <td>64</td>\n",
       "      <td>1</td>\n",
       "      <td>1</td>\n",
       "      <td>GE5</td>\n",
       "    </tr>\n",
       "    <tr>\n",
       "      <th>1</th>\n",
       "      <td>30</td>\n",
       "      <td>62</td>\n",
       "      <td>3</td>\n",
       "      <td>1</td>\n",
       "      <td>GE5</td>\n",
       "    </tr>\n",
       "    <tr>\n",
       "      <th>2</th>\n",
       "      <td>30</td>\n",
       "      <td>65</td>\n",
       "      <td>0</td>\n",
       "      <td>1</td>\n",
       "      <td>GE5</td>\n",
       "    </tr>\n",
       "    <tr>\n",
       "      <th>3</th>\n",
       "      <td>31</td>\n",
       "      <td>59</td>\n",
       "      <td>2</td>\n",
       "      <td>1</td>\n",
       "      <td>GE5</td>\n",
       "    </tr>\n",
       "    <tr>\n",
       "      <th>4</th>\n",
       "      <td>31</td>\n",
       "      <td>65</td>\n",
       "      <td>4</td>\n",
       "      <td>1</td>\n",
       "      <td>GE5</td>\n",
       "    </tr>\n",
       "  </tbody>\n",
       "</table>\n",
       "</div>"
      ],
      "text/plain": [
       "   Age  Year  NNodes  Class Survived\n",
       "0   30    64       1      1      GE5\n",
       "1   30    62       3      1      GE5\n",
       "2   30    65       0      1      GE5\n",
       "3   31    59       2      1      GE5\n",
       "4   31    65       4      1      GE5"
      ]
     },
     "execution_count": 13,
     "metadata": {},
     "output_type": "execute_result"
    }
   ],
   "source": [
    "surv = pd.read_csv('survival.csv')\n",
    "surv['Survived'] = 'GE5'\n",
    "surv.loc[surv['Class']==2,'Survived']='L5'\n",
    "surv.head()\n"
   ]
  },
  {
   "cell_type": "code",
   "execution_count": 14,
   "metadata": {},
   "outputs": [
    {
     "data": {
      "text/plain": [
       "((306, 3), (306,))"
      ]
     },
     "execution_count": 14,
     "metadata": {},
     "output_type": "execute_result"
    }
   ],
   "source": [
    "y = surv.pop('Survived').values\n",
    "surv.pop('Class')\n",
    "X = surv.values\n",
    "X.shape, y.shape"
   ]
  },
  {
   "cell_type": "code",
   "execution_count": 15,
   "metadata": {},
   "outputs": [
    {
     "name": "stdout",
     "output_type": "stream",
     "text": [
      "              precision    recall  f1-score   support\n",
      "\n",
      "         GE5       0.74      1.00      0.85       225\n",
      "          L5       0.00      0.00      0.00        81\n",
      "\n",
      "    accuracy                           0.74       306\n",
      "   macro avg       0.37      0.50      0.42       306\n",
      "weighted avg       0.54      0.74      0.62       306\n",
      "\n"
     ]
    }
   ],
   "source": [
    "base_estimator = svm.SVC()\n",
    "hyperparam_range = {\"kernel\":[\"rbf\", \"linear\"], \"C\":np.arange(0.1, 1.0, 10), \"gamma\":[0.1, 0.5], \"probability\":[True]}\n",
    "n_estimators = 10\n",
    "clf = StackedHeterogenousEnsembleClassifier(base_estimator, n_estimators, hyperparam_range, verbosity = 0)\n",
    "clf.fit(X, y)\n",
    "y_pred = clf.predict(X)\n",
    "print(metrics.classification_report(y, y_pred))\n"
   ]
  },
  {
   "cell_type": "markdown",
   "metadata": {},
   "source": [
    "The stacked heterogeneous ensemble has no issues handling non-numerical targets, , once a label encoder was added when preparing data for the stacked classifier. It too shows significant bias when presented with unbalanced data."
   ]
  },
  {
   "cell_type": "markdown",
   "metadata": {},
   "source": [
    "## Task 3: Compare the Performance of the Different Ensembles Defined"
   ]
  },
  {
   "cell_type": "markdown",
   "metadata": {},
   "source": [
    "### Load Experiment Dataset"
   ]
  },
  {
   "cell_type": "markdown",
   "metadata": {},
   "source": [
    "For the purposes of faster testing I have taken a sample of the data."
   ]
  },
  {
   "cell_type": "code",
   "execution_count": 32,
   "metadata": {},
   "outputs": [],
   "source": [
    "data_sampling_rate = .25"
   ]
  },
  {
   "cell_type": "code",
   "execution_count": 33,
   "metadata": {
    "scrolled": false
   },
   "outputs": [
    {
     "data": {
      "text/html": [
       "<div>\n",
       "<style scoped>\n",
       "    .dataframe tbody tr th:only-of-type {\n",
       "        vertical-align: middle;\n",
       "    }\n",
       "\n",
       "    .dataframe tbody tr th {\n",
       "        vertical-align: top;\n",
       "    }\n",
       "\n",
       "    .dataframe thead th {\n",
       "        text-align: right;\n",
       "    }\n",
       "</style>\n",
       "<table border=\"1\" class=\"dataframe\">\n",
       "  <thead>\n",
       "    <tr style=\"text-align: right;\">\n",
       "      <th></th>\n",
       "      <th>F1</th>\n",
       "      <th>F2</th>\n",
       "      <th>F3</th>\n",
       "      <th>F4</th>\n",
       "      <th>F5</th>\n",
       "      <th>F6</th>\n",
       "      <th>F7</th>\n",
       "      <th>F8</th>\n",
       "      <th>F9</th>\n",
       "      <th>F10</th>\n",
       "      <th>...</th>\n",
       "      <th>F40</th>\n",
       "      <th>F41</th>\n",
       "      <th>F42</th>\n",
       "      <th>F43</th>\n",
       "      <th>F44</th>\n",
       "      <th>F45</th>\n",
       "      <th>F46</th>\n",
       "      <th>F47</th>\n",
       "      <th>F48</th>\n",
       "      <th>label</th>\n",
       "    </tr>\n",
       "  </thead>\n",
       "  <tbody>\n",
       "    <tr>\n",
       "      <th>5091</th>\n",
       "      <td>0.000015</td>\n",
       "      <td>2.261000e-04</td>\n",
       "      <td>0.000143</td>\n",
       "      <td>1.300000e-05</td>\n",
       "      <td>0.000024</td>\n",
       "      <td>0.000166</td>\n",
       "      <td>0.017538</td>\n",
       "      <td>0.017312</td>\n",
       "      <td>0.017169</td>\n",
       "      <td>-0.024930</td>\n",
       "      <td>...</td>\n",
       "      <td>-0.51178</td>\n",
       "      <td>1.82140</td>\n",
       "      <td>4.4189</td>\n",
       "      <td>-1.5069</td>\n",
       "      <td>-1.5071</td>\n",
       "      <td>-1.5071</td>\n",
       "      <td>-1.4958</td>\n",
       "      <td>-1.4957</td>\n",
       "      <td>-1.4956</td>\n",
       "      <td>1</td>\n",
       "    </tr>\n",
       "    <tr>\n",
       "      <th>21390</th>\n",
       "      <td>0.000001</td>\n",
       "      <td>1.100000e-06</td>\n",
       "      <td>0.000007</td>\n",
       "      <td>3.290000e-06</td>\n",
       "      <td>-0.000004</td>\n",
       "      <td>-0.000023</td>\n",
       "      <td>0.016444</td>\n",
       "      <td>0.016443</td>\n",
       "      <td>0.016436</td>\n",
       "      <td>0.018125</td>\n",
       "      <td>...</td>\n",
       "      <td>-0.60895</td>\n",
       "      <td>5.11230</td>\n",
       "      <td>3.3354</td>\n",
       "      <td>-1.4990</td>\n",
       "      <td>-1.4990</td>\n",
       "      <td>-1.4989</td>\n",
       "      <td>-1.4967</td>\n",
       "      <td>-1.4967</td>\n",
       "      <td>-1.4966</td>\n",
       "      <td>5</td>\n",
       "    </tr>\n",
       "    <tr>\n",
       "      <th>21872</th>\n",
       "      <td>-0.000003</td>\n",
       "      <td>-5.310000e-07</td>\n",
       "      <td>0.000009</td>\n",
       "      <td>1.210000e-06</td>\n",
       "      <td>0.000002</td>\n",
       "      <td>0.000001</td>\n",
       "      <td>0.023619</td>\n",
       "      <td>0.023619</td>\n",
       "      <td>0.023610</td>\n",
       "      <td>0.010662</td>\n",
       "      <td>...</td>\n",
       "      <td>-0.43207</td>\n",
       "      <td>9.65110</td>\n",
       "      <td>7.3805</td>\n",
       "      <td>-1.4988</td>\n",
       "      <td>-1.4988</td>\n",
       "      <td>-1.4988</td>\n",
       "      <td>-1.4999</td>\n",
       "      <td>-1.4999</td>\n",
       "      <td>-1.4999</td>\n",
       "      <td>5</td>\n",
       "    </tr>\n",
       "    <tr>\n",
       "      <th>56512</th>\n",
       "      <td>-0.000016</td>\n",
       "      <td>-8.140000e-06</td>\n",
       "      <td>0.000359</td>\n",
       "      <td>-1.370000e-05</td>\n",
       "      <td>-0.000067</td>\n",
       "      <td>-0.000209</td>\n",
       "      <td>-0.105600</td>\n",
       "      <td>-0.105600</td>\n",
       "      <td>-0.105950</td>\n",
       "      <td>-0.135700</td>\n",
       "      <td>...</td>\n",
       "      <td>-0.63783</td>\n",
       "      <td>-0.10986</td>\n",
       "      <td>3.8331</td>\n",
       "      <td>-1.4978</td>\n",
       "      <td>-1.4979</td>\n",
       "      <td>-1.4975</td>\n",
       "      <td>-1.5033</td>\n",
       "      <td>-1.5034</td>\n",
       "      <td>-1.5032</td>\n",
       "      <td>11</td>\n",
       "    </tr>\n",
       "    <tr>\n",
       "      <th>32542</th>\n",
       "      <td>0.000001</td>\n",
       "      <td>-1.770000e-06</td>\n",
       "      <td>-0.000006</td>\n",
       "      <td>-6.490000e-07</td>\n",
       "      <td>0.000001</td>\n",
       "      <td>-0.000005</td>\n",
       "      <td>0.067877</td>\n",
       "      <td>0.067878</td>\n",
       "      <td>0.067885</td>\n",
       "      <td>0.111340</td>\n",
       "      <td>...</td>\n",
       "      <td>-0.50386</td>\n",
       "      <td>16.48400</td>\n",
       "      <td>5.8570</td>\n",
       "      <td>-1.4980</td>\n",
       "      <td>-1.4980</td>\n",
       "      <td>-1.4980</td>\n",
       "      <td>-1.4972</td>\n",
       "      <td>-1.4971</td>\n",
       "      <td>-1.4971</td>\n",
       "      <td>7</td>\n",
       "    </tr>\n",
       "  </tbody>\n",
       "</table>\n",
       "<p>5 rows × 49 columns</p>\n",
       "</div>"
      ],
      "text/plain": [
       "             F1            F2        F3            F4        F5        F6  \\\n",
       "5091   0.000015  2.261000e-04  0.000143  1.300000e-05  0.000024  0.000166   \n",
       "21390  0.000001  1.100000e-06  0.000007  3.290000e-06 -0.000004 -0.000023   \n",
       "21872 -0.000003 -5.310000e-07  0.000009  1.210000e-06  0.000002  0.000001   \n",
       "56512 -0.000016 -8.140000e-06  0.000359 -1.370000e-05 -0.000067 -0.000209   \n",
       "32542  0.000001 -1.770000e-06 -0.000006 -6.490000e-07  0.000001 -0.000005   \n",
       "\n",
       "             F7        F8        F9       F10  ...      F40       F41     F42  \\\n",
       "5091   0.017538  0.017312  0.017169 -0.024930  ... -0.51178   1.82140  4.4189   \n",
       "21390  0.016444  0.016443  0.016436  0.018125  ... -0.60895   5.11230  3.3354   \n",
       "21872  0.023619  0.023619  0.023610  0.010662  ... -0.43207   9.65110  7.3805   \n",
       "56512 -0.105600 -0.105600 -0.105950 -0.135700  ... -0.63783  -0.10986  3.8331   \n",
       "32542  0.067877  0.067878  0.067885  0.111340  ... -0.50386  16.48400  5.8570   \n",
       "\n",
       "          F43     F44     F45     F46     F47     F48  label  \n",
       "5091  -1.5069 -1.5071 -1.5071 -1.4958 -1.4957 -1.4956      1  \n",
       "21390 -1.4990 -1.4990 -1.4989 -1.4967 -1.4967 -1.4966      5  \n",
       "21872 -1.4988 -1.4988 -1.4988 -1.4999 -1.4999 -1.4999      5  \n",
       "56512 -1.4978 -1.4979 -1.4975 -1.5033 -1.5034 -1.5032     11  \n",
       "32542 -1.4980 -1.4980 -1.4980 -1.4972 -1.4971 -1.4971      7  \n",
       "\n",
       "[5 rows x 49 columns]"
      ]
     },
     "metadata": {},
     "output_type": "display_data"
    }
   ],
   "source": [
    "dataset = pd.read_csv('Sensorless_drive_diagnosis.csv')\n",
    "dataset = dataset.sample(frac=data_sampling_rate, random_state=1) #take a sample from the dataset so everyhting runs smoothly\n",
    "display(dataset.head())"
   ]
  },
  {
   "cell_type": "code",
   "execution_count": 34,
   "metadata": {},
   "outputs": [
    {
     "name": "stdout",
     "output_type": "stream",
     "text": [
      "Missing Values\n",
      "0\n"
     ]
    }
   ],
   "source": [
    "print(\"Missing Values\")\n",
    "print(sum(dataset.isnull().sum()))"
   ]
  },
  {
   "cell_type": "code",
   "execution_count": 35,
   "metadata": {},
   "outputs": [
    {
     "data": {
      "text/plain": [
       "1     1415\n",
       "2     1370\n",
       "4     1353\n",
       "9     1336\n",
       "11    1335\n",
       "7     1317\n",
       "10    1315\n",
       "5     1310\n",
       "3     1309\n",
       "8     1300\n",
       "6     1267\n",
       "Name: label, dtype: int64"
      ]
     },
     "execution_count": 35,
     "metadata": {},
     "output_type": "execute_result"
    }
   ],
   "source": [
    "y = dataset.pop('label')\n",
    "X = dataset\n",
    "y.value_counts()\n"
   ]
  },
  {
   "cell_type": "markdown",
   "metadata": {},
   "source": [
    "There are no missing values so imputation is unnecessary, and the dataset seems relatively balanced."
   ]
  },
  {
   "cell_type": "code",
   "execution_count": 36,
   "metadata": {},
   "outputs": [
    {
     "name": "stdout",
     "output_type": "stream",
     "text": [
      "(7312, 48) (4389, 48) (2926, 48)\n"
     ]
    }
   ],
   "source": [
    "X_train, X_test, y_train, y_test \\\n",
    "    = train_test_split(X, y, \\\n",
    "                       shuffle=True, \\\n",
    "                       stratify = y, \\\n",
    "                       train_size = 0.7, \\\n",
    "                       random_state=0)\n",
    "\n",
    "X_train, X_valid, y_train, y_valid \\\n",
    "    = train_test_split(X_train, y_train, \\\n",
    "                        shuffle=True, \\\n",
    "                        stratify = y_train, \\\n",
    "                        train_size = 0.5/0.7, \\\n",
    "                        random_state = 0)\n",
    "print(X_train.shape, X_test.shape, X_valid.shape)"
   ]
  },
  {
   "cell_type": "code",
   "execution_count": 37,
   "metadata": {},
   "outputs": [],
   "source": [
    "# Make the min max scalar object\n",
    "min_max_scaler = preprocessing.MinMaxScaler((-1,1))\n",
    "min_max_scaler.fit(X_train)\n",
    "\n",
    "# Train the scalar on the training dataset\n",
    "a = min_max_scaler.transform(X_train)\n",
    "\n",
    "cols = X_train.columns\n",
    "X_train = pd.DataFrame(a, columns = cols) \n",
    "\n",
    "# Also normalise other partitions\n",
    "a = min_max_scaler.transform(X_valid)\n",
    "X_valid = pd.DataFrame(a, columns = cols) \n",
    "a = min_max_scaler.transform(X_test)\n",
    "X_test = pd.DataFrame(a, columns = cols) \n"
   ]
  },
  {
   "cell_type": "markdown",
   "metadata": {},
   "source": [
    "### Holdout Testing"
   ]
  },
  {
   "cell_type": "markdown",
   "metadata": {},
   "source": [
    "In order to develop an initial performance baseline , I decided to test the performance of the ensemble with four differing base classifiers.\n",
    "- I selection  Decision Tree as they are known to often work well in ensembles.\n",
    "- I selected kNN as it often does not perform well in ensembles, due to its' stability, and am curious as to its' potential performance with a Heterogeneous Ensemble. \n",
    "- SVM is the default classifier given, and hence worth considering in testing.  \n",
    "- Finally, I decided to use a logistic regressor, as I seen logistic regression less frequently in ensembles, and am curious as to its' potential performance. \n",
    "\n",
    "For each base classifier we will compare the performance of the stacked heterogeneous ensemble, the heterogeneous ensemble, a bagged model and the base classifier itself."
   ]
  },
  {
   "cell_type": "code",
   "execution_count": 38,
   "metadata": {},
   "outputs": [],
   "source": [
    "models = {}\n",
    "r = 1\n",
    "models['DTree'] = DecisionTreeClassifier(random_state=r)\n",
    "models['kNN'] = KNeighborsClassifier()  \n",
    "models['SVM'] = svm.SVC(random_state=r)\n",
    "models['LR'] = LogisticRegression(random_state=r)\n"
   ]
  },
  {
   "cell_type": "markdown",
   "metadata": {},
   "source": [
    "The hyper parameters listed below were hand selected to try and provoke the most diversity possible. These ranges will not be changed further during the tests that follow."
   ]
  },
  {
   "cell_type": "code",
   "execution_count": 39,
   "metadata": {},
   "outputs": [],
   "source": [
    "hparams = {}\n",
    "hparams['DTree'] = {'max_depth': list(range(2,100)), 'min_samples_split': list(range(2,50))}\n",
    "hparams['kNN'] = {'n_neighbors': list(range(3,50)), 'metric': ['euclidean', 'chebyshev', 'minkowski', 'manhattan']}\n",
    "hparams['SVM'] = {'kernel': ['linear', 'poly', 'rbf', 'sigmoid'], 'gamma': np.arange(0.1, 10, .1).tolist()}\n",
    "hparams['LR'] = {'C': np.arange(1.0, 10.0, 0.5).tolist(), 'solver': ['newton-cg', 'lbfgs', 'liblinear', 'sag', 'saga']}"
   ]
  },
  {
   "cell_type": "markdown",
   "metadata": {},
   "source": [
    "For this initial test we will be comparing the performance of the ensemble of each classifier against the single classifier itself, and also against a bagged version of the classifier. As a measure of performance, we will be looking at the accuracy score and f1 score for the valdation set. For this initial test, n will be left at the default, 10, for both the stacked ensemble and the heterogeneous ensemble. For both the bagged classifier, and the base classifier the default parameters will be used. "
   ]
  },
  {
   "cell_type": "code",
   "execution_count": 40,
   "metadata": {},
   "outputs": [],
   "source": [
    "benchmark_1 = pd.DataFrame(columns=[m for m in hparams.keys()],\n",
    "                            index = ['Single', 'Bagged', 'Ensemble', 'Stacked Ensemble'])\n",
    "benchmark_2 = pd.DataFrame(columns=[m for m in hparams.keys()],\n",
    "                            index = ['Single', 'Bagged', 'Ensemble', 'Stacked Ensemble'])\n",
    "for m in models:\n",
    "    clfs = [copy(models[m]),BaggingClassifier(base_estimator=copy(models[m]), random_state=r),\n",
    "           HeterogenousEnsembleClassifier(base_estimator=copy(models[m]), hp_range_map=hparams[m],random_state=r),\n",
    "           StackedHeterogenousEnsembleClassifier(base_estimator=copy(models[m]), hp_range_map=hparams[m],random_state=r)]\n",
    "    pred = []\n",
    "    f1 = []\n",
    "    for c in clfs:\n",
    "        clf = c\n",
    "        y_preds = clf.fit(X_train, y_train).predict(X_valid)\n",
    "        pred.append(accuracy_score(y_valid, y_preds))\n",
    "        f1.append(f1_score(y_valid, y_preds, average='macro'))\n",
    "    benchmark_1[m] = pred\n",
    "    benchmark_2[m] = f1"
   ]
  },
  {
   "cell_type": "code",
   "execution_count": 41,
   "metadata": {},
   "outputs": [],
   "source": [
    "ranked_benchmark = benchmark_1.copy().rank(ascending=False)\n",
    "ranked_benchmark['average'] = ranked_benchmark.mean(axis=1).rank()\n"
   ]
  },
  {
   "cell_type": "code",
   "execution_count": 42,
   "metadata": {
    "scrolled": true
   },
   "outputs": [
    {
     "data": {
      "text/html": [
       "<div>\n",
       "<style scoped>\n",
       "    .dataframe tbody tr th:only-of-type {\n",
       "        vertical-align: middle;\n",
       "    }\n",
       "\n",
       "    .dataframe tbody tr th {\n",
       "        vertical-align: top;\n",
       "    }\n",
       "\n",
       "    .dataframe thead th {\n",
       "        text-align: right;\n",
       "    }\n",
       "</style>\n",
       "<table border=\"1\" class=\"dataframe\">\n",
       "  <thead>\n",
       "    <tr style=\"text-align: right;\">\n",
       "      <th></th>\n",
       "      <th>DTree</th>\n",
       "      <th>kNN</th>\n",
       "      <th>SVM</th>\n",
       "      <th>LR</th>\n",
       "      <th>average</th>\n",
       "    </tr>\n",
       "  </thead>\n",
       "  <tbody>\n",
       "    <tr>\n",
       "      <th>Single</th>\n",
       "      <td>3.0</td>\n",
       "      <td>2.0</td>\n",
       "      <td>4.0</td>\n",
       "      <td>3.0</td>\n",
       "      <td>4.0</td>\n",
       "    </tr>\n",
       "    <tr>\n",
       "      <th>Bagged</th>\n",
       "      <td>1.0</td>\n",
       "      <td>1.0</td>\n",
       "      <td>3.0</td>\n",
       "      <td>4.0</td>\n",
       "      <td>2.0</td>\n",
       "    </tr>\n",
       "    <tr>\n",
       "      <th>Ensemble</th>\n",
       "      <td>2.0</td>\n",
       "      <td>3.0</td>\n",
       "      <td>1.0</td>\n",
       "      <td>2.0</td>\n",
       "      <td>1.0</td>\n",
       "    </tr>\n",
       "    <tr>\n",
       "      <th>Stacked Ensemble</th>\n",
       "      <td>4.0</td>\n",
       "      <td>4.0</td>\n",
       "      <td>2.0</td>\n",
       "      <td>1.0</td>\n",
       "      <td>3.0</td>\n",
       "    </tr>\n",
       "  </tbody>\n",
       "</table>\n",
       "</div>"
      ],
      "text/plain": [
       "                  DTree  kNN  SVM   LR  average\n",
       "Single              3.0  2.0  4.0  3.0      4.0\n",
       "Bagged              1.0  1.0  3.0  4.0      2.0\n",
       "Ensemble            2.0  3.0  1.0  2.0      1.0\n",
       "Stacked Ensemble    4.0  4.0  2.0  1.0      3.0"
      ]
     },
     "execution_count": 42,
     "metadata": {},
     "output_type": "execute_result"
    }
   ],
   "source": [
    "ranked_benchmark"
   ]
  },
  {
   "cell_type": "markdown",
   "metadata": {},
   "source": [
    "The rankings between the classifiers have varied significantly given the base classifier. "
   ]
  },
  {
   "cell_type": "code",
   "execution_count": 43,
   "metadata": {},
   "outputs": [
    {
     "data": {
      "text/html": [
       "<div>\n",
       "<style scoped>\n",
       "    .dataframe tbody tr th:only-of-type {\n",
       "        vertical-align: middle;\n",
       "    }\n",
       "\n",
       "    .dataframe tbody tr th {\n",
       "        vertical-align: top;\n",
       "    }\n",
       "\n",
       "    .dataframe thead th {\n",
       "        text-align: right;\n",
       "    }\n",
       "</style>\n",
       "<table border=\"1\" class=\"dataframe\">\n",
       "  <thead>\n",
       "    <tr style=\"text-align: right;\">\n",
       "      <th></th>\n",
       "      <th>DTree</th>\n",
       "      <th>kNN</th>\n",
       "      <th>SVM</th>\n",
       "      <th>LR</th>\n",
       "    </tr>\n",
       "  </thead>\n",
       "  <tbody>\n",
       "    <tr>\n",
       "      <th>Single</th>\n",
       "      <td>0.956596</td>\n",
       "      <td>0.916610</td>\n",
       "      <td>0.932673</td>\n",
       "      <td>0.882433</td>\n",
       "    </tr>\n",
       "    <tr>\n",
       "      <th>Bagged</th>\n",
       "      <td>0.972317</td>\n",
       "      <td>0.925837</td>\n",
       "      <td>0.935748</td>\n",
       "      <td>0.879699</td>\n",
       "    </tr>\n",
       "    <tr>\n",
       "      <th>Ensemble</th>\n",
       "      <td>0.964457</td>\n",
       "      <td>0.907382</td>\n",
       "      <td>0.974026</td>\n",
       "      <td>0.896104</td>\n",
       "    </tr>\n",
       "    <tr>\n",
       "      <th>Stacked Ensemble</th>\n",
       "      <td>0.949077</td>\n",
       "      <td>0.895079</td>\n",
       "      <td>0.956938</td>\n",
       "      <td>0.897129</td>\n",
       "    </tr>\n",
       "  </tbody>\n",
       "</table>\n",
       "</div>"
      ],
      "text/plain": [
       "                     DTree       kNN       SVM        LR\n",
       "Single            0.956596  0.916610  0.932673  0.882433\n",
       "Bagged            0.972317  0.925837  0.935748  0.879699\n",
       "Ensemble          0.964457  0.907382  0.974026  0.896104\n",
       "Stacked Ensemble  0.949077  0.895079  0.956938  0.897129"
      ]
     },
     "execution_count": 43,
     "metadata": {},
     "output_type": "execute_result"
    }
   ],
   "source": [
    "benchmark_1"
   ]
  },
  {
   "cell_type": "code",
   "execution_count": 44,
   "metadata": {},
   "outputs": [
    {
     "data": {
      "text/html": [
       "<div>\n",
       "<style scoped>\n",
       "    .dataframe tbody tr th:only-of-type {\n",
       "        vertical-align: middle;\n",
       "    }\n",
       "\n",
       "    .dataframe tbody tr th {\n",
       "        vertical-align: top;\n",
       "    }\n",
       "\n",
       "    .dataframe thead th {\n",
       "        text-align: right;\n",
       "    }\n",
       "</style>\n",
       "<table border=\"1\" class=\"dataframe\">\n",
       "  <thead>\n",
       "    <tr style=\"text-align: right;\">\n",
       "      <th></th>\n",
       "      <th>DTree</th>\n",
       "      <th>kNN</th>\n",
       "      <th>SVM</th>\n",
       "      <th>LR</th>\n",
       "      <th>average</th>\n",
       "    </tr>\n",
       "  </thead>\n",
       "  <tbody>\n",
       "    <tr>\n",
       "      <th>Single</th>\n",
       "      <td>3.0</td>\n",
       "      <td>2.0</td>\n",
       "      <td>4.0</td>\n",
       "      <td>3.0</td>\n",
       "      <td>4.0</td>\n",
       "    </tr>\n",
       "    <tr>\n",
       "      <th>Bagged</th>\n",
       "      <td>1.0</td>\n",
       "      <td>1.0</td>\n",
       "      <td>3.0</td>\n",
       "      <td>4.0</td>\n",
       "      <td>2.0</td>\n",
       "    </tr>\n",
       "    <tr>\n",
       "      <th>Ensemble</th>\n",
       "      <td>2.0</td>\n",
       "      <td>3.0</td>\n",
       "      <td>1.0</td>\n",
       "      <td>2.0</td>\n",
       "      <td>1.0</td>\n",
       "    </tr>\n",
       "    <tr>\n",
       "      <th>Stacked Ensemble</th>\n",
       "      <td>4.0</td>\n",
       "      <td>4.0</td>\n",
       "      <td>2.0</td>\n",
       "      <td>1.0</td>\n",
       "      <td>3.0</td>\n",
       "    </tr>\n",
       "  </tbody>\n",
       "</table>\n",
       "</div>"
      ],
      "text/plain": [
       "                  DTree  kNN  SVM   LR  average\n",
       "Single              3.0  2.0  4.0  3.0      4.0\n",
       "Bagged              1.0  1.0  3.0  4.0      2.0\n",
       "Ensemble            2.0  3.0  1.0  2.0      1.0\n",
       "Stacked Ensemble    4.0  4.0  2.0  1.0      3.0"
      ]
     },
     "execution_count": 44,
     "metadata": {},
     "output_type": "execute_result"
    }
   ],
   "source": [
    "ranked_benchmark2 = benchmark_2.copy().rank(ascending=False)\n",
    "ranked_benchmark2['average'] = ranked_benchmark2.mean(axis=1).rank()\n",
    "ranked_benchmark2"
   ]
  },
  {
   "cell_type": "markdown",
   "metadata": {},
   "source": [
    "We can see here that the rankings for the F1 score of the models are identical to the accuracy rankings. Given that the data is relatively balanced, this makes sense, the models are behaving in a fairly unbiased mannor. "
   ]
  },
  {
   "cell_type": "code",
   "execution_count": 57,
   "metadata": {},
   "outputs": [],
   "source": [
    "def plot_subplot(fig, ax, title, res):\n",
    "    X = np.arange(1)\n",
    "    ax.grid(color='g', alpha = 0.2, linestyle='--', linewidth=1)\n",
    "    ax.bar(X + 0.00, res.iloc[0], color = 'darkblue', alpha=0.5, width = 0.05, label=\"Single\")\n",
    "    ax.bar(X + 0.10, res.iloc[1], color = 'teal', alpha=0.5, width = 0.05, label = \"Bagged\")\n",
    "    ax.bar(X + 0.20, res.iloc[2], color = 'lightblue', alpha=0.5, width = 0.05, label = \"Heterogeneous\")\n",
    "    ax.bar(X + 0.30, res.iloc[3], color = 'indigo', alpha=0.5, width = 0.05, label = \"Heterogeneous\")\n",
    "    ax.set_title(title)\n"
   ]
  },
  {
   "cell_type": "code",
   "execution_count": 58,
   "metadata": {},
   "outputs": [
    {
     "data": {
      "text/plain": [
       "Text(0.5, 0.98, 'Accuracy Scores')"
      ]
     },
     "execution_count": 58,
     "metadata": {},
     "output_type": "execute_result"
    },
    {
     "data": {
      "image/png": "[encoded data removed]",
      "text/plain": [
       "<Figure size 720x864 with 4 Axes>"
      ]
     },
     "metadata": {
      "needs_background": "light"
     },
     "output_type": "display_data"
    }
   ],
   "source": [
    "f, axs = plt.subplots(2, 2, figsize=(10,12), sharex=True)\n",
    "plot_subplot(f, axs[0,0], \"Decision Tree\", benchmark_1['DTree'])\n",
    "plot_subplot(f, axs[0,1], \"kNN\", benchmark_1['kNN'])\n",
    "plot_subplot(f, axs[1,0], \"SVM\", benchmark_1['SVM'])\n",
    "plot_subplot(f, axs[1,1], \"Logistic Regression\", benchmark_1['LR'])\n",
    "b = mpatches.Patch(color='darkblue', alpha=0.5, label='Single')\n",
    "y = mpatches.Patch(color='teal', alpha=0.5, label='Bagged')\n",
    "g = mpatches.Patch(color='lightblue', alpha=0.5, label='Heterogeneous')\n",
    "r = mpatches.Patch(color='indigo', alpha=0.5, label='Stacked Heterogeneous')\n",
    "plt.legend(handles=[b,y,g,r], bbox_to_anchor=(1.05, 1), loc='upper left')\n",
    "f.suptitle(\"Accuracy Scores\")"
   ]
  },
  {
   "cell_type": "markdown",
   "metadata": {},
   "source": [
    "- Globally the accuracy score is high, but the performance rankings are very changeable. Although the non-stacked heterogeneous ensemble is first overall in the average rankings, there is no obvious \"winner\". \n",
    "- For the decision tree, the stacked classifier has performed the worst, even worse than the single base classifier. The heterogeneous ensemble has come in second to the boosted classifier. \n",
    "- For kNN, the heterogeneous ensemble has perforformed the worst on this data, and the stacked hetereogeneous ensemble  and the stacked heterogeneous ensemble have performed poorly.\n",
    "- For SVM both the heterogeneous ensemble and the stacked heterogeneous ensemble have performed very well, with the stacked heterogeneous ensemble performing slightly worse than the standard heterogeneous ensemble. \n",
    "- And for Logistic Regression we see a similar result, the two heterogeneous ensembles have performed the best, with the stacked model slightly outperforming the non-stacked model.\n",
    "\n"
   ]
  },
  {
   "cell_type": "markdown",
   "metadata": {},
   "source": [
    "### Cross Validation"
   ]
  },
  {
   "cell_type": "markdown",
   "metadata": {},
   "source": [
    "Given that holdout testing is done with a single \"slice\" of the data, it hard to discern whether the previous results are reliable our not. I would like to look further at the two classifiers where the ensembles performed poorly (Decision tree and Knn). In order to check the stability of these results, I will cross validate, while also varying the random seed. I am leaving the hyper paramater range unchanged. Given that the dataset is relatively balanced, I will be using accuracy as the principal measure of performance going forward."
   ]
  },
  {
   "cell_type": "code",
   "execution_count": 45,
   "metadata": {},
   "outputs": [],
   "source": [
    "reps, folds = 5, 10\n",
    "folds = 10\n",
    "benchmark_3 = pd.DataFrame(index = ['Single', 'Bagged', 'Ensemble', 'Stacked Ensemble'],\n",
    "                           columns = ['Fold ' + str(i) for i in range(1,reps+1)])\n",
    "for i in range (0, reps):\n",
    "    kf = KFold(n_splits = folds, shuffle = True)\n",
    "    clfs = [DecisionTreeClassifier(random_state =i+i),\n",
    "            BaggingClassifier(base_estimator=copy(DecisionTreeClassifier(random_state = i+i)), random_state=i+i),\n",
    "            HeterogenousEnsembleClassifier(base_estimator=DecisionTreeClassifier(random_state =i+i), hp_range_map=hparams['DTree'],random_state=i+i, verbosity=0),\n",
    "            StackedHeterogenousEnsembleClassifier(base_estimator=DecisionTreeClassifier(random_state =i+i), hp_range_map=hparams['DTree'],random_state=i+i, verbosity=0)]\n",
    "    results = []\n",
    "    for c in clfs:\n",
    "        xval = cross_val_score(c, X_train, y_train, cv=kf, scoring='accuracy', error_score=\"raise\")\n",
    "        results.append(xval.mean())\n",
    "    benchmark_3['Fold '+str(i+1)] = results\n",
    "        \n"
   ]
  },
  {
   "cell_type": "code",
   "execution_count": 46,
   "metadata": {},
   "outputs": [
    {
     "data": {
      "text/html": [
       "<div>\n",
       "<style scoped>\n",
       "    .dataframe tbody tr th:only-of-type {\n",
       "        vertical-align: middle;\n",
       "    }\n",
       "\n",
       "    .dataframe tbody tr th {\n",
       "        vertical-align: top;\n",
       "    }\n",
       "\n",
       "    .dataframe thead th {\n",
       "        text-align: right;\n",
       "    }\n",
       "</style>\n",
       "<table border=\"1\" class=\"dataframe\">\n",
       "  <thead>\n",
       "    <tr style=\"text-align: right;\">\n",
       "      <th></th>\n",
       "      <th>Fold 1</th>\n",
       "      <th>Fold 2</th>\n",
       "      <th>Fold 3</th>\n",
       "      <th>Fold 4</th>\n",
       "      <th>Fold 5</th>\n",
       "    </tr>\n",
       "  </thead>\n",
       "  <tbody>\n",
       "    <tr>\n",
       "      <th>Single</th>\n",
       "      <td>0.956506</td>\n",
       "      <td>0.953639</td>\n",
       "      <td>0.957878</td>\n",
       "      <td>0.952544</td>\n",
       "      <td>0.959928</td>\n",
       "    </tr>\n",
       "    <tr>\n",
       "      <th>Bagged</th>\n",
       "      <td>0.972374</td>\n",
       "      <td>0.971417</td>\n",
       "      <td>0.974699</td>\n",
       "      <td>0.972236</td>\n",
       "      <td>0.975108</td>\n",
       "    </tr>\n",
       "    <tr>\n",
       "      <th>Ensemble</th>\n",
       "      <td>0.964715</td>\n",
       "      <td>0.963483</td>\n",
       "      <td>0.964170</td>\n",
       "      <td>0.963621</td>\n",
       "      <td>0.966493</td>\n",
       "    </tr>\n",
       "    <tr>\n",
       "      <th>Stacked Ensemble</th>\n",
       "      <td>0.942695</td>\n",
       "      <td>0.947348</td>\n",
       "      <td>0.944065</td>\n",
       "      <td>0.946388</td>\n",
       "      <td>0.940918</td>\n",
       "    </tr>\n",
       "  </tbody>\n",
       "</table>\n",
       "</div>"
      ],
      "text/plain": [
       "                    Fold 1    Fold 2    Fold 3    Fold 4    Fold 5\n",
       "Single            0.956506  0.953639  0.957878  0.952544  0.959928\n",
       "Bagged            0.972374  0.971417  0.974699  0.972236  0.975108\n",
       "Ensemble          0.964715  0.963483  0.964170  0.963621  0.966493\n",
       "Stacked Ensemble  0.942695  0.947348  0.944065  0.946388  0.940918"
      ]
     },
     "execution_count": 46,
     "metadata": {},
     "output_type": "execute_result"
    }
   ],
   "source": [
    "benchmark_3"
   ]
  },
  {
   "cell_type": "code",
   "execution_count": 47,
   "metadata": {},
   "outputs": [
    {
     "data": {
      "text/html": [
       "<div>\n",
       "<style scoped>\n",
       "    .dataframe tbody tr th:only-of-type {\n",
       "        vertical-align: middle;\n",
       "    }\n",
       "\n",
       "    .dataframe tbody tr th {\n",
       "        vertical-align: top;\n",
       "    }\n",
       "\n",
       "    .dataframe thead th {\n",
       "        text-align: right;\n",
       "    }\n",
       "</style>\n",
       "<table border=\"1\" class=\"dataframe\">\n",
       "  <thead>\n",
       "    <tr style=\"text-align: right;\">\n",
       "      <th></th>\n",
       "      <th>Fold 1</th>\n",
       "      <th>Fold 2</th>\n",
       "      <th>Fold 3</th>\n",
       "      <th>Fold 4</th>\n",
       "      <th>Fold 5</th>\n",
       "      <th>average</th>\n",
       "    </tr>\n",
       "  </thead>\n",
       "  <tbody>\n",
       "    <tr>\n",
       "      <th>Single</th>\n",
       "      <td>3.0</td>\n",
       "      <td>3.0</td>\n",
       "      <td>3.0</td>\n",
       "      <td>3.0</td>\n",
       "      <td>3.0</td>\n",
       "      <td>3.0</td>\n",
       "    </tr>\n",
       "    <tr>\n",
       "      <th>Bagged</th>\n",
       "      <td>1.0</td>\n",
       "      <td>1.0</td>\n",
       "      <td>1.0</td>\n",
       "      <td>1.0</td>\n",
       "      <td>1.0</td>\n",
       "      <td>1.0</td>\n",
       "    </tr>\n",
       "    <tr>\n",
       "      <th>Ensemble</th>\n",
       "      <td>2.0</td>\n",
       "      <td>2.0</td>\n",
       "      <td>2.0</td>\n",
       "      <td>2.0</td>\n",
       "      <td>2.0</td>\n",
       "      <td>2.0</td>\n",
       "    </tr>\n",
       "    <tr>\n",
       "      <th>Stacked Ensemble</th>\n",
       "      <td>4.0</td>\n",
       "      <td>4.0</td>\n",
       "      <td>4.0</td>\n",
       "      <td>4.0</td>\n",
       "      <td>4.0</td>\n",
       "      <td>4.0</td>\n",
       "    </tr>\n",
       "  </tbody>\n",
       "</table>\n",
       "</div>"
      ],
      "text/plain": [
       "                  Fold 1  Fold 2  Fold 3  Fold 4  Fold 5  average\n",
       "Single               3.0     3.0     3.0     3.0     3.0      3.0\n",
       "Bagged               1.0     1.0     1.0     1.0     1.0      1.0\n",
       "Ensemble             2.0     2.0     2.0     2.0     2.0      2.0\n",
       "Stacked Ensemble     4.0     4.0     4.0     4.0     4.0      4.0"
      ]
     },
     "execution_count": 47,
     "metadata": {},
     "output_type": "execute_result"
    }
   ],
   "source": [
    "ranked_benchmark3 = benchmark_3.copy().rank(ascending=False)\n",
    "ranked_benchmark3['average'] = ranked_benchmark3.mean(axis=1).rank()\n",
    "ranked_benchmark3"
   ]
  },
  {
   "cell_type": "markdown",
   "metadata": {},
   "source": [
    "The results here are extremely stable. For 5 repitions of 10 fold cross validation, with a different random state seed and shuffling of the data at each repition, the ranks have not varied. The stacked ensemble definitively does not perform well with a Decision Tree as a base classifier. This is very unusual, given that decision trees ususally respond well to ensembles. It is possible that the number of estimators is not sufficient, but given that the non-stacked heterogeneous ensemble is performing relatively well, that seems unlikely. It may be the combination of Decision Tree with SVM as the stack, that are not combining well together, or the data ratio. We will explore the effect of these hyperparameters later in testing."
   ]
  },
  {
   "cell_type": "code",
   "execution_count": 48,
   "metadata": {},
   "outputs": [],
   "source": [
    "reps, folds = 5, 10\n",
    "benchmark_4 = pd.DataFrame(index = ['Single', 'Bagged', 'Ensemble', 'Stacked Ensemble'],\n",
    "                           columns = ['Fold ' + str(i) for i in range(1,reps+1)])\n",
    "for i in range (0, reps):\n",
    "    kf = KFold(n_splits = folds, shuffle = True)\n",
    "    clfs = [ KNeighborsClassifier() ,\n",
    "            BaggingClassifier(base_estimator=KNeighborsClassifier(), random_state=i+i),\n",
    "            HeterogenousEnsembleClassifier(base_estimator= KNeighborsClassifier(), hp_range_map=hparams['kNN'],random_state=i+i, verbosity=0),\n",
    "            StackedHeterogenousEnsembleClassifier(base_estimator= KNeighborsClassifier() , hp_range_map=hparams['kNN'],random_state=i+i, verbosity=0)]\n",
    "    results = []\n",
    "    for c in clfs:\n",
    "        xval = cross_val_score(c, X_train, y_train, cv=kf, scoring='accuracy', error_score=\"raise\")\n",
    "        results.append(xval.mean())\n",
    "    benchmark_4['Fold '+str(i+1)] = results"
   ]
  },
  {
   "cell_type": "code",
   "execution_count": 49,
   "metadata": {},
   "outputs": [
    {
     "data": {
      "text/html": [
       "<div>\n",
       "<style scoped>\n",
       "    .dataframe tbody tr th:only-of-type {\n",
       "        vertical-align: middle;\n",
       "    }\n",
       "\n",
       "    .dataframe tbody tr th {\n",
       "        vertical-align: top;\n",
       "    }\n",
       "\n",
       "    .dataframe thead th {\n",
       "        text-align: right;\n",
       "    }\n",
       "</style>\n",
       "<table border=\"1\" class=\"dataframe\">\n",
       "  <thead>\n",
       "    <tr style=\"text-align: right;\">\n",
       "      <th></th>\n",
       "      <th>Fold 1</th>\n",
       "      <th>Fold 2</th>\n",
       "      <th>Fold 3</th>\n",
       "      <th>Fold 4</th>\n",
       "      <th>Fold 5</th>\n",
       "    </tr>\n",
       "  </thead>\n",
       "  <tbody>\n",
       "    <tr>\n",
       "      <th>Single</th>\n",
       "      <td>0.919448</td>\n",
       "      <td>0.919992</td>\n",
       "      <td>0.918899</td>\n",
       "      <td>0.918489</td>\n",
       "      <td>0.920542</td>\n",
       "    </tr>\n",
       "    <tr>\n",
       "      <th>Bagged</th>\n",
       "      <td>0.920677</td>\n",
       "      <td>0.919581</td>\n",
       "      <td>0.921498</td>\n",
       "      <td>0.924644</td>\n",
       "      <td>0.922318</td>\n",
       "    </tr>\n",
       "    <tr>\n",
       "      <th>Ensemble</th>\n",
       "      <td>0.879787</td>\n",
       "      <td>0.926285</td>\n",
       "      <td>0.879924</td>\n",
       "      <td>0.858585</td>\n",
       "      <td>0.911786</td>\n",
       "    </tr>\n",
       "    <tr>\n",
       "      <th>Stacked Ensemble</th>\n",
       "      <td>0.870759</td>\n",
       "      <td>0.910016</td>\n",
       "      <td>0.856540</td>\n",
       "      <td>0.895101</td>\n",
       "      <td>0.885804</td>\n",
       "    </tr>\n",
       "  </tbody>\n",
       "</table>\n",
       "</div>"
      ],
      "text/plain": [
       "                    Fold 1    Fold 2    Fold 3    Fold 4    Fold 5\n",
       "Single            0.919448  0.919992  0.918899  0.918489  0.920542\n",
       "Bagged            0.920677  0.919581  0.921498  0.924644  0.922318\n",
       "Ensemble          0.879787  0.926285  0.879924  0.858585  0.911786\n",
       "Stacked Ensemble  0.870759  0.910016  0.856540  0.895101  0.885804"
      ]
     },
     "execution_count": 49,
     "metadata": {},
     "output_type": "execute_result"
    }
   ],
   "source": [
    "benchmark_4"
   ]
  },
  {
   "cell_type": "code",
   "execution_count": 50,
   "metadata": {},
   "outputs": [
    {
     "data": {
      "text/html": [
       "<div>\n",
       "<style scoped>\n",
       "    .dataframe tbody tr th:only-of-type {\n",
       "        vertical-align: middle;\n",
       "    }\n",
       "\n",
       "    .dataframe tbody tr th {\n",
       "        vertical-align: top;\n",
       "    }\n",
       "\n",
       "    .dataframe thead th {\n",
       "        text-align: right;\n",
       "    }\n",
       "</style>\n",
       "<table border=\"1\" class=\"dataframe\">\n",
       "  <thead>\n",
       "    <tr style=\"text-align: right;\">\n",
       "      <th></th>\n",
       "      <th>Fold 1</th>\n",
       "      <th>Fold 2</th>\n",
       "      <th>Fold 3</th>\n",
       "      <th>Fold 4</th>\n",
       "      <th>Fold 5</th>\n",
       "      <th>average</th>\n",
       "    </tr>\n",
       "  </thead>\n",
       "  <tbody>\n",
       "    <tr>\n",
       "      <th>Single</th>\n",
       "      <td>2.0</td>\n",
       "      <td>2.0</td>\n",
       "      <td>2.0</td>\n",
       "      <td>2.0</td>\n",
       "      <td>2.0</td>\n",
       "      <td>2.0</td>\n",
       "    </tr>\n",
       "    <tr>\n",
       "      <th>Bagged</th>\n",
       "      <td>1.0</td>\n",
       "      <td>3.0</td>\n",
       "      <td>1.0</td>\n",
       "      <td>1.0</td>\n",
       "      <td>1.0</td>\n",
       "      <td>1.0</td>\n",
       "    </tr>\n",
       "    <tr>\n",
       "      <th>Ensemble</th>\n",
       "      <td>3.0</td>\n",
       "      <td>1.0</td>\n",
       "      <td>3.0</td>\n",
       "      <td>4.0</td>\n",
       "      <td>3.0</td>\n",
       "      <td>3.0</td>\n",
       "    </tr>\n",
       "    <tr>\n",
       "      <th>Stacked Ensemble</th>\n",
       "      <td>4.0</td>\n",
       "      <td>4.0</td>\n",
       "      <td>4.0</td>\n",
       "      <td>3.0</td>\n",
       "      <td>4.0</td>\n",
       "      <td>4.0</td>\n",
       "    </tr>\n",
       "  </tbody>\n",
       "</table>\n",
       "</div>"
      ],
      "text/plain": [
       "                  Fold 1  Fold 2  Fold 3  Fold 4  Fold 5  average\n",
       "Single               2.0     2.0     2.0     2.0     2.0      2.0\n",
       "Bagged               1.0     3.0     1.0     1.0     1.0      1.0\n",
       "Ensemble             3.0     1.0     3.0     4.0     3.0      3.0\n",
       "Stacked Ensemble     4.0     4.0     4.0     3.0     4.0      4.0"
      ]
     },
     "execution_count": 50,
     "metadata": {},
     "output_type": "execute_result"
    }
   ],
   "source": [
    "ranked_benchmark4 = benchmark_4.copy().rank(ascending=False)\n",
    "ranked_benchmark4['average'] = ranked_benchmark4.mean(axis=1).rank()\n",
    "ranked_benchmark4"
   ]
  },
  {
   "cell_type": "markdown",
   "metadata": {},
   "source": [
    "The heterogeneous ensembles are performing poorly fairly consistently with kNN as a base classifier. kNN often does not respond work well in ensembles asit is quite a stable classifier. I was hoping that the varying of the \"k\" number would produce enough diversity to see gains in performance, but this has not occured. The bagged classifier is clearly performing the best here."
   ]
  },
  {
   "cell_type": "markdown",
   "metadata": {},
   "source": [
    "*For the testing that follows, I will be using SVM as our base classifier, as both the stacked and non stacked ensemble performed well with this base classifier, as seen below. As SVM is much more computationally heavy to run, I have reduced the crossval folds to 5.*"
   ]
  },
  {
   "cell_type": "code",
   "execution_count": 51,
   "metadata": {},
   "outputs": [],
   "source": [
    "reps, folds = 5, 5\n",
    "benchmark_5 = pd.DataFrame(index = ['Single', 'Bagged', 'Ensemble', 'Stacked Ensemble'],\n",
    "                           columns = ['Fold ' + str(i) for i in range(1,reps+1)])\n",
    "for i in range (0, reps):\n",
    "    kf = KFold(n_splits = folds, shuffle = True)\n",
    "    clfs = [svm.SVC(random_state=i+i) ,\n",
    "            BaggingClassifier(base_estimator=svm.SVC(random_state=i+i), random_state=i+i),\n",
    "            HeterogenousEnsembleClassifier(base_estimator= svm.SVC(random_state=i+i), hp_range_map=hparams['SVM'],random_state=i+i, verbosity=0),\n",
    "            StackedHeterogenousEnsembleClassifier(base_estimator= svm.SVC(random_state=i+i) , hp_range_map=hparams['SVM'],random_state=i+i, verbosity=0)]\n",
    "    results = []\n",
    "    for c in clfs:\n",
    "        xval = cross_val_score(c, X_train, y_train, cv=kf, scoring='accuracy', error_score=\"raise\")\n",
    "        results.append(xval.mean())\n",
    "    benchmark_5['Fold '+str(i+1)] = results"
   ]
  },
  {
   "cell_type": "code",
   "execution_count": 52,
   "metadata": {},
   "outputs": [
    {
     "data": {
      "text/html": [
       "<div>\n",
       "<style scoped>\n",
       "    .dataframe tbody tr th:only-of-type {\n",
       "        vertical-align: middle;\n",
       "    }\n",
       "\n",
       "    .dataframe tbody tr th {\n",
       "        vertical-align: top;\n",
       "    }\n",
       "\n",
       "    .dataframe thead th {\n",
       "        text-align: right;\n",
       "    }\n",
       "</style>\n",
       "<table border=\"1\" class=\"dataframe\">\n",
       "  <thead>\n",
       "    <tr style=\"text-align: right;\">\n",
       "      <th></th>\n",
       "      <th>Fold 1</th>\n",
       "      <th>Fold 2</th>\n",
       "      <th>Fold 3</th>\n",
       "      <th>Fold 4</th>\n",
       "      <th>Fold 5</th>\n",
       "    </tr>\n",
       "  </thead>\n",
       "  <tbody>\n",
       "    <tr>\n",
       "      <th>Single</th>\n",
       "      <td>0.925191</td>\n",
       "      <td>0.925054</td>\n",
       "      <td>0.923959</td>\n",
       "      <td>0.921362</td>\n",
       "      <td>0.923962</td>\n",
       "    </tr>\n",
       "    <tr>\n",
       "      <th>Bagged</th>\n",
       "      <td>0.924507</td>\n",
       "      <td>0.920406</td>\n",
       "      <td>0.920814</td>\n",
       "      <td>0.921227</td>\n",
       "      <td>0.922731</td>\n",
       "    </tr>\n",
       "    <tr>\n",
       "      <th>Ensemble</th>\n",
       "      <td>0.977844</td>\n",
       "      <td>0.944612</td>\n",
       "      <td>0.972237</td>\n",
       "      <td>0.796202</td>\n",
       "      <td>0.948438</td>\n",
       "    </tr>\n",
       "    <tr>\n",
       "      <th>Stacked Ensemble</th>\n",
       "      <td>0.961160</td>\n",
       "      <td>0.960887</td>\n",
       "      <td>0.963212</td>\n",
       "      <td>0.949262</td>\n",
       "      <td>0.946663</td>\n",
       "    </tr>\n",
       "  </tbody>\n",
       "</table>\n",
       "</div>"
      ],
      "text/plain": [
       "                    Fold 1    Fold 2    Fold 3    Fold 4    Fold 5\n",
       "Single            0.925191  0.925054  0.923959  0.921362  0.923962\n",
       "Bagged            0.924507  0.920406  0.920814  0.921227  0.922731\n",
       "Ensemble          0.977844  0.944612  0.972237  0.796202  0.948438\n",
       "Stacked Ensemble  0.961160  0.960887  0.963212  0.949262  0.946663"
      ]
     },
     "execution_count": 52,
     "metadata": {},
     "output_type": "execute_result"
    }
   ],
   "source": [
    "benchmark_5"
   ]
  },
  {
   "cell_type": "code",
   "execution_count": 53,
   "metadata": {},
   "outputs": [
    {
     "data": {
      "text/html": [
       "<div>\n",
       "<style scoped>\n",
       "    .dataframe tbody tr th:only-of-type {\n",
       "        vertical-align: middle;\n",
       "    }\n",
       "\n",
       "    .dataframe tbody tr th {\n",
       "        vertical-align: top;\n",
       "    }\n",
       "\n",
       "    .dataframe thead th {\n",
       "        text-align: right;\n",
       "    }\n",
       "</style>\n",
       "<table border=\"1\" class=\"dataframe\">\n",
       "  <thead>\n",
       "    <tr style=\"text-align: right;\">\n",
       "      <th></th>\n",
       "      <th>Fold 1</th>\n",
       "      <th>Fold 2</th>\n",
       "      <th>Fold 3</th>\n",
       "      <th>Fold 4</th>\n",
       "      <th>Fold 5</th>\n",
       "      <th>average</th>\n",
       "    </tr>\n",
       "  </thead>\n",
       "  <tbody>\n",
       "    <tr>\n",
       "      <th>Single</th>\n",
       "      <td>3.0</td>\n",
       "      <td>3.0</td>\n",
       "      <td>3.0</td>\n",
       "      <td>2.0</td>\n",
       "      <td>3.0</td>\n",
       "      <td>3.0</td>\n",
       "    </tr>\n",
       "    <tr>\n",
       "      <th>Bagged</th>\n",
       "      <td>4.0</td>\n",
       "      <td>4.0</td>\n",
       "      <td>4.0</td>\n",
       "      <td>3.0</td>\n",
       "      <td>4.0</td>\n",
       "      <td>4.0</td>\n",
       "    </tr>\n",
       "    <tr>\n",
       "      <th>Ensemble</th>\n",
       "      <td>1.0</td>\n",
       "      <td>2.0</td>\n",
       "      <td>1.0</td>\n",
       "      <td>4.0</td>\n",
       "      <td>1.0</td>\n",
       "      <td>2.0</td>\n",
       "    </tr>\n",
       "    <tr>\n",
       "      <th>Stacked Ensemble</th>\n",
       "      <td>2.0</td>\n",
       "      <td>1.0</td>\n",
       "      <td>2.0</td>\n",
       "      <td>1.0</td>\n",
       "      <td>2.0</td>\n",
       "      <td>1.0</td>\n",
       "    </tr>\n",
       "  </tbody>\n",
       "</table>\n",
       "</div>"
      ],
      "text/plain": [
       "                  Fold 1  Fold 2  Fold 3  Fold 4  Fold 5  average\n",
       "Single               3.0     3.0     3.0     2.0     3.0      3.0\n",
       "Bagged               4.0     4.0     4.0     3.0     4.0      4.0\n",
       "Ensemble             1.0     2.0     1.0     4.0     1.0      2.0\n",
       "Stacked Ensemble     2.0     1.0     2.0     1.0     2.0      1.0"
      ]
     },
     "execution_count": 53,
     "metadata": {},
     "output_type": "execute_result"
    }
   ],
   "source": [
    "ranked_benchmark5 = benchmark_5.copy().rank(ascending=False)\n",
    "ranked_benchmark5['average'] = ranked_benchmark5.mean(axis=1).rank()\n",
    "ranked_benchmark5"
   ]
  },
  {
   "cell_type": "markdown",
   "metadata": {},
   "source": [
    "Here we can see that although the stacked ensemble has the best overall ranking, first and second place in the rankings tends to alternate between the stacked and non-stacked heterogeneous classifier. Overall, in terms of accuracy, both heterogeneous ensemble implementations are performing well with SVM."
   ]
  },
  {
   "cell_type": "markdown",
   "metadata": {},
   "source": [
    "### Testing effect of \"N\" for n-classifiers"
   ]
  },
  {
   "cell_type": "markdown",
   "metadata": {},
   "source": [
    "Next I would like to consider the effect of n-classifier number on accuracy. Here we will again use a holdout set instead of cross validation, and see how the classifier performs both in terms of accuracy and F1 score. As a base line we will compare it in accuracy to the performance of a a single base classifer, and a bootstrapped classifier. The random state will not be varied, but will be uniform for all classifiers . "
   ]
  },
  {
   "cell_type": "code",
   "execution_count": 55,
   "metadata": {},
   "outputs": [
    {
     "name": "stdout",
     "output_type": "stream",
     "text": [
      "Predicting for n =  5\n",
      "Predicting for n =  10\n",
      "Predicting for n =  20\n",
      "Predicting for n =  30\n",
      "Predicting for n =  50\n",
      "Predicting for n =  100\n"
     ]
    }
   ],
   "source": [
    "clf = svm.SVC(random_state=r).fit(X_train, y_train)\n",
    "clf2 = BaggingClassifier(base_estimator=clf, random_state=r).fit(X_train, y_train)\n",
    "y_pred = clf.predict(X_valid)\n",
    "sv_base_acc = accuracy_score(y_pred, y_valid)\n",
    "sv_base_f1 = f1_score(y_pred, y_valid, average='macro')\n",
    "y_pred = clf2.predict(X_valid)\n",
    "sv_boost_acc = accuracy_score(y_pred, y_valid)\n",
    "sv_boost_f1 = f1_score(y_pred, y_valid, average='macro')\n",
    "\n",
    "sv_acc, sv_f1, sv_stack_acc, sv_stack_f1 = [], [], [], []\n",
    "n_range = [5, 10, 20, 30, 50, 100]\n",
    "for n in n_range:\n",
    "    print('Predicting for n = ', n)\n",
    "    clf3 = HeterogenousEnsembleClassifier(clf, hp_range_map=hparams['SVM'], n_estimators=n, random_state=r)\n",
    "    clf3.fit(X_train, y_train)\n",
    "    y_pred = clf3.predict(X_valid)\n",
    "    sv_acc.append(accuracy_score(y_pred, y_valid))\n",
    "    sv_f1.append(f1_score(y_pred, y_valid, average='macro'))\n",
    "    clf4 = StackedHeterogenousEnsembleClassifier(base_estimator=clf, hp_range_map=hparams['SVM'], n_estimators=n, random_state=r)\n",
    "    clf4.fit(X_train, y_train)\n",
    "    y_pred = clf4.predict(X_valid)\n",
    "    sv_stack_acc.append(accuracy_score(y_pred, y_valid))\n",
    "    sv_stack_f1.append(f1_score(y_pred, y_valid, average='macro'))\n",
    "\n",
    "\n"
   ]
  },
  {
   "cell_type": "code",
   "execution_count": 56,
   "metadata": {},
   "outputs": [
    {
     "data": {
      "text/plain": [
       "Text(0.5, 1.0, 'F1 Scores')"
      ]
     },
     "execution_count": 56,
     "metadata": {},
     "output_type": "execute_result"
    },
    {
     "data": {
      "image/png": "[encoded data removed]",
      "text/plain": [
       "<Figure size 864x864 with 2 Axes>"
      ]
     },
     "metadata": {
      "needs_background": "light"
     },
     "output_type": "display_data"
    }
   ],
   "source": [
    "f, (ax1, ax2) = plt.subplots(2, 1, figsize=(12,12))\n",
    "x = list(range(0,len(n_range)))\n",
    "ax1.axhline(y=sv_base_acc, color='red', label='Base Estimator')\n",
    "ax1.axhline(y=sv_boost_acc, color='orange', label='Bagged Estimator')\n",
    "ax1.plot(x, sv_stack_acc, label=\"StackedHeterogeneousEnsemble\", color=\"blue\")\n",
    "ax1.plot(x, sv_acc, label=\"HeterogeneousEnsemble\", color=\"green\")\n",
    "ax1.legend(loc='upper left')\n",
    "ax1.set_ylabel(\"Accuracy\")\n",
    "ax1.set_title(\"Accuracy Scores\")\n",
    "ax1.set_xticklabels([0] + n_range)\n",
    "ax1.set_xlabel(\"N estimators\")\n",
    "\n",
    "ax2.axhline(y=sv_base_f1, color='red', label='Base Estimator')\n",
    "ax2.axhline(y=sv_boost_f1, color='orange', label='Bagged Estimator')\n",
    "ax2.plot(x, sv_stack_f1, label=\"StackedHeterogeneousEnsemble\", color=\"blue\")\n",
    "ax2.plot(x, sv_f1, label=\"HeterogeneousEnsemble\", color=\"green\")\n",
    "ax2.legend(loc='upper left')\n",
    "ax2.set_ylabel(\"F1 Score\")\n",
    "ax2.set_xlabel(\"n_estimators\")\n",
    "ax2.set_xticklabels([0] + n_range)\n",
    "\n",
    "f.set_xticklabels = n_range\n",
    "ax2.set_title(\"F1 Scores\")"
   ]
  },
  {
   "cell_type": "markdown",
   "metadata": {},
   "source": [
    "Interestingly, the rates of growth for the heterogeneous and stacked heterogeneous ensemble are quite different. We can see that the stacked heterogeneous ensemble is rarely even close to the accuracy of the non-stacked model. There is a point also (around n=50) where the accuracy of the stacked model starts to decrease, while the non-stacked model continues to increase. "
   ]
  },
  {
   "cell_type": "markdown",
   "metadata": {},
   "source": [
    "### Testing Varying Base Classifiers for Stack Layer"
   ]
  },
  {
   "cell_type": "markdown",
   "metadata": {},
   "source": [
    "I am curious if this drop off in accuracy will be visible no matter the base classifier for the stacked model. I decided to next investigate performance of differing base estimators for the stack. For a baseline, I will compare performance against the non-heterogeneous classifier. N will be set to 30, as that is where accuracy started to diverge in the previous experiment."
   ]
  },
  {
   "cell_type": "code",
   "execution_count": 61,
   "metadata": {},
   "outputs": [
    {
     "name": "stdout",
     "output_type": "stream",
     "text": [
      "Now predicting  DTree\n",
      "Now predicting  kNN\n",
      "Now predicting  SVM\n",
      "Now predicting  LR\n"
     ]
    }
   ],
   "source": [
    "r=1\n",
    "clf = HeterogenousEnsembleClassifier(svm.SVC(random_state=r), hp_range_map=hparams['SVM'], n_estimators=30, random_state=r)\n",
    "clf.fit(X_train, y_train)\n",
    "y_pred = clf.predict(X_valid)\n",
    "base_acc_30 = accuracy_score(y_pred, y_valid)\n",
    "clf = HeterogenousEnsembleClassifier(svm.SVC(random_state=r), hp_range_map=hparams['SVM'], n_estimators=10, random_state=r)\n",
    "clf.fit(X_train, y_train)\n",
    "y_pred = clf.predict(X_valid)\n",
    "base_acc_10 = accuracy_score(y_pred, y_valid)\n",
    "acc, acc2 = [], []\n",
    "for m in models:\n",
    "    print(\"Now predicting \", m)\n",
    "    clf = StackedHeterogenousEnsembleClassifier(base_estimator=svm.SVC(random_state=r), hp_range_map=hparams['SVM'], n_estimators=30, random_state=r, stack_layer_estimator=copy(models[m]))\n",
    "    clf.fit(X_train, y_train)\n",
    "    y_pred = clf.predict(X_valid)\n",
    "    acc.append(accuracy_score(y_pred, y_valid))\n",
    "    clf = StackedHeterogenousEnsembleClassifier(base_estimator=svm.SVC(random_state=r), hp_range_map=hparams['SVM'], n_estimators=10, random_state=r, stack_layer_estimator=copy(models[m]))\n",
    "    clf.fit(X_train, y_train)\n",
    "    y_pred = clf.predict(X_valid)\n",
    "    acc2.append(accuracy_score(y_pred, y_valid))\n",
    "\n"
   ]
  },
  {
   "cell_type": "code",
   "execution_count": 62,
   "metadata": {},
   "outputs": [
    {
     "data": {
      "text/plain": [
       "Text(0.5, 0.98, 'Accuracy of Varying Classifiers for Stack')"
      ]
     },
     "execution_count": 62,
     "metadata": {},
     "output_type": "execute_result"
    },
    {
     "data": {
      "image/png": "[encoded data removed]",
      "text/plain": [
       "<Figure size 864x864 with 2 Axes>"
      ]
     },
     "metadata": {
      "needs_background": "light"
     },
     "output_type": "display_data"
    }
   ],
   "source": [
    "f, (ax1, ax2) = plt.subplots(1, 2, figsize=(12,12), sharey=True)\n",
    "x = list(range(0,len(models)))\n",
    "ax1.plot(x, acc, label=\"StackedHeterogeneousEnsemble\", color=\"orange\")\n",
    "ax1.axhline(y=base_acc_30, color='red', label='HeterogeneousEnsemble')\n",
    "ax1.legend(loc='lower right')\n",
    "ax1.set_title(\"N=30\")\n",
    "ax1.set_xticks(list(range(0, len(models))))\n",
    "ax1.set_xticklabels([m for m in models])\n",
    "ax1.set_xlabel(\"Accuracy\")\n",
    "ax1.set_ylabel(\"Stack estimator\")\n",
    "\n",
    "ax2.plot(x, acc2, label=\"StackedHeterogeneousEnsemble\", color=\"orange\")\n",
    "ax2.axhline(y=base_acc_10, color='red', label='HeterogeneousEnsemble')\n",
    "ax2.legend(loc='lower right')\n",
    "ax2.set_title(\"N=10\")\n",
    "ax2.set_xticks(list(range(0, len(models))))\n",
    "ax2.set_xticklabels([m for m in models])\n",
    "ax2.set_xlabel(\"Accuracy\")\n",
    "ax2.set_ylabel(\"Stack estimator\")\n",
    "\n",
    "f.suptitle(\"Accuracy of Varying Classifiers for Stack\")"
   ]
  },
  {
   "cell_type": "markdown",
   "metadata": {},
   "source": [
    "We can see that performance does vary quite a bit depending on the base classifier, and that in generaly the stacked ensemble performs best with n=10, although here it is not nearly meeting the performance of the heterogeneous ensemble."
   ]
  },
  {
   "cell_type": "markdown",
   "metadata": {},
   "source": [
    "### Testing the data ratio"
   ]
  },
  {
   "cell_type": "markdown",
   "metadata": {},
   "source": [
    "I am curious to see if varying the data ratio to the stack will effect performance. We will test a range of values, while keeping n=10."
   ]
  },
  {
   "cell_type": "code",
   "execution_count": 63,
   "metadata": {},
   "outputs": [],
   "source": [
    "acc = []\n",
    "ratio = [0.1,0.2,0.3,0.4,0.5,0.6,0.7,0.8,0.9]\n",
    "for r in ratio:\n",
    "    clf = StackedHeterogenousEnsembleClassifier(base_estimator=svm.SVC(random_state=1), \n",
    "                                                hp_range_map=hparams['SVM'], n_estimators=10, \n",
    "                                                random_state=0, stack_layer_estimator=copy(models['LR']), \n",
    "                                                base_stack_data_ratio = r)\n",
    "\n",
    "    clf.fit(X_train, y_train)\n",
    "    y_pred = clf.predict(X_valid)\n",
    "    acc.append(accuracy_score(y_pred, y_valid))\n",
    "\n",
    "\n"
   ]
  },
  {
   "cell_type": "code",
   "execution_count": 64,
   "metadata": {},
   "outputs": [
    {
     "data": {
      "text/plain": [
       "Text(0, 0.5, 'base_stack_data_ratio')"
      ]
     },
     "execution_count": 64,
     "metadata": {},
     "output_type": "execute_result"
    },
    {
     "data": {
      "image/png": "[encoded data removed]",
      "text/plain": [
       "<Figure size 720x360 with 1 Axes>"
      ]
     },
     "metadata": {
      "needs_background": "light"
     },
     "output_type": "display_data"
    }
   ],
   "source": [
    "f, ax1 = plt.subplots(1, 1, figsize=(10,5), sharex=True)\n",
    "x = list(range(0,len(ratio)))\n",
    "ax1.plot(x, acc, label=\"StackedHeterogeneousEnsemble\", color=\"orange\")\n",
    "ax1.legend(loc='lower right')\n",
    "ax1.set_title(\"Accuracy for varying base stack data ratio\")\n",
    "ax1.set_xticks(list(range(0, len(ratio))))\n",
    "ax1.set_xticklabels(ratio)\n",
    "ax1.set_xlabel(\"Accuracy\")\n",
    "ax1.set_ylabel(\"base_stack_data_ratio\")"
   ]
  },
  {
   "cell_type": "markdown",
   "metadata": {},
   "source": [
    "There are two peaks here, for ratio = 0.6, and ratio = 0.9. One imagines that a ratio of 0.9 would surely lead to underfitting of the stack estimator, I will cross validate to see if this holds."
   ]
  },
  {
   "cell_type": "code",
   "execution_count": 89,
   "metadata": {},
   "outputs": [],
   "source": [
    "reps, folds = 5, 5\n",
    "acc1,acc2 = [], []\n",
    "for i in range (0, reps):\n",
    "    kf = KFold(n_splits = folds, shuffle = True)\n",
    "    clf1 = StackedHeterogenousEnsembleClassifier(base_estimator=svm.SVC(random_state=42), \n",
    "                                                hp_range_map=hparams['SVM'], n_estimators=10, \n",
    "                                                random_state=0, stack_layer_estimator=copy(models['LR']), \n",
    "                                                base_stack_data_ratio = .6)\n",
    "    clf2 = StackedHeterogenousEnsembleClassifier(base_estimator=svm.SVC(random_state=42), \n",
    "                                                hp_range_map=hparams['SVM'], n_estimators=10, \n",
    "                                                random_state=0, stack_layer_estimator=copy(models['LR']), \n",
    "                                                base_stack_data_ratio = .9)\n",
    "    acc1.append(cross_val_score(clf1, X_train, y_train, cv=kf, scoring='accuracy', error_score=\"raise\").mean())\n",
    "    acc2.append(cross_val_score(clf2, X_train, y_train, cv=kf, scoring='accuracy', error_score=\"raise\").mean())\n"
   ]
  },
  {
   "cell_type": "code",
   "execution_count": 91,
   "metadata": {
    "scrolled": true
   },
   "outputs": [
    {
     "data": {
      "text/plain": [
       "Text(0, 0.5, 'Folds')"
      ]
     },
     "execution_count": 91,
     "metadata": {},
     "output_type": "execute_result"
    },
    {
     "data": {
      "image/png": "[encoded data removed]",
      "text/plain": [
       "<Figure size 720x360 with 1 Axes>"
      ]
     },
     "metadata": {
      "needs_background": "light"
     },
     "output_type": "display_data"
    }
   ],
   "source": [
    "f, ax1 = plt.subplots(1, 1, figsize=(10,5), sharex=True)\n",
    "x = list(range(1,folds+1))\n",
    "ax1.plot(x, acc1, label=\"ratio=0.6\", color=\"orange\")\n",
    "ax1.plot(x, acc2, label=\"ratio=0.9\", color=\"blue\")\n",
    "ax1.legend(loc='lower right')\n",
    "ax1.set_title(\"Cross validated accuracy for ratio = .6 and .9\")\n",
    "ax1.set_xticks(list(range(1, folds+1)))\n",
    "ax1.set_xlabel(\"Accuracy\")\n",
    "ax1.set_ylabel(\"Folds\")"
   ]
  },
  {
   "cell_type": "markdown",
   "metadata": {},
   "source": [
    "We can see the accuracy is quite changeable accross the folds. It is hard to discern which would be a better ratio, although .9 has the highest peak."
   ]
  },
  {
   "cell_type": "markdown",
   "metadata": {},
   "source": [
    "### Test Data"
   ]
  },
  {
   "cell_type": "markdown",
   "metadata": {},
   "source": [
    "Given the knowledge garnered from the previous tests, I will now check performance on the test set. \n",
    "- For both the heterogeneous ensemble and the stacked ensemble I will use SVM as a base classifier.\n",
    "- As accuracy seemed to increase as n increased for the heterogeneous ensemble, whereas it seemed to stagnate after n=20 for the stacked ensemble, I will set n=100 and n=20 respectively.\n",
    "- For the stacked ensemble, I will set the data ratio to 0.9 and use SVM as the estimator for the stacked layer."
   ]
  },
  {
   "cell_type": "code",
   "execution_count": 82,
   "metadata": {},
   "outputs": [],
   "source": [
    "clf1 = StackedHeterogenousEnsembleClassifier(base_estimator=svm.SVC(random_state=1), \n",
    "                                                hp_range_map=hparams['SVM'], n_estimators=10, \n",
    "                                                random_state=1, stack_layer_estimator=copy(models['SVM']), \n",
    "                                                base_stack_data_ratio = .7)\n",
    "clf2 = HeterogenousEnsembleClassifier(base_estimator=svm.SVC(random_state=1), \n",
    "                                                hp_range_map=hparams['SVM'], n_estimators=30, \n",
    "                                                random_state=3)\n",
    "clf3 = svm.SVC(random_state=i+i)\n",
    "clf4 = BaggingClassifier(base_estimator=svm.SVC(random_state=i+i), random_state=i+i)\n",
    "clfs = [clf1,clf2,clf3,clf4]"
   ]
  },
  {
   "cell_type": "code",
   "execution_count": 83,
   "metadata": {},
   "outputs": [],
   "source": [
    "benchmark_6 = pd.DataFrame(index = ['Stacked Ensemble','Ensemble','Single', 'Bagged'],\n",
    "                          columns = ['Accuracy', 'F1'])\n",
    "acc, f1, pred = [], [], []\n",
    "for i, clf in enumerate(clfs):\n",
    "    c.fit(X_train, y_train)\n",
    "    pred.append(c.predict(X_test))\n",
    "    acc.append(accuracy_score(pred[i], y_test))                      \n",
    "    f1.append(f1_score(pred[i], y_test, average='macro'))\n",
    "   "
   ]
  },
  {
   "cell_type": "code",
   "execution_count": 84,
   "metadata": {},
   "outputs": [],
   "source": [
    "benchmark_6['Accuracy'] = acc\n",
    "benchmark_6['F1'] = f1"
   ]
  },
  {
   "cell_type": "code",
   "execution_count": 85,
   "metadata": {},
   "outputs": [
    {
     "data": {
      "text/html": [
       "<div>\n",
       "<style scoped>\n",
       "    .dataframe tbody tr th:only-of-type {\n",
       "        vertical-align: middle;\n",
       "    }\n",
       "\n",
       "    .dataframe tbody tr th {\n",
       "        vertical-align: top;\n",
       "    }\n",
       "\n",
       "    .dataframe thead th {\n",
       "        text-align: right;\n",
       "    }\n",
       "</style>\n",
       "<table border=\"1\" class=\"dataframe\">\n",
       "  <thead>\n",
       "    <tr style=\"text-align: right;\">\n",
       "      <th></th>\n",
       "      <th>Accuracy</th>\n",
       "      <th>F1</th>\n",
       "    </tr>\n",
       "  </thead>\n",
       "  <tbody>\n",
       "    <tr>\n",
       "      <th>Stacked Ensemble</th>\n",
       "      <td>0.953292</td>\n",
       "      <td>0.953067</td>\n",
       "    </tr>\n",
       "    <tr>\n",
       "      <th>Ensemble</th>\n",
       "      <td>0.956482</td>\n",
       "      <td>0.956278</td>\n",
       "    </tr>\n",
       "    <tr>\n",
       "      <th>Single</th>\n",
       "      <td>0.953976</td>\n",
       "      <td>0.953971</td>\n",
       "    </tr>\n",
       "    <tr>\n",
       "      <th>Bagged</th>\n",
       "      <td>0.956710</td>\n",
       "      <td>0.956580</td>\n",
       "    </tr>\n",
       "  </tbody>\n",
       "</table>\n",
       "</div>"
      ],
      "text/plain": [
       "                  Accuracy        F1\n",
       "Stacked Ensemble  0.953292  0.953067\n",
       "Ensemble          0.956482  0.956278\n",
       "Single            0.953976  0.953971\n",
       "Bagged            0.956710  0.956580"
      ]
     },
     "execution_count": 85,
     "metadata": {},
     "output_type": "execute_result"
    }
   ],
   "source": [
    "benchmark_6"
   ]
  },
  {
   "cell_type": "code",
   "execution_count": 86,
   "metadata": {},
   "outputs": [
    {
     "data": {
      "text/html": [
       "<div>\n",
       "<style scoped>\n",
       "    .dataframe tbody tr th:only-of-type {\n",
       "        vertical-align: middle;\n",
       "    }\n",
       "\n",
       "    .dataframe tbody tr th {\n",
       "        vertical-align: top;\n",
       "    }\n",
       "\n",
       "    .dataframe thead th {\n",
       "        text-align: right;\n",
       "    }\n",
       "</style>\n",
       "<table border=\"1\" class=\"dataframe\">\n",
       "  <thead>\n",
       "    <tr style=\"text-align: right;\">\n",
       "      <th></th>\n",
       "      <th>Accuracy</th>\n",
       "      <th>F1</th>\n",
       "    </tr>\n",
       "  </thead>\n",
       "  <tbody>\n",
       "    <tr>\n",
       "      <th>Stacked Ensemble</th>\n",
       "      <td>4.0</td>\n",
       "      <td>4.0</td>\n",
       "    </tr>\n",
       "    <tr>\n",
       "      <th>Ensemble</th>\n",
       "      <td>2.0</td>\n",
       "      <td>2.0</td>\n",
       "    </tr>\n",
       "    <tr>\n",
       "      <th>Single</th>\n",
       "      <td>3.0</td>\n",
       "      <td>3.0</td>\n",
       "    </tr>\n",
       "    <tr>\n",
       "      <th>Bagged</th>\n",
       "      <td>1.0</td>\n",
       "      <td>1.0</td>\n",
       "    </tr>\n",
       "  </tbody>\n",
       "</table>\n",
       "</div>"
      ],
      "text/plain": [
       "                  Accuracy   F1\n",
       "Stacked Ensemble       4.0  4.0\n",
       "Ensemble               2.0  2.0\n",
       "Single                 3.0  3.0\n",
       "Bagged                 1.0  1.0"
      ]
     },
     "execution_count": 86,
     "metadata": {},
     "output_type": "execute_result"
    }
   ],
   "source": [
    "benchmark_6.rank(ascending=False)"
   ]
  },
  {
   "cell_type": "code",
   "execution_count": 87,
   "metadata": {},
   "outputs": [
    {
     "name": "stdout",
     "output_type": "stream",
     "text": [
      "Heterogeneous Ensemble on Test Data \n",
      "-----------------------\n",
      "\n",
      "              precision    recall  f1-score   support\n",
      "\n",
      "           1       0.95      0.98      0.97       425\n",
      "           2       0.84      0.95      0.89       411\n",
      "           3       0.97      1.00      0.98       393\n",
      "           4       0.99      0.99      0.99       406\n",
      "           5       0.96      0.94      0.95       393\n",
      "           6       0.95      0.92      0.94       380\n",
      "           7       1.00      1.00      1.00       395\n",
      "           8       0.97      0.96      0.97       390\n",
      "           9       0.99      0.95      0.97       401\n",
      "          10       0.92      0.81      0.87       394\n",
      "          11       1.00      1.00      1.00       401\n",
      "\n",
      "    accuracy                           0.96      4389\n",
      "   macro avg       0.96      0.96      0.96      4389\n",
      "weighted avg       0.96      0.96      0.96      4389\n",
      "\n"
     ]
    }
   ],
   "source": [
    "print(\"Heterogeneous Ensemble on Test Data \\n-----------------------\\n\")\n",
    "print(metrics.classification_report(y_test, pred[1]))"
   ]
  },
  {
   "cell_type": "code",
   "execution_count": 88,
   "metadata": {},
   "outputs": [
    {
     "name": "stdout",
     "output_type": "stream",
     "text": [
      "Stacked Heterogeneous Ensemble On Test Data \n",
      "---------------------\n",
      "\n",
      "              precision    recall  f1-score   support\n",
      "\n",
      "           1       0.94      0.98      0.96       425\n",
      "           2       0.88      0.94      0.91       411\n",
      "           3       0.99      0.98      0.99       393\n",
      "           4       1.00      0.99      0.99       406\n",
      "           5       0.92      0.94      0.93       393\n",
      "           6       0.95      0.91      0.93       380\n",
      "           7       1.00      1.00      1.00       395\n",
      "           8       0.94      0.92      0.93       390\n",
      "           9       0.96      0.97      0.96       401\n",
      "          10       0.92      0.86      0.89       394\n",
      "          11       1.00      1.00      1.00       401\n",
      "\n",
      "    accuracy                           0.95      4389\n",
      "   macro avg       0.95      0.95      0.95      4389\n",
      "weighted avg       0.95      0.95      0.95      4389\n",
      "\n"
     ]
    }
   ],
   "source": [
    "print(\"Stacked Heterogeneous Ensemble On Test Data \\n---------------------\\n\")\n",
    "print(metrics.classification_report(y_test, pred[0]))"
   ]
  },
  {
   "cell_type": "code",
   "execution_count": 92,
   "metadata": {},
   "outputs": [
    {
     "data": {
      "text/plain": [
       "([<matplotlib.axis.XTick at 0x7fa7697edd60>,\n",
       "  <matplotlib.axis.XTick at 0x7fa7697ed520>,\n",
       "  <matplotlib.axis.XTick at 0x7fa739ec6f70>,\n",
       "  <matplotlib.axis.XTick at 0x7fa76980a2e0>],\n",
       " [Text(0.0, 0, 'StackedHeterogeneousEnsembleClassifier'),\n",
       "  Text(0.1, 0, 'HeterogeneousEnsembleClassifier'),\n",
       "  Text(0.2, 0, 'Single Classifier'),\n",
       "  Text(0.3, 0, 'Bagged Classifier')])"
      ]
     },
     "execution_count": 92,
     "metadata": {},
     "output_type": "execute_result"
    },
    {
     "data": {
      "image/png": "[encoded data removed]",
      "text/plain": [
       "<Figure size 432x288 with 1 Axes>"
      ]
     },
     "metadata": {
      "needs_background": "light"
     },
     "output_type": "display_data"
    }
   ],
   "source": [
    "X = np.arange(1)\n",
    "plt.grid(color='g', alpha = 0.2, linestyle='--', linewidth=1)\n",
    "plt.bar(X + 0.00, acc[0], color = 'darkblue', alpha=0.5, width = 0.05)\n",
    "plt.bar(X + 0.10, acc[1], color = 'teal', alpha=0.5, width = 0.05)\n",
    "plt.bar(X + 0.20, acc[2], color = 'indigo', alpha=0.5, width = 0.05)\n",
    "plt.bar(X + 0.30, acc[3], color = 'lightblue', alpha=0.5, width = 0.05)\n",
    "plt.ylim(.9, 1.0)\n",
    "plt.title(\"Accuracy on Test Data\")\n",
    "plt.ylabel(\"Accuracy\")\n",
    "plt.xticks(ticks=[0,0.1,0.2,0.3],\n",
    "           rotation=90,\n",
    "           labels=[\"StackedHeterogeneousEnsembleClassifier\",\"HeterogeneousEnsembleClassifier\",\"Single Classifier\",\"Bagged Classifier\"])"
   ]
  },
  {
   "cell_type": "markdown",
   "metadata": {},
   "source": [
    "Overall performance is extremely close between all four classifiers, with even the untuned base classifier receiving an accuracy score of 95%, and the difference between first and last being less than 1%. Overall, the heterogeneous classifier has won out, with the stacked classifier performing the worst in this context."
   ]
  },
  {
   "cell_type": "markdown",
   "metadata": {},
   "source": [
    "## Task 4: Reflect on the Performance of the Different Models Evaluated"
   ]
  },
  {
   "cell_type": "markdown",
   "metadata": {},
   "source": [
    "- Although it appears the stacked and non-stacked ensembles have a great gap in performance (ranked last and first respectively), when we look at the accuracy scores there is less than 1% difference. In general though, their performance has been inconsistent and during testing they were sometimes outperformed by the untuned boosted classifier or untuned base classifier.\n",
    "\n",
    "- Over both classifiers can be computationally slow, although it must be noted their overall speed depends significantly on which base classifier is selected for use.\n",
    "\n",
    "- The use of a cartesian join in the generation of parameter combinations vis computationally expensive. I have not been able to find a definitive source citing the complexity of the itertools.product package, but I imagine it would have to be at least O(k)^2, where k is the number of hyper-parameters given. I did not find a way to optimise this step while preserving a truly random selection of hyper-parameters, so I decided to sacrifice computational cost for performance. \n",
    "\n",
    "- The stacked classifier involves two extra computational steps; iterating through and \ttransforming the ensemble predictions into a new dataset (both in the fit and the  predict stages), and training the stacked layer. Given that the stacked ensemble does not consistently outperform the non-stacked ensemble, these extra steps are difficult to justify.\n",
    "\n",
    "- I do wonder if the data for the stacked classifier is falling foul of the curse of dimensionality, but am unsure how to test that hypothesis.\n",
    "\n",
    "- The aggregation step in the non-stacked classifier could be computationally optimised by using a tool such as scipy.stats.mode. The issue with this package is that for multimodal data, it will always select the smaller number, which could potentially create a new bias in the data. E.g. If a number of queries had 50/50 splits between class 0 and class 1, class 0 would always predicted. Currently if there is a “draw” for the most frequent response, it is selected at random, but this verification is an extra computational step.\n",
    "\n",
    "- Personally, in terms of code design, I would prefer to merge these two classifiers into one, where the stacked layer is an option to be turned on/off at initialisation. This would not have an effect on performance, but would reduce repeated code. "
   ]
  },
  {
   "cell_type": "code",
   "execution_count": null,
   "metadata": {},
   "outputs": [],
   "source": []
  }
 ],
 "metadata": {
  "kernelspec": {
   "display_name": "Python 3",
   "language": "python",
   "name": "python3"
  },
  "language_info": {
   "codemirror_mode": {
    "name": "ipython",
    "version": 3
   },
   "file_extension": ".py",
   "mimetype": "text/x-python",
   "name": "python",
   "nbconvert_exporter": "python",
   "pygments_lexer": "ipython3",
   "version": "3.8.5"
  }
 },
 "nbformat": 4,
 "nbformat_minor": 2
}
